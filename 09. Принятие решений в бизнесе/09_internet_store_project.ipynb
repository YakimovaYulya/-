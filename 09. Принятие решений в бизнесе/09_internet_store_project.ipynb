{
 "cells": [
  {
   "cell_type": "markdown",
   "id": "3fadf125",
   "metadata": {
    "toc": true
   },
   "source": [
    "<h1>Table of Contents<span class=\"tocSkip\"></span></h1>\n",
    "<div class=\"toc\"><ul class=\"toc-item\"><li><span><a href=\"#Приоритизация-гипотез\" data-toc-modified-id=\"Приоритизация-гипотез-1\"><span class=\"toc-item-num\">1&nbsp;&nbsp;</span>Приоритизация гипотез</a></span><ul class=\"toc-item\"><li><span><a href=\"#Обзор-и-предобработка-данных\" data-toc-modified-id=\"Обзор-и-предобработка-данных-1.1\"><span class=\"toc-item-num\">1.1&nbsp;&nbsp;</span>Обзор и предобработка данных</a></span></li><li><span><a href=\"#Фреймворк-ICE-для-приоритизации-гипотез\" data-toc-modified-id=\"Фреймворк-ICE-для-приоритизации-гипотез-1.2\"><span class=\"toc-item-num\">1.2&nbsp;&nbsp;</span>Фреймворк ICE для приоритизации гипотез</a></span></li><li><span><a href=\"#Фреймворк-RICE-для-приоритизации-гипотез\" data-toc-modified-id=\"Фреймворк-RICE-для-приоритизации-гипотез-1.3\"><span class=\"toc-item-num\">1.3&nbsp;&nbsp;</span>Фреймворк RICE для приоритизации гипотез</a></span></li></ul></li><li><span><a href=\"#Анализ-A/B-теста\" data-toc-modified-id=\"Анализ-A/B-теста-2\"><span class=\"toc-item-num\">2&nbsp;&nbsp;</span>Анализ A/B-теста</a></span><ul class=\"toc-item\"><li><span><a href=\"#Обзор-и-предобработка-данных\" data-toc-modified-id=\"Обзор-и-предобработка-данных-2.1\"><span class=\"toc-item-num\">2.1&nbsp;&nbsp;</span>Обзор и предобработка данных</a></span></li><li><span><a href=\"#График-кумулятивной-выручки-по-группам\" data-toc-modified-id=\"График-кумулятивной-выручки-по-группам-2.2\"><span class=\"toc-item-num\">2.2&nbsp;&nbsp;</span>График кумулятивной выручки по группам</a></span></li><li><span><a href=\"#График-кумулятивного-среднего-чека-по-группам\" data-toc-modified-id=\"График-кумулятивного-среднего-чека-по-группам-2.3\"><span class=\"toc-item-num\">2.3&nbsp;&nbsp;</span>График кумулятивного среднего чека по группам</a></span></li><li><span><a href=\"#График-относительного-изменения-кумулятивного-среднего-чека-группы-B-к-группе-A\" data-toc-modified-id=\"График-относительного-изменения-кумулятивного-среднего-чека-группы-B-к-группе-A-2.4\"><span class=\"toc-item-num\">2.4&nbsp;&nbsp;</span>График относительного изменения кумулятивного среднего чека группы B к группе A</a></span></li><li><span><a href=\"#График-кумулятивного-среднего-количества-заказов-на-посетителя-по-группам\" data-toc-modified-id=\"График-кумулятивного-среднего-количества-заказов-на-посетителя-по-группам-2.5\"><span class=\"toc-item-num\">2.5&nbsp;&nbsp;</span>График кумулятивного среднего количества заказов на посетителя по группам</a></span></li><li><span><a href=\"#График-относительного-изменения-кумулятивного-среднего-количества-заказов-на-посетителя-группы-B-к-группе-A\" data-toc-modified-id=\"График-относительного-изменения-кумулятивного-среднего-количества-заказов-на-посетителя-группы-B-к-группе-A-2.6\"><span class=\"toc-item-num\">2.6&nbsp;&nbsp;</span>График относительного изменения кумулятивного среднего количества заказов на посетителя группы B к группе A</a></span></li><li><span><a href=\"#Точечный-график-количества-заказов-по-пользователям\" data-toc-modified-id=\"Точечный-график-количества-заказов-по-пользователям-2.7\"><span class=\"toc-item-num\">2.7&nbsp;&nbsp;</span>Точечный график количества заказов по пользователям</a></span></li><li><span><a href=\"#Границы-для-определения-аномальных-пользователей\" data-toc-modified-id=\"Границы-для-определения-аномальных-пользователей-2.8\"><span class=\"toc-item-num\">2.8&nbsp;&nbsp;</span>Границы для определения аномальных пользователей</a></span></li><li><span><a href=\"#Точечный-график-стоимостей-заказов\" data-toc-modified-id=\"Точечный-график-стоимостей-заказов-2.9\"><span class=\"toc-item-num\">2.9&nbsp;&nbsp;</span>Точечный график стоимостей заказов</a></span></li><li><span><a href=\"#Границы-для-определения-аномальных-заказов\" data-toc-modified-id=\"Границы-для-определения-аномальных-заказов-2.10\"><span class=\"toc-item-num\">2.10&nbsp;&nbsp;</span>Границы для определения аномальных заказов</a></span></li><li><span><a href=\"#Статистическая-значимость-различий-в-среднем-количестве-заказов-на-посетителя-между-группами-по-«сырым»-данным\" data-toc-modified-id=\"Статистическая-значимость-различий-в-среднем-количестве-заказов-на-посетителя-между-группами-по-«сырым»-данным-2.11\"><span class=\"toc-item-num\">2.11&nbsp;&nbsp;</span>Статистическая значимость различий в среднем количестве заказов на посетителя между группами по «сырым» данным</a></span></li><li><span><a href=\"#Статистическая-значимость-различий-в-среднем-чеке-заказа-между-группами-по-«сырым»-данным\" data-toc-modified-id=\"Статистическая-значимость-различий-в-среднем-чеке-заказа-между-группами-по-«сырым»-данным-2.12\"><span class=\"toc-item-num\">2.12&nbsp;&nbsp;</span>Статистическая значимость различий в среднем чеке заказа между группами по «сырым» данным</a></span></li><li><span><a href=\"#Статистическая-значимость-различий-в-среднем-количестве-заказов-на-посетителя-между-группами-по-«очищенным»-данным\" data-toc-modified-id=\"Статистическая-значимость-различий-в-среднем-количестве-заказов-на-посетителя-между-группами-по-«очищенным»-данным-2.13\"><span class=\"toc-item-num\">2.13&nbsp;&nbsp;</span>Статистическая значимость различий в среднем количестве заказов на посетителя между группами по «очищенным» данным</a></span></li><li><span><a href=\"#Статистическая-значимость-различий-в-среднем-чеке-заказа-между-группами-по-«очищенным»-данным\" data-toc-modified-id=\"Статистическая-значимость-различий-в-среднем-чеке-заказа-между-группами-по-«очищенным»-данным-2.14\"><span class=\"toc-item-num\">2.14&nbsp;&nbsp;</span>Статистическая значимость различий в среднем чеке заказа между группами по «очищенным» данным</a></span></li><li><span><a href=\"#Решения-по-результатам-теста\" data-toc-modified-id=\"Решения-по-результатам-теста-2.15\"><span class=\"toc-item-num\">2.15&nbsp;&nbsp;</span>Решения по результатам теста</a></span></li></ul></li><li><span><a href=\"#Общий-вывод\" data-toc-modified-id=\"Общий-вывод-3\"><span class=\"toc-item-num\">3&nbsp;&nbsp;</span>Общий вывод</a></span></li></ul></div>"
   ]
  },
  {
   "cell_type": "markdown",
   "id": "867a94c0",
   "metadata": {},
   "source": [
    "# Аналитика в интернет-магазине"
   ]
  },
  {
   "cell_type": "markdown",
   "id": "be91d056",
   "metadata": {},
   "source": [
    "<a></a><font size=\"4\"><b>Описание проекта</b></font><br/>\n",
    "Вместе с отделом маркетинга мы подготовили список гипотез для увеличения выручки.\n",
    "В этом проекте мы приоритизируем гипотезы, запустим A/B-тест и проанализируем результаты.\n",
    "\n",
    "<a></a><font size=\"4\"><b>Часть 1. Приоритизация гипотез.</b></font><br/>\n",
    "\n",
    "**Задача**\n",
    "- Применим фреймворк ICE для приоритизации гипотез. Отсортируем их по убыванию приоритета.\n",
    "- Применим фреймворк RICE для приоритизации гипотез. Отсортируем их по убыванию приоритета.\n",
    "- Укажем, как изменилась приоритизация гипотез при применении RICE вместо ICE. Объясним, почему так произошло.\n",
    "\n",
    "<a></a><font size=\"4\"><b>Часть 2. Анализ A/B-теста</b></font><br/>\n",
    "\n",
    "Мы провели A/B-тест и получили результаты, которые описаны в файлах orders.csv и visitors.csv.\n",
    "\n",
    "**Задача**\n",
    "\n",
    "Проанализировать A/B-тест:\n",
    "1. Построим график кумулятивной выручки по группам. Сделаем выводы и предположения.\n",
    "2. Построим график кумулятивного среднего чека по группам. Сделаем выводы и предположения.\n",
    "3. Построим график относительного изменения кумулятивного среднего чека группы B к группе A. Сделаем выводы и предположения.\n",
    "4. Построим график кумулятивного среднего количества заказов на посетителя по группам. Сделаем выводы и предположения.\n",
    "5. Построим график относительного изменения кумулятивного среднего количества заказов на посетителя группы B к группе A. Сделаем выводы и предположения.\n",
    "6. Построим точечный график количества заказов по пользователям. Сделаем выводы и предположения.\n",
    "7. Посчитаем 95-й и 99-й перцентили количества заказов на пользователя. Выберем границу для определения аномальных пользователей.\n",
    "8. Построим точечный график стоимостей заказов. Сделаем выводы и предположения.\n",
    "9. Посчитаем 95-й и 99-й перцентили стоимости заказов. Выберем границу для определения аномальных заказов.\n",
    "10. Посчитайте статистическую значимость различий в среднем количестве заказов на посетителя между группами по «сырым» данным. Сделаем выводы и предположения.\n",
    "11. Посчитаем статистическую значимость различий в среднем чеке заказа между группами по «сырым» данным. Сделаем выводы и предположения.\n",
    "12. Посчитаем статистическую значимость различий в среднем количестве заказов на посетителя между группами по «очищенным» данным. Сделаем выводы и предположения.\n",
    "13. Посчитаем статистическую значимость различий в среднем чеке заказа между группами по «очищенным» данным. Сделаем выводы и предположения.\n",
    "14. Примим решение по результатам теста и объясните его. \n",
    "    Варианты решений: \n",
    "    1. Остановить тест, зафиксировать победу одной из групп. \n",
    "    2. Остановить тест, зафиксировать отсутствие различий между группами. \n",
    "    3. Продолжить тест."
   ]
  },
  {
   "cell_type": "markdown",
   "id": "1267fb49",
   "metadata": {},
   "source": [
    "<a></a><font size=\"4\"><b>Описание данных</b></font><br/>\n",
    "\n",
    "**Данные для первой части**\n",
    "\n",
    "Файл `hypothesis.csv`\n",
    "- `Hypothesis` — краткое описание гипотезы;\n",
    "- `Reach` — охват пользователей по 10-балльной шкале;\n",
    "- `Impact` — влияние на пользователей по 10-балльной шкале;\n",
    "- `Confidence` — уверенность в гипотезе по 10-балльной шкале;\n",
    "- `Efforts` — затраты ресурсов на проверку гипотезы по 10-балльной шкале. Чем больше значение `Efforts`, тем дороже проверка гипотезы.\n",
    "\n",
    "**Данные для второй части**\n",
    "\n",
    "Файл `orders.csv`\n",
    "- `transactionId` — идентификатор заказа;\n",
    "- `visitorId` — идентификатор пользователя, совершившего заказ;\n",
    "- `date` — дата, когда был совершён заказ;\n",
    "- `revenue` — выручка заказа;\n",
    "- `group` — группа A/B-теста, в которую попал заказ.\n",
    "\n",
    "Файл `visitors.csv`\n",
    "- `date` — дата;\n",
    "- `group` — группа A/B-теста;\n",
    "- `visitors` — количество пользователей в указанную дату в указанной группе A/B-теста\n"
   ]
  },
  {
   "cell_type": "markdown",
   "id": "21647732",
   "metadata": {},
   "source": [
    "## Приоритизация гипотез"
   ]
  },
  {
   "cell_type": "markdown",
   "id": "5b49c1d0",
   "metadata": {},
   "source": [
    "Гипотезы приоритизируем, чтобы сократить расходы на эксперименты и запустить тестирование только наиболее перспективных идей. Применим фреймворк ICE и RICE для приоритизации гипотез."
   ]
  },
  {
   "cell_type": "markdown",
   "id": "301a269d",
   "metadata": {},
   "source": [
    "### Обзор и предобработка данных"
   ]
  },
  {
   "cell_type": "markdown",
   "id": "84a8f816",
   "metadata": {},
   "source": [
    "Загрузим данные о гипотизах из CSV-файла в переменную.\n",
    "\n",
    "Загрузим библиотеки. Изучим данные и выполним предобработку. "
   ]
  },
  {
   "cell_type": "code",
   "execution_count": 1,
   "id": "49d2c74e",
   "metadata": {},
   "outputs": [],
   "source": [
    "# импорт библиотек\n",
    "import pandas as pd\n",
    "import scipy.stats as stats\n",
    "import datetime as dt\n",
    "import numpy as np\n",
    "import matplotlib.pyplot as plt\n",
    "import seaborn as sns\n",
    "import math\n"
   ]
  },
  {
   "cell_type": "code",
   "execution_count": 2,
   "id": "413ac495",
   "metadata": {},
   "outputs": [],
   "source": [
    "# чтение файла с данными и сохранение \n",
    "try:\n",
    "    df = pd.read_csv('hypothesis.csv')\n",
    "except:\n",
    "    df = pd.read_csv('https://code.s3.yandex.net/datasets/hypothesis.csv')\n"
   ]
  },
  {
   "cell_type": "code",
   "execution_count": 3,
   "id": "3d5eaa3c",
   "metadata": {},
   "outputs": [
    {
     "data": {
      "text/html": [
       "<div>\n",
       "<style scoped>\n",
       "    .dataframe tbody tr th:only-of-type {\n",
       "        vertical-align: middle;\n",
       "    }\n",
       "\n",
       "    .dataframe tbody tr th {\n",
       "        vertical-align: top;\n",
       "    }\n",
       "\n",
       "    .dataframe thead th {\n",
       "        text-align: right;\n",
       "    }\n",
       "</style>\n",
       "<table border=\"1\" class=\"dataframe\">\n",
       "  <thead>\n",
       "    <tr style=\"text-align: right;\">\n",
       "      <th></th>\n",
       "      <th>Hypothesis</th>\n",
       "      <th>Reach</th>\n",
       "      <th>Impact</th>\n",
       "      <th>Confidence</th>\n",
       "      <th>Efforts</th>\n",
       "    </tr>\n",
       "  </thead>\n",
       "  <tbody>\n",
       "    <tr>\n",
       "      <th>0</th>\n",
       "      <td>Добавить два новых канала привлечения трафика, что позволит привлекать на 30% больше пользователей</td>\n",
       "      <td>3</td>\n",
       "      <td>10</td>\n",
       "      <td>8</td>\n",
       "      <td>6</td>\n",
       "    </tr>\n",
       "    <tr>\n",
       "      <th>1</th>\n",
       "      <td>Запустить собственную службу доставки, что сократит срок доставки заказов</td>\n",
       "      <td>2</td>\n",
       "      <td>5</td>\n",
       "      <td>4</td>\n",
       "      <td>10</td>\n",
       "    </tr>\n",
       "    <tr>\n",
       "      <th>2</th>\n",
       "      <td>Добавить блоки рекомендаций товаров на сайт интернет магазина, чтобы повысить конверсию и средний чек заказа</td>\n",
       "      <td>8</td>\n",
       "      <td>3</td>\n",
       "      <td>7</td>\n",
       "      <td>3</td>\n",
       "    </tr>\n",
       "    <tr>\n",
       "      <th>3</th>\n",
       "      <td>Изменить структура категорий, что увеличит конверсию, т.к. пользователи быстрее найдут нужный товар</td>\n",
       "      <td>8</td>\n",
       "      <td>3</td>\n",
       "      <td>3</td>\n",
       "      <td>8</td>\n",
       "    </tr>\n",
       "    <tr>\n",
       "      <th>4</th>\n",
       "      <td>Изменить цвет фона главной страницы, чтобы увеличить вовлеченность пользователей</td>\n",
       "      <td>3</td>\n",
       "      <td>1</td>\n",
       "      <td>1</td>\n",
       "      <td>1</td>\n",
       "    </tr>\n",
       "    <tr>\n",
       "      <th>5</th>\n",
       "      <td>Добавить страницу отзывов клиентов о магазине, что позволит увеличить количество заказов</td>\n",
       "      <td>3</td>\n",
       "      <td>2</td>\n",
       "      <td>2</td>\n",
       "      <td>3</td>\n",
       "    </tr>\n",
       "    <tr>\n",
       "      <th>6</th>\n",
       "      <td>Показать на главной странице баннеры с актуальными акциями и распродажами, чтобы увеличить конверсию</td>\n",
       "      <td>5</td>\n",
       "      <td>3</td>\n",
       "      <td>8</td>\n",
       "      <td>3</td>\n",
       "    </tr>\n",
       "    <tr>\n",
       "      <th>7</th>\n",
       "      <td>Добавить форму подписки на все основные страницы, чтобы собрать базу клиентов для email-рассылок</td>\n",
       "      <td>10</td>\n",
       "      <td>7</td>\n",
       "      <td>8</td>\n",
       "      <td>5</td>\n",
       "    </tr>\n",
       "    <tr>\n",
       "      <th>8</th>\n",
       "      <td>Запустить акцию, дающую скидку на товар в день рождения</td>\n",
       "      <td>1</td>\n",
       "      <td>9</td>\n",
       "      <td>9</td>\n",
       "      <td>5</td>\n",
       "    </tr>\n",
       "  </tbody>\n",
       "</table>\n",
       "</div>"
      ],
      "text/plain": [
       "                                                                                                     Hypothesis  \\\n",
       "0            Добавить два новых канала привлечения трафика, что позволит привлекать на 30% больше пользователей   \n",
       "1                                     Запустить собственную службу доставки, что сократит срок доставки заказов   \n",
       "2  Добавить блоки рекомендаций товаров на сайт интернет магазина, чтобы повысить конверсию и средний чек заказа   \n",
       "3           Изменить структура категорий, что увеличит конверсию, т.к. пользователи быстрее найдут нужный товар   \n",
       "4                              Изменить цвет фона главной страницы, чтобы увеличить вовлеченность пользователей   \n",
       "5                      Добавить страницу отзывов клиентов о магазине, что позволит увеличить количество заказов   \n",
       "6          Показать на главной странице баннеры с актуальными акциями и распродажами, чтобы увеличить конверсию   \n",
       "7              Добавить форму подписки на все основные страницы, чтобы собрать базу клиентов для email-рассылок   \n",
       "8                                                       Запустить акцию, дающую скидку на товар в день рождения   \n",
       "\n",
       "   Reach  Impact  Confidence  Efforts  \n",
       "0      3      10           8        6  \n",
       "1      2       5           4       10  \n",
       "2      8       3           7        3  \n",
       "3      8       3           3        8  \n",
       "4      3       1           1        1  \n",
       "5      3       2           2        3  \n",
       "6      5       3           8        3  \n",
       "7     10       7           8        5  \n",
       "8      1       9           9        5  "
      ]
     },
     "execution_count": 3,
     "metadata": {},
     "output_type": "execute_result"
    }
   ],
   "source": [
    "#изучим файл с гипотезами и оценками параметров\n",
    "pd.set_option('display.max_colwidth', None)\n",
    "df"
   ]
  },
  {
   "cell_type": "code",
   "execution_count": 4,
   "id": "5dba2f40",
   "metadata": {},
   "outputs": [],
   "source": [
    "# переименуем столбцы\n",
    "df.columns = ['hypothesis', 'reach', 'impact', 'confidence', 'efforts']"
   ]
  },
  {
   "cell_type": "markdown",
   "id": "e96549c5",
   "metadata": {},
   "source": [
    "**Вывод:**\n",
    "- необходимо приоритизировать 9 гипотиз\n",
    "- названия столбцов привели к нижнему регистру"
   ]
  },
  {
   "cell_type": "markdown",
   "id": "b52418e3",
   "metadata": {},
   "source": [
    "### Фреймворк ICE для приоритизации гипотез"
   ]
  },
  {
   "cell_type": "markdown",
   "id": "392799cc",
   "metadata": {},
   "source": [
    "ICE (от англ. impact, confidence, effort / ease «влияние, уверенность, усилия / простота») — один из самых популярных способов приоритизации задач:\n",
    "`ICE` = `Impact` * `Confidence` / `Efforts` \n",
    "\n",
    "- `Impact` — влияние на пользователей по 10-балльной шкале;\n",
    "- `Confidence` — уверенность в гипотезе по 10-балльной шкале;\n",
    "- `Efforts` — затраты ресурсов на проверку гипотезы по 10-балльной шкале. Чем больше значение `Efforts`, тем дороже\n",
    "\n",
    "\n",
    "Посчитаем ICE для гипотез. Добавим полученные значения ICE к существующей таблице. Новый столбец назовем ICE.\n",
    "Выведем столбцы 'hypothesis' и 'ICE', отсортированные по столбцу 'ICE'."
   ]
  },
  {
   "cell_type": "code",
   "execution_count": 5,
   "id": "f475b897",
   "metadata": {},
   "outputs": [
    {
     "data": {
      "text/html": [
       "<div>\n",
       "<style scoped>\n",
       "    .dataframe tbody tr th:only-of-type {\n",
       "        vertical-align: middle;\n",
       "    }\n",
       "\n",
       "    .dataframe tbody tr th {\n",
       "        vertical-align: top;\n",
       "    }\n",
       "\n",
       "    .dataframe thead th {\n",
       "        text-align: right;\n",
       "    }\n",
       "</style>\n",
       "<table border=\"1\" class=\"dataframe\">\n",
       "  <thead>\n",
       "    <tr style=\"text-align: right;\">\n",
       "      <th></th>\n",
       "      <th>hypothesis</th>\n",
       "      <th>ICE</th>\n",
       "    </tr>\n",
       "  </thead>\n",
       "  <tbody>\n",
       "    <tr>\n",
       "      <th>8</th>\n",
       "      <td>Запустить акцию, дающую скидку на товар в день рождения</td>\n",
       "      <td>16.200000</td>\n",
       "    </tr>\n",
       "    <tr>\n",
       "      <th>0</th>\n",
       "      <td>Добавить два новых канала привлечения трафика, что позволит привлекать на 30% больше пользователей</td>\n",
       "      <td>13.333333</td>\n",
       "    </tr>\n",
       "    <tr>\n",
       "      <th>7</th>\n",
       "      <td>Добавить форму подписки на все основные страницы, чтобы собрать базу клиентов для email-рассылок</td>\n",
       "      <td>11.200000</td>\n",
       "    </tr>\n",
       "    <tr>\n",
       "      <th>6</th>\n",
       "      <td>Показать на главной странице баннеры с актуальными акциями и распродажами, чтобы увеличить конверсию</td>\n",
       "      <td>8.000000</td>\n",
       "    </tr>\n",
       "    <tr>\n",
       "      <th>2</th>\n",
       "      <td>Добавить блоки рекомендаций товаров на сайт интернет магазина, чтобы повысить конверсию и средний чек заказа</td>\n",
       "      <td>7.000000</td>\n",
       "    </tr>\n",
       "    <tr>\n",
       "      <th>1</th>\n",
       "      <td>Запустить собственную службу доставки, что сократит срок доставки заказов</td>\n",
       "      <td>2.000000</td>\n",
       "    </tr>\n",
       "    <tr>\n",
       "      <th>5</th>\n",
       "      <td>Добавить страницу отзывов клиентов о магазине, что позволит увеличить количество заказов</td>\n",
       "      <td>1.333333</td>\n",
       "    </tr>\n",
       "    <tr>\n",
       "      <th>3</th>\n",
       "      <td>Изменить структура категорий, что увеличит конверсию, т.к. пользователи быстрее найдут нужный товар</td>\n",
       "      <td>1.125000</td>\n",
       "    </tr>\n",
       "    <tr>\n",
       "      <th>4</th>\n",
       "      <td>Изменить цвет фона главной страницы, чтобы увеличить вовлеченность пользователей</td>\n",
       "      <td>1.000000</td>\n",
       "    </tr>\n",
       "  </tbody>\n",
       "</table>\n",
       "</div>"
      ],
      "text/plain": [
       "                                                                                                     hypothesis  \\\n",
       "8                                                       Запустить акцию, дающую скидку на товар в день рождения   \n",
       "0            Добавить два новых канала привлечения трафика, что позволит привлекать на 30% больше пользователей   \n",
       "7              Добавить форму подписки на все основные страницы, чтобы собрать базу клиентов для email-рассылок   \n",
       "6          Показать на главной странице баннеры с актуальными акциями и распродажами, чтобы увеличить конверсию   \n",
       "2  Добавить блоки рекомендаций товаров на сайт интернет магазина, чтобы повысить конверсию и средний чек заказа   \n",
       "1                                     Запустить собственную службу доставки, что сократит срок доставки заказов   \n",
       "5                      Добавить страницу отзывов клиентов о магазине, что позволит увеличить количество заказов   \n",
       "3           Изменить структура категорий, что увеличит конверсию, т.к. пользователи быстрее найдут нужный товар   \n",
       "4                              Изменить цвет фона главной страницы, чтобы увеличить вовлеченность пользователей   \n",
       "\n",
       "         ICE  \n",
       "8  16.200000  \n",
       "0  13.333333  \n",
       "7  11.200000  \n",
       "6   8.000000  \n",
       "2   7.000000  \n",
       "1   2.000000  \n",
       "5   1.333333  \n",
       "3   1.125000  \n",
       "4   1.000000  "
      ]
     },
     "execution_count": 5,
     "metadata": {},
     "output_type": "execute_result"
    }
   ],
   "source": [
    "# посчитаем ICE для гипотез\n",
    "df['ICE'] = df['impact'] * df['confidence'] / df['efforts']\n",
    "\n",
    "df[['hypothesis', 'ICE']].sort_values(by='ICE', ascending=False)"
   ]
  },
  {
   "cell_type": "code",
   "execution_count": 6,
   "id": "6ca70f48",
   "metadata": {},
   "outputs": [
    {
     "data": {
      "image/png": "[encoded data removed]",
      "text/plain": [
       "<Figure size 432x288 with 1 Axes>"
      ]
     },
     "metadata": {
      "needs_background": "light"
     },
     "output_type": "display_data"
    }
   ],
   "source": [
    "df[['hypothesis', 'ICE']].set_index('hypothesis').sort_values('ICE', ascending=True).plot(kind='barh')\n",
    "plt.xlabel('Приоритет')\n",
    "plt.ylabel('Гипотеза')\n",
    "plt.title('ICE')\n",
    "plt.show()"
   ]
  },
  {
   "cell_type": "markdown",
   "id": "eaaebda5",
   "metadata": {},
   "source": [
    "**Вывод:**\n",
    "\n",
    "Наиболее перспективные гипотизы по ICE: \n",
    "- 8: Запустить акцию, дающую скидку на товар в день рождения,\n",
    "- 0: Добавить два новых канала привлечения трафика, что позволит привлекать на 30% больше пользователей\n",
    "- 7: Добавить форму подписки на все основные страницы, чтобы собрать базу клиентов для email-рассылок\n",
    "- 6: Показать на главной странице баннеры с актуальными акциями и распродажами, чтобы увеличить конверсию\n",
    "- 2: Добавить блоки рекомендаций товаров на сайт интернет магазина, чтобы повысить конверсию и средний чек заказа\t\n",
    "    "
   ]
  },
  {
   "cell_type": "markdown",
   "id": "f55344f4",
   "metadata": {},
   "source": [
    "### Фреймворк RICE для приоритизации гипотез"
   ]
  },
  {
   "cell_type": "markdown",
   "id": "a0b2f8f5",
   "metadata": {},
   "source": [
    "У ICE метода есть модификация RICE (R от англ. reach, «охват»):\n",
    "`RICE` = `Reach` * `Impact` * `Confidence` / `Efforts`\n",
    "\n",
    "- `Reach` — охват пользователей по 10-балльной шкале;\n",
    "- `Impact` — влияние на пользователей по 10-балльной шкале;\n",
    "- `Confidence` — уверенность в гипотезе по 10-балльной шкале;\n",
    "- `Efforts` — затраты ресурсов на проверку гипотезы по 10-балльной шкале. Чем больше значение Efforts, тем дороже\n",
    "\n",
    "\n",
    "Посчитаемп RICE для гипотез. Добавим полученные значения RICE к существующей таблице. Новый столбец назовем RICE.\n",
    "Выведем из получившейся таблицы столбцы 'hypothesis' и 'RICE', отсортированные по столбцу 'RICE'."
   ]
  },
  {
   "cell_type": "code",
   "execution_count": 7,
   "id": "ef4f70cc",
   "metadata": {},
   "outputs": [
    {
     "data": {
      "text/html": [
       "<div>\n",
       "<style scoped>\n",
       "    .dataframe tbody tr th:only-of-type {\n",
       "        vertical-align: middle;\n",
       "    }\n",
       "\n",
       "    .dataframe tbody tr th {\n",
       "        vertical-align: top;\n",
       "    }\n",
       "\n",
       "    .dataframe thead th {\n",
       "        text-align: right;\n",
       "    }\n",
       "</style>\n",
       "<table border=\"1\" class=\"dataframe\">\n",
       "  <thead>\n",
       "    <tr style=\"text-align: right;\">\n",
       "      <th></th>\n",
       "      <th>hypothesis</th>\n",
       "      <th>RICE</th>\n",
       "    </tr>\n",
       "  </thead>\n",
       "  <tbody>\n",
       "    <tr>\n",
       "      <th>7</th>\n",
       "      <td>Добавить форму подписки на все основные страницы, чтобы собрать базу клиентов для email-рассылок</td>\n",
       "      <td>112.0</td>\n",
       "    </tr>\n",
       "    <tr>\n",
       "      <th>2</th>\n",
       "      <td>Добавить блоки рекомендаций товаров на сайт интернет магазина, чтобы повысить конверсию и средний чек заказа</td>\n",
       "      <td>56.0</td>\n",
       "    </tr>\n",
       "    <tr>\n",
       "      <th>0</th>\n",
       "      <td>Добавить два новых канала привлечения трафика, что позволит привлекать на 30% больше пользователей</td>\n",
       "      <td>40.0</td>\n",
       "    </tr>\n",
       "    <tr>\n",
       "      <th>6</th>\n",
       "      <td>Показать на главной странице баннеры с актуальными акциями и распродажами, чтобы увеличить конверсию</td>\n",
       "      <td>40.0</td>\n",
       "    </tr>\n",
       "    <tr>\n",
       "      <th>8</th>\n",
       "      <td>Запустить акцию, дающую скидку на товар в день рождения</td>\n",
       "      <td>16.2</td>\n",
       "    </tr>\n",
       "    <tr>\n",
       "      <th>3</th>\n",
       "      <td>Изменить структура категорий, что увеличит конверсию, т.к. пользователи быстрее найдут нужный товар</td>\n",
       "      <td>9.0</td>\n",
       "    </tr>\n",
       "    <tr>\n",
       "      <th>1</th>\n",
       "      <td>Запустить собственную службу доставки, что сократит срок доставки заказов</td>\n",
       "      <td>4.0</td>\n",
       "    </tr>\n",
       "    <tr>\n",
       "      <th>5</th>\n",
       "      <td>Добавить страницу отзывов клиентов о магазине, что позволит увеличить количество заказов</td>\n",
       "      <td>4.0</td>\n",
       "    </tr>\n",
       "    <tr>\n",
       "      <th>4</th>\n",
       "      <td>Изменить цвет фона главной страницы, чтобы увеличить вовлеченность пользователей</td>\n",
       "      <td>3.0</td>\n",
       "    </tr>\n",
       "  </tbody>\n",
       "</table>\n",
       "</div>"
      ],
      "text/plain": [
       "                                                                                                     hypothesis  \\\n",
       "7              Добавить форму подписки на все основные страницы, чтобы собрать базу клиентов для email-рассылок   \n",
       "2  Добавить блоки рекомендаций товаров на сайт интернет магазина, чтобы повысить конверсию и средний чек заказа   \n",
       "0            Добавить два новых канала привлечения трафика, что позволит привлекать на 30% больше пользователей   \n",
       "6          Показать на главной странице баннеры с актуальными акциями и распродажами, чтобы увеличить конверсию   \n",
       "8                                                       Запустить акцию, дающую скидку на товар в день рождения   \n",
       "3           Изменить структура категорий, что увеличит конверсию, т.к. пользователи быстрее найдут нужный товар   \n",
       "1                                     Запустить собственную службу доставки, что сократит срок доставки заказов   \n",
       "5                      Добавить страницу отзывов клиентов о магазине, что позволит увеличить количество заказов   \n",
       "4                              Изменить цвет фона главной страницы, чтобы увеличить вовлеченность пользователей   \n",
       "\n",
       "    RICE  \n",
       "7  112.0  \n",
       "2   56.0  \n",
       "0   40.0  \n",
       "6   40.0  \n",
       "8   16.2  \n",
       "3    9.0  \n",
       "1    4.0  \n",
       "5    4.0  \n",
       "4    3.0  "
      ]
     },
     "execution_count": 7,
     "metadata": {},
     "output_type": "execute_result"
    }
   ],
   "source": [
    "# посчитаем RICE для гипотез\n",
    "df['RICE'] = df['reach'] * df['impact'] * df['confidence'] / df['efforts']\n",
    "\n",
    "df[['hypothesis', 'RICE']].sort_values(by='RICE', ascending=False)"
   ]
  },
  {
   "cell_type": "code",
   "execution_count": 8,
   "id": "69e3c370",
   "metadata": {},
   "outputs": [
    {
     "data": {
      "image/png": "[encoded data removed]",
      "text/plain": [
       "<Figure size 432x288 with 1 Axes>"
      ]
     },
     "metadata": {
      "needs_background": "light"
     },
     "output_type": "display_data"
    }
   ],
   "source": [
    "df[['hypothesis', 'RICE']].set_index('hypothesis').sort_values('RICE', ascending=True).plot(kind='barh')\n",
    "plt.xlabel('Приоритет')\n",
    "plt.ylabel('Гипотеза')\n",
    "plt.title('RICE')\n",
    "plt.show()"
   ]
  },
  {
   "cell_type": "markdown",
   "id": "e5a1e45c",
   "metadata": {},
   "source": [
    "**Вывод:**\n",
    "\n",
    "Наиболее перспективные гипотизы по RICE: \n",
    "- 7: Добавить форму подписки на все основные страницы, чтобы собрать базу клиентов для email-рассылок\n",
    "- 2: Добавить блоки рекомендаций товаров на сайт интернет магазина, чтобы повысить конверсию и средний чек заказа\n",
    "- 0: Добавить два новых канала привлечения трафика, что позволит привлекать на 30% больше пользователей    \n",
    "- 6: Показать на главной странице баннеры с актуальными акциями и распродажами, чтобы увеличить конверсию\n",
    "- 8: Запустить акцию, дающую скидку на товар в день рождения"
   ]
  },
  {
   "cell_type": "markdown",
   "id": "96dbc001",
   "metadata": {},
   "source": [
    "Результаты приоретизации по ICE и RICE проранжируем, объеденим в единую таблицу для наглядности и выделим цветом:"
   ]
  },
  {
   "cell_type": "code",
   "execution_count": 9,
   "id": "71d0b8ad",
   "metadata": {},
   "outputs": [
    {
     "data": {
      "text/html": [
       "<style  type=\"text/css\" >\n",
       "#T_56a4e_row0_col0,#T_56a4e_row1_col0,#T_56a4e_row2_col0,#T_56a4e_row3_col0,#T_56a4e_row4_col0{\n",
       "            color:  blue;\n",
       "        }#T_56a4e_row0_col1{\n",
       "            background-color:  #c6e9b4;\n",
       "            color:  #000000;\n",
       "        }#T_56a4e_row0_col2,#T_56a4e_row4_col1{\n",
       "            background-color:  #ffffd9;\n",
       "            color:  #000000;\n",
       "        }#T_56a4e_row1_col1,#T_56a4e_row4_col2{\n",
       "            background-color:  #40b5c4;\n",
       "            color:  #000000;\n",
       "        }#T_56a4e_row1_col2,#T_56a4e_row2_col1{\n",
       "            background-color:  #edf8b1;\n",
       "            color:  #000000;\n",
       "        }#T_56a4e_row2_col2,#T_56a4e_row3_col2{\n",
       "            background-color:  #a2dbb8;\n",
       "            color:  #000000;\n",
       "        }#T_56a4e_row3_col1{\n",
       "            background-color:  #7ecdbb;\n",
       "            color:  #000000;\n",
       "        }#T_56a4e_row5_col1{\n",
       "            background-color:  #243392;\n",
       "            color:  #f1f1f1;\n",
       "        }#T_56a4e_row5_col2,#T_56a4e_row6_col1{\n",
       "            background-color:  #1d90c0;\n",
       "            color:  #000000;\n",
       "        }#T_56a4e_row6_col2,#T_56a4e_row7_col2{\n",
       "            background-color:  #24489d;\n",
       "            color:  #f1f1f1;\n",
       "        }#T_56a4e_row7_col1{\n",
       "            background-color:  #225da8;\n",
       "            color:  #f1f1f1;\n",
       "        }#T_56a4e_row8_col1,#T_56a4e_row8_col2{\n",
       "            background-color:  #081d58;\n",
       "            color:  #f1f1f1;\n",
       "        }</style><table id=\"T_56a4e_\" ><thead>    <tr>        <th class=\"blank level0\" ></th>        <th class=\"col_heading level0 col0\" >hypothesis</th>        <th class=\"col_heading level0 col1\" >ICE_rank</th>        <th class=\"col_heading level0 col2\" >RICE_rank</th>    </tr></thead><tbody>\n",
       "                <tr>\n",
       "                        <th id=\"T_56a4e_level0_row0\" class=\"row_heading level0 row0\" >7</th>\n",
       "                        <td id=\"T_56a4e_row0_col0\" class=\"data row0 col0\" >Добавить форму подписки на все основные страницы, чтобы собрать базу клиентов для email-рассылок</td>\n",
       "                        <td id=\"T_56a4e_row0_col1\" class=\"data row0 col1\" >3</td>\n",
       "                        <td id=\"T_56a4e_row0_col2\" class=\"data row0 col2\" >1</td>\n",
       "            </tr>\n",
       "            <tr>\n",
       "                        <th id=\"T_56a4e_level0_row1\" class=\"row_heading level0 row1\" >2</th>\n",
       "                        <td id=\"T_56a4e_row1_col0\" class=\"data row1 col0\" >Добавить блоки рекомендаций товаров на сайт интернет магазина, чтобы повысить конверсию и средний чек заказа</td>\n",
       "                        <td id=\"T_56a4e_row1_col1\" class=\"data row1 col1\" >5</td>\n",
       "                        <td id=\"T_56a4e_row1_col2\" class=\"data row1 col2\" >2</td>\n",
       "            </tr>\n",
       "            <tr>\n",
       "                        <th id=\"T_56a4e_level0_row2\" class=\"row_heading level0 row2\" >0</th>\n",
       "                        <td id=\"T_56a4e_row2_col0\" class=\"data row2 col0\" >Добавить два новых канала привлечения трафика, что позволит привлекать на 30% больше пользователей</td>\n",
       "                        <td id=\"T_56a4e_row2_col1\" class=\"data row2 col1\" >2</td>\n",
       "                        <td id=\"T_56a4e_row2_col2\" class=\"data row2 col2\" >4</td>\n",
       "            </tr>\n",
       "            <tr>\n",
       "                        <th id=\"T_56a4e_level0_row3\" class=\"row_heading level0 row3\" >6</th>\n",
       "                        <td id=\"T_56a4e_row3_col0\" class=\"data row3 col0\" >Показать на главной странице баннеры с актуальными акциями и распродажами, чтобы увеличить конверсию</td>\n",
       "                        <td id=\"T_56a4e_row3_col1\" class=\"data row3 col1\" >4</td>\n",
       "                        <td id=\"T_56a4e_row3_col2\" class=\"data row3 col2\" >4</td>\n",
       "            </tr>\n",
       "            <tr>\n",
       "                        <th id=\"T_56a4e_level0_row4\" class=\"row_heading level0 row4\" >8</th>\n",
       "                        <td id=\"T_56a4e_row4_col0\" class=\"data row4 col0\" >Запустить акцию, дающую скидку на товар в день рождения</td>\n",
       "                        <td id=\"T_56a4e_row4_col1\" class=\"data row4 col1\" >1</td>\n",
       "                        <td id=\"T_56a4e_row4_col2\" class=\"data row4 col2\" >5</td>\n",
       "            </tr>\n",
       "            <tr>\n",
       "                        <th id=\"T_56a4e_level0_row5\" class=\"row_heading level0 row5\" >3</th>\n",
       "                        <td id=\"T_56a4e_row5_col0\" class=\"data row5 col0\" >Изменить структура категорий, что увеличит конверсию, т.к. пользователи быстрее найдут нужный товар</td>\n",
       "                        <td id=\"T_56a4e_row5_col1\" class=\"data row5 col1\" >8</td>\n",
       "                        <td id=\"T_56a4e_row5_col2\" class=\"data row5 col2\" >6</td>\n",
       "            </tr>\n",
       "            <tr>\n",
       "                        <th id=\"T_56a4e_level0_row6\" class=\"row_heading level0 row6\" >1</th>\n",
       "                        <td id=\"T_56a4e_row6_col0\" class=\"data row6 col0\" >Запустить собственную службу доставки, что сократит срок доставки заказов</td>\n",
       "                        <td id=\"T_56a4e_row6_col1\" class=\"data row6 col1\" >6</td>\n",
       "                        <td id=\"T_56a4e_row6_col2\" class=\"data row6 col2\" >8</td>\n",
       "            </tr>\n",
       "            <tr>\n",
       "                        <th id=\"T_56a4e_level0_row7\" class=\"row_heading level0 row7\" >5</th>\n",
       "                        <td id=\"T_56a4e_row7_col0\" class=\"data row7 col0\" >Добавить страницу отзывов клиентов о магазине, что позволит увеличить количество заказов</td>\n",
       "                        <td id=\"T_56a4e_row7_col1\" class=\"data row7 col1\" >7</td>\n",
       "                        <td id=\"T_56a4e_row7_col2\" class=\"data row7 col2\" >8</td>\n",
       "            </tr>\n",
       "            <tr>\n",
       "                        <th id=\"T_56a4e_level0_row8\" class=\"row_heading level0 row8\" >4</th>\n",
       "                        <td id=\"T_56a4e_row8_col0\" class=\"data row8 col0\" >Изменить цвет фона главной страницы, чтобы увеличить вовлеченность пользователей</td>\n",
       "                        <td id=\"T_56a4e_row8_col1\" class=\"data row8 col1\" >9</td>\n",
       "                        <td id=\"T_56a4e_row8_col2\" class=\"data row8 col2\" >9</td>\n",
       "            </tr>\n",
       "    </tbody></table>"
      ],
      "text/plain": [
       "<pandas.io.formats.style.Styler at 0x7f47325d7a90>"
      ]
     },
     "execution_count": 9,
     "metadata": {},
     "output_type": "execute_result"
    }
   ],
   "source": [
    "# проранжируем\n",
    "df['ICE_rank'] = df['ICE'].sort_values().rank(ascending = 0)\n",
    "df['RICE_rank'] = df['RICE'].sort_values().rank(ascending = 0)\n",
    "\n",
    "pivot_table = df[['hypothesis', 'ICE_rank', 'RICE_rank']].sort_values(by='RICE_rank')\n",
    "\n",
    "def row_format(x):\n",
    "    return 'color: blue'\n",
    "\n",
    "(\n",
    "    pivot_table.style\n",
    "    .format({'ICE_rank': '{:.0f}',\n",
    "             'RICE_rank': '{:.0f}'})\n",
    "    .background_gradient(cmap='YlGnBu', axis=0)\n",
    "    .applymap(row_format, subset=pd.IndexSlice[[7, 2, 0, 6, 8], 'hypothesis'])\n",
    " \n",
    ")"
   ]
  },
  {
   "cell_type": "markdown",
   "id": "7e086040",
   "metadata": {},
   "source": [
    "**Вывод по разделу:**\n",
    "\n",
    "Гипотизы 7, 2, 0, 6 наиболее перспектиынве по ICE и RICE. Однако на первом месте гипотиза под номером 7. Так получилось, потому что ее парапетр Reach равен 10, в то время как у других гипетиз он меньше. В тоже время 8-ая гипотиза оказалась на 5 месте, так как ее параметра Reach равен 1.\n",
    "Кроме сила гипотизы, очень важно учитывать и то, как много пользователей она затронет.\n",
    "\n",
    "Поэтому в первую очередь рекомендуется протестировать гипотизу 7:\n",
    "- Добавить форму подписки на все основные страницы, чтобы собрать базу клиентов для email-рассылок\n",
    "\n",
    "Далее в поредке очередности протестировать гипотизы:\n",
    "- 2: Добавить блоки рекомендаций товаров на сайт интернет магазина, чтобы повысить конверсию и средний чек заказа\n",
    "- 0: Добавить два новых канала привлечения трафика, что позволит привлекать на 30% больше пользователей\n",
    "- 6: Показать на главной странице баннеры с актуальными акциями и распродажами, чтобы увеличить конверсию\n",
    "- 8: Запустить акцию, дающую скидку на товар в день рождения\t"
   ]
  },
  {
   "cell_type": "markdown",
   "id": "d7314c40",
   "metadata": {},
   "source": [
    "## Анализ A/B-теста"
   ]
  },
  {
   "cell_type": "markdown",
   "id": "7bb69d97",
   "metadata": {},
   "source": [
    "### Обзор и предобработка данных"
   ]
  },
  {
   "cell_type": "code",
   "execution_count": 10,
   "id": "38f25af3",
   "metadata": {},
   "outputs": [],
   "source": [
    "# чтение файлов с данными и сохранение \n",
    "try:\n",
    "    orders, visits = (\n",
    "        pd.read_csv('orders.csv'),\n",
    "        pd.read_csv('visitors.csv')\n",
    "    )\n",
    "except:\n",
    "    orders, visits = (\n",
    "        pd.read_csv('https://code.s3.yandex.net/datasets/orders.csv'), \n",
    "        pd.read_csv('https://code.s3.yandex.net/datasets/visitors.csv')\n",
    "    )"
   ]
  },
  {
   "cell_type": "code",
   "execution_count": 11,
   "id": "f17b9431",
   "metadata": {},
   "outputs": [
    {
     "data": {
      "text/html": [
       "<div>\n",
       "<style scoped>\n",
       "    .dataframe tbody tr th:only-of-type {\n",
       "        vertical-align: middle;\n",
       "    }\n",
       "\n",
       "    .dataframe tbody tr th {\n",
       "        vertical-align: top;\n",
       "    }\n",
       "\n",
       "    .dataframe thead th {\n",
       "        text-align: right;\n",
       "    }\n",
       "</style>\n",
       "<table border=\"1\" class=\"dataframe\">\n",
       "  <thead>\n",
       "    <tr style=\"text-align: right;\">\n",
       "      <th></th>\n",
       "      <th>transactionId</th>\n",
       "      <th>visitorId</th>\n",
       "      <th>date</th>\n",
       "      <th>revenue</th>\n",
       "      <th>group</th>\n",
       "    </tr>\n",
       "  </thead>\n",
       "  <tbody>\n",
       "    <tr>\n",
       "      <th>0</th>\n",
       "      <td>3667963787</td>\n",
       "      <td>3312258926</td>\n",
       "      <td>2019-08-15</td>\n",
       "      <td>1650</td>\n",
       "      <td>B</td>\n",
       "    </tr>\n",
       "    <tr>\n",
       "      <th>1</th>\n",
       "      <td>2804400009</td>\n",
       "      <td>3642806036</td>\n",
       "      <td>2019-08-15</td>\n",
       "      <td>730</td>\n",
       "      <td>B</td>\n",
       "    </tr>\n",
       "    <tr>\n",
       "      <th>2</th>\n",
       "      <td>2961555356</td>\n",
       "      <td>4069496402</td>\n",
       "      <td>2019-08-15</td>\n",
       "      <td>400</td>\n",
       "      <td>A</td>\n",
       "    </tr>\n",
       "    <tr>\n",
       "      <th>3</th>\n",
       "      <td>3797467345</td>\n",
       "      <td>1196621759</td>\n",
       "      <td>2019-08-15</td>\n",
       "      <td>9759</td>\n",
       "      <td>B</td>\n",
       "    </tr>\n",
       "    <tr>\n",
       "      <th>4</th>\n",
       "      <td>2282983706</td>\n",
       "      <td>2322279887</td>\n",
       "      <td>2019-08-15</td>\n",
       "      <td>2308</td>\n",
       "      <td>B</td>\n",
       "    </tr>\n",
       "  </tbody>\n",
       "</table>\n",
       "</div>"
      ],
      "text/plain": [
       "   transactionId   visitorId        date  revenue group\n",
       "0     3667963787  3312258926  2019-08-15     1650     B\n",
       "1     2804400009  3642806036  2019-08-15      730     B\n",
       "2     2961555356  4069496402  2019-08-15      400     A\n",
       "3     3797467345  1196621759  2019-08-15     9759     B\n",
       "4     2282983706  2322279887  2019-08-15     2308     B"
      ]
     },
     "metadata": {},
     "output_type": "display_data"
    },
    {
     "data": {
      "text/html": [
       "<div>\n",
       "<style scoped>\n",
       "    .dataframe tbody tr th:only-of-type {\n",
       "        vertical-align: middle;\n",
       "    }\n",
       "\n",
       "    .dataframe tbody tr th {\n",
       "        vertical-align: top;\n",
       "    }\n",
       "\n",
       "    .dataframe thead th {\n",
       "        text-align: right;\n",
       "    }\n",
       "</style>\n",
       "<table border=\"1\" class=\"dataframe\">\n",
       "  <thead>\n",
       "    <tr style=\"text-align: right;\">\n",
       "      <th></th>\n",
       "      <th>date</th>\n",
       "      <th>group</th>\n",
       "      <th>visitors</th>\n",
       "    </tr>\n",
       "  </thead>\n",
       "  <tbody>\n",
       "    <tr>\n",
       "      <th>0</th>\n",
       "      <td>2019-08-01</td>\n",
       "      <td>A</td>\n",
       "      <td>719</td>\n",
       "    </tr>\n",
       "    <tr>\n",
       "      <th>1</th>\n",
       "      <td>2019-08-02</td>\n",
       "      <td>A</td>\n",
       "      <td>619</td>\n",
       "    </tr>\n",
       "    <tr>\n",
       "      <th>2</th>\n",
       "      <td>2019-08-03</td>\n",
       "      <td>A</td>\n",
       "      <td>507</td>\n",
       "    </tr>\n",
       "    <tr>\n",
       "      <th>3</th>\n",
       "      <td>2019-08-04</td>\n",
       "      <td>A</td>\n",
       "      <td>717</td>\n",
       "    </tr>\n",
       "    <tr>\n",
       "      <th>4</th>\n",
       "      <td>2019-08-05</td>\n",
       "      <td>A</td>\n",
       "      <td>756</td>\n",
       "    </tr>\n",
       "  </tbody>\n",
       "</table>\n",
       "</div>"
      ],
      "text/plain": [
       "         date group  visitors\n",
       "0  2019-08-01     A       719\n",
       "1  2019-08-02     A       619\n",
       "2  2019-08-03     A       507\n",
       "3  2019-08-04     A       717\n",
       "4  2019-08-05     A       756"
      ]
     },
     "metadata": {},
     "output_type": "display_data"
    }
   ],
   "source": [
    "# получение первых 5 строк \n",
    "display(orders.head())\n",
    "display(visits.head())"
   ]
  },
  {
   "cell_type": "code",
   "execution_count": 12,
   "id": "d81dbc6c",
   "metadata": {},
   "outputs": [
    {
     "name": "stdout",
     "output_type": "stream",
     "text": [
      "<class 'pandas.core.frame.DataFrame'>\n",
      "RangeIndex: 1197 entries, 0 to 1196\n",
      "Data columns (total 5 columns):\n",
      " #   Column         Non-Null Count  Dtype \n",
      "---  ------         --------------  ----- \n",
      " 0   transactionId  1197 non-null   int64 \n",
      " 1   visitorId      1197 non-null   int64 \n",
      " 2   date           1197 non-null   object\n",
      " 3   revenue        1197 non-null   int64 \n",
      " 4   group          1197 non-null   object\n",
      "dtypes: int64(3), object(2)\n",
      "memory usage: 46.9+ KB\n",
      "None\n",
      "<class 'pandas.core.frame.DataFrame'>\n",
      "RangeIndex: 62 entries, 0 to 61\n",
      "Data columns (total 3 columns):\n",
      " #   Column    Non-Null Count  Dtype \n",
      "---  ------    --------------  ----- \n",
      " 0   date      62 non-null     object\n",
      " 1   group     62 non-null     object\n",
      " 2   visitors  62 non-null     int64 \n",
      "dtypes: int64(1), object(2)\n",
      "memory usage: 1.6+ KB\n",
      "None\n"
     ]
    }
   ],
   "source": [
    "# получение общей информации о данных\n",
    "print(orders.info())\n",
    "print(visits.info())"
   ]
  },
  {
   "cell_type": "code",
   "execution_count": 13,
   "id": "a788944b",
   "metadata": {},
   "outputs": [
    {
     "data": {
      "text/plain": [
       "0"
      ]
     },
     "metadata": {},
     "output_type": "display_data"
    },
    {
     "data": {
      "text/plain": [
       "0"
      ]
     },
     "metadata": {},
     "output_type": "display_data"
    }
   ],
   "source": [
    "#посмотрим есть ли дубликаты в датафреймaх\n",
    "display(orders.duplicated().sum())\n",
    "display(visits.duplicated().sum())\n"
   ]
  },
  {
   "cell_type": "code",
   "execution_count": 14,
   "id": "89ef953f",
   "metadata": {},
   "outputs": [],
   "source": [
    "# преобразование данных о дате\n",
    "orders['date'] = pd.to_datetime(orders['date'])\n",
    "visits['date'] = pd.to_datetime(visits['date'])"
   ]
  },
  {
   "cell_type": "code",
   "execution_count": 15,
   "id": "59a69b2c",
   "metadata": {},
   "outputs": [
    {
     "data": {
      "text/html": [
       "<div>\n",
       "<style scoped>\n",
       "    .dataframe tbody tr th:only-of-type {\n",
       "        vertical-align: middle;\n",
       "    }\n",
       "\n",
       "    .dataframe tbody tr th {\n",
       "        vertical-align: top;\n",
       "    }\n",
       "\n",
       "    .dataframe thead th {\n",
       "        text-align: right;\n",
       "    }\n",
       "</style>\n",
       "<table border=\"1\" class=\"dataframe\">\n",
       "  <thead>\n",
       "    <tr style=\"text-align: right;\">\n",
       "      <th></th>\n",
       "      <th>transactionId</th>\n",
       "      <th>visitorId</th>\n",
       "      <th>date</th>\n",
       "      <th>revenue</th>\n",
       "      <th>group</th>\n",
       "    </tr>\n",
       "  </thead>\n",
       "  <tbody>\n",
       "    <tr>\n",
       "      <th>0</th>\n",
       "      <td>3667963787</td>\n",
       "      <td>3312258926</td>\n",
       "      <td>2019-08-15</td>\n",
       "      <td>1650</td>\n",
       "      <td>B</td>\n",
       "    </tr>\n",
       "    <tr>\n",
       "      <th>1</th>\n",
       "      <td>2804400009</td>\n",
       "      <td>3642806036</td>\n",
       "      <td>2019-08-15</td>\n",
       "      <td>730</td>\n",
       "      <td>B</td>\n",
       "    </tr>\n",
       "    <tr>\n",
       "      <th>2</th>\n",
       "      <td>2961555356</td>\n",
       "      <td>4069496402</td>\n",
       "      <td>2019-08-15</td>\n",
       "      <td>400</td>\n",
       "      <td>A</td>\n",
       "    </tr>\n",
       "    <tr>\n",
       "      <th>3</th>\n",
       "      <td>3797467345</td>\n",
       "      <td>1196621759</td>\n",
       "      <td>2019-08-15</td>\n",
       "      <td>9759</td>\n",
       "      <td>B</td>\n",
       "    </tr>\n",
       "    <tr>\n",
       "      <th>4</th>\n",
       "      <td>2282983706</td>\n",
       "      <td>2322279887</td>\n",
       "      <td>2019-08-15</td>\n",
       "      <td>2308</td>\n",
       "      <td>B</td>\n",
       "    </tr>\n",
       "  </tbody>\n",
       "</table>\n",
       "</div>"
      ],
      "text/plain": [
       "   transactionId   visitorId       date  revenue group\n",
       "0     3667963787  3312258926 2019-08-15     1650     B\n",
       "1     2804400009  3642806036 2019-08-15      730     B\n",
       "2     2961555356  4069496402 2019-08-15      400     A\n",
       "3     3797467345  1196621759 2019-08-15     9759     B\n",
       "4     2282983706  2322279887 2019-08-15     2308     B"
      ]
     },
     "metadata": {},
     "output_type": "display_data"
    },
    {
     "data": {
      "text/html": [
       "<div>\n",
       "<style scoped>\n",
       "    .dataframe tbody tr th:only-of-type {\n",
       "        vertical-align: middle;\n",
       "    }\n",
       "\n",
       "    .dataframe tbody tr th {\n",
       "        vertical-align: top;\n",
       "    }\n",
       "\n",
       "    .dataframe thead th {\n",
       "        text-align: right;\n",
       "    }\n",
       "</style>\n",
       "<table border=\"1\" class=\"dataframe\">\n",
       "  <thead>\n",
       "    <tr style=\"text-align: right;\">\n",
       "      <th></th>\n",
       "      <th>date</th>\n",
       "      <th>group</th>\n",
       "      <th>visitors</th>\n",
       "    </tr>\n",
       "  </thead>\n",
       "  <tbody>\n",
       "    <tr>\n",
       "      <th>0</th>\n",
       "      <td>2019-08-01</td>\n",
       "      <td>A</td>\n",
       "      <td>719</td>\n",
       "    </tr>\n",
       "    <tr>\n",
       "      <th>1</th>\n",
       "      <td>2019-08-02</td>\n",
       "      <td>A</td>\n",
       "      <td>619</td>\n",
       "    </tr>\n",
       "    <tr>\n",
       "      <th>2</th>\n",
       "      <td>2019-08-03</td>\n",
       "      <td>A</td>\n",
       "      <td>507</td>\n",
       "    </tr>\n",
       "    <tr>\n",
       "      <th>3</th>\n",
       "      <td>2019-08-04</td>\n",
       "      <td>A</td>\n",
       "      <td>717</td>\n",
       "    </tr>\n",
       "    <tr>\n",
       "      <th>4</th>\n",
       "      <td>2019-08-05</td>\n",
       "      <td>A</td>\n",
       "      <td>756</td>\n",
       "    </tr>\n",
       "  </tbody>\n",
       "</table>\n",
       "</div>"
      ],
      "text/plain": [
       "        date group  visitors\n",
       "0 2019-08-01     A       719\n",
       "1 2019-08-02     A       619\n",
       "2 2019-08-03     A       507\n",
       "3 2019-08-04     A       717\n",
       "4 2019-08-05     A       756"
      ]
     },
     "metadata": {},
     "output_type": "display_data"
    }
   ],
   "source": [
    "display(orders.head())\n",
    "display(visits.head())"
   ]
  },
  {
   "cell_type": "code",
   "execution_count": 16,
   "id": "556d745a",
   "metadata": {},
   "outputs": [
    {
     "name": "stdout",
     "output_type": "stream",
     "text": [
      "['B' 'A']\n",
      "['A' 'B']\n"
     ]
    }
   ],
   "source": [
    "# проверка на наличие уникальных групп\n",
    "print(orders['group'].unique())\n",
    "print(visits['group'].unique())"
   ]
  },
  {
   "cell_type": "code",
   "execution_count": 17,
   "id": "28aa3d18",
   "metadata": {},
   "outputs": [
    {
     "name": "stdout",
     "output_type": "stream",
     "text": [
      "2019-08-01 00:00:00\n",
      "2019-08-01 00:00:00\n"
     ]
    }
   ],
   "source": [
    "# проверка данных на соответствие периода проведения теста\n",
    "print(orders['date'].min())\n",
    "print(visits['date'].min())"
   ]
  },
  {
   "cell_type": "code",
   "execution_count": 18,
   "id": "e91d9819",
   "metadata": {},
   "outputs": [
    {
     "name": "stdout",
     "output_type": "stream",
     "text": [
      "2019-08-31 00:00:00\n",
      "2019-08-31 00:00:00\n"
     ]
    }
   ],
   "source": [
    "print(orders['date'].max())\n",
    "print(visits['date'].max())"
   ]
  },
  {
   "cell_type": "markdown",
   "id": "485bb8a3",
   "metadata": {},
   "source": [
    "Изучим гистограмму распределения стоимостей заказов:"
   ]
  },
  {
   "cell_type": "code",
   "execution_count": 19,
   "id": "4991481d",
   "metadata": {},
   "outputs": [
    {
     "data": {
      "image/png": "[encoded data removed]",
      "text/plain": [
       "<Figure size 720x360 with 1 Axes>"
      ]
     },
     "metadata": {
      "needs_background": "light"
     },
     "output_type": "display_data"
    }
   ],
   "source": [
    "plt.figure(figsize=(10, 5))\n",
    "plt.hist(orders['revenue'], bins = 100);"
   ]
  },
  {
   "cell_type": "markdown",
   "id": "ef477ae0",
   "metadata": {},
   "source": [
    "В данных явно есть аномальные значения. Посмотрим на данные более детально."
   ]
  },
  {
   "cell_type": "code",
   "execution_count": 20,
   "id": "d57271ac",
   "metadata": {},
   "outputs": [
    {
     "data": {
      "image/png": "[encoded data removed]",
      "text/plain": [
       "<Figure size 720x360 with 2 Axes>"
      ]
     },
     "metadata": {
      "needs_background": "light"
     },
     "output_type": "display_data"
    }
   ],
   "source": [
    "#построим диаграмму размаха стоимостей заказов:\n",
    "plt.figure(figsize=(10, 5))\n",
    "\n",
    "ax1 = plt.subplot(1,2,1)\n",
    "sns.boxplot(y='revenue', data=orders, width = 0.4, ax = ax1)\n",
    "plt.title('Диаграммы размаха');\n",
    "\n",
    "ax2 = plt.subplot(1,2,2)\n",
    "sns.boxplot(y='revenue', data=orders, width = 0.4, ax = ax2, showfliers=False)\n",
    "plt.title('Диаграммы размаха');"
   ]
  },
  {
   "cell_type": "code",
   "execution_count": 21,
   "id": "9b13eb0e",
   "metadata": {},
   "outputs": [
    {
     "data": {
      "text/html": [
       "<style  type=\"text/css\" >\n",
       "</style><table id=\"T_bae50_\" ><thead>    <tr>        <th class=\"blank level0\" ></th>        <th class=\"col_heading level0 col0\" >revenue</th>    </tr></thead><tbody>\n",
       "                <tr>\n",
       "                        <th id=\"T_bae50_level0_row0\" class=\"row_heading level0 row0\" >count</th>\n",
       "                        <td id=\"T_bae50_row0_col0\" class=\"data row0 col0\" >1,197.00</td>\n",
       "            </tr>\n",
       "            <tr>\n",
       "                        <th id=\"T_bae50_level0_row1\" class=\"row_heading level0 row1\" >min</th>\n",
       "                        <td id=\"T_bae50_row1_col0\" class=\"data row1 col0\" >50.00</td>\n",
       "            </tr>\n",
       "            <tr>\n",
       "                        <th id=\"T_bae50_level0_row2\" class=\"row_heading level0 row2\" >max</th>\n",
       "                        <td id=\"T_bae50_row2_col0\" class=\"data row2 col0\" >1,294,500.00</td>\n",
       "            </tr>\n",
       "            <tr>\n",
       "                        <th id=\"T_bae50_level0_row3\" class=\"row_heading level0 row3\" >median</th>\n",
       "                        <td id=\"T_bae50_row3_col0\" class=\"data row3 col0\" >2,978.00</td>\n",
       "            </tr>\n",
       "            <tr>\n",
       "                        <th id=\"T_bae50_level0_row4\" class=\"row_heading level0 row4\" >mean</th>\n",
       "                        <td id=\"T_bae50_row4_col0\" class=\"data row4 col0\" >8,348.01</td>\n",
       "            </tr>\n",
       "    </tbody></table>"
      ],
      "text/plain": [
       "<pandas.io.formats.style.Styler at 0x7f4732218790>"
      ]
     },
     "execution_count": 21,
     "metadata": {},
     "output_type": "execute_result"
    }
   ],
   "source": [
    "# проверка стоимостей заказов\n",
    "(\n",
    "    orders[['revenue']]\n",
    "    .apply (['count', 'min', 'max', 'median', 'mean'])   \n",
    "    .style.format('{:,.2f}')\n",
    ")"
   ]
  },
  {
   "cell_type": "markdown",
   "id": "26282614",
   "metadata": {},
   "source": [
    "Есть выбросы в заказах, которые дороже 20 000, однако большинство всё-таки имеет меньшую выручку\n",
    "\n",
    "Медианное значение стоимости заказа равно 2 978 руб., средняя стоимость заказа 8 348 руб."
   ]
  },
  {
   "cell_type": "markdown",
   "id": "534ca5e2",
   "metadata": {},
   "source": [
    "Изучим гистограмму распределения количества посещений:"
   ]
  },
  {
   "cell_type": "code",
   "execution_count": 22,
   "id": "e01bd923",
   "metadata": {},
   "outputs": [
    {
     "data": {
      "image/png": "[encoded data removed]",
      "text/plain": [
       "<Figure size 504x360 with 1 Axes>"
      ]
     },
     "metadata": {
      "needs_background": "light"
     },
     "output_type": "display_data"
    }
   ],
   "source": [
    "plt.figure(figsize=(7, 5))\n",
    "plt.hist(visits['visitors'], bins = 10);"
   ]
  },
  {
   "cell_type": "code",
   "execution_count": 23,
   "id": "1fded970",
   "metadata": {},
   "outputs": [
    {
     "data": {
      "text/html": [
       "<style  type=\"text/css\" >\n",
       "</style><table id=\"T_7aa36_\" ><thead>    <tr>        <th class=\"blank level0\" ></th>        <th class=\"col_heading level0 col0\" >visitors</th>    </tr></thead><tbody>\n",
       "                <tr>\n",
       "                        <th id=\"T_7aa36_level0_row0\" class=\"row_heading level0 row0\" >count</th>\n",
       "                        <td id=\"T_7aa36_row0_col0\" class=\"data row0 col0\" >62.00</td>\n",
       "            </tr>\n",
       "            <tr>\n",
       "                        <th id=\"T_7aa36_level0_row1\" class=\"row_heading level0 row1\" >min</th>\n",
       "                        <td id=\"T_7aa36_row1_col0\" class=\"data row1 col0\" >361.00</td>\n",
       "            </tr>\n",
       "            <tr>\n",
       "                        <th id=\"T_7aa36_level0_row2\" class=\"row_heading level0 row2\" >max</th>\n",
       "                        <td id=\"T_7aa36_row2_col0\" class=\"data row2 col0\" >770.00</td>\n",
       "            </tr>\n",
       "            <tr>\n",
       "                        <th id=\"T_7aa36_level0_row3\" class=\"row_heading level0 row3\" >median</th>\n",
       "                        <td id=\"T_7aa36_row3_col0\" class=\"data row3 col0\" >624.50</td>\n",
       "            </tr>\n",
       "            <tr>\n",
       "                        <th id=\"T_7aa36_level0_row4\" class=\"row_heading level0 row4\" >mean</th>\n",
       "                        <td id=\"T_7aa36_row4_col0\" class=\"data row4 col0\" >607.29</td>\n",
       "            </tr>\n",
       "            <tr>\n",
       "                        <th id=\"T_7aa36_level0_row5\" class=\"row_heading level0 row5\" >sum</th>\n",
       "                        <td id=\"T_7aa36_row5_col0\" class=\"data row5 col0\" >37,652.00</td>\n",
       "            </tr>\n",
       "    </tbody></table>"
      ],
      "text/plain": [
       "<pandas.io.formats.style.Styler at 0x7f47321aeb20>"
      ]
     },
     "execution_count": 23,
     "metadata": {},
     "output_type": "execute_result"
    }
   ],
   "source": [
    "# проверка количества посещений\n",
    "(\n",
    "    visits[['visitors']]\n",
    "    .apply (['count', 'min', 'max', 'median', 'mean', 'sum'])   \n",
    "    .style.format('{:,.2f}')\n",
    ")"
   ]
  },
  {
   "cell_type": "markdown",
   "id": "6617de9b",
   "metadata": {},
   "source": [
    "Среднее количество посещей в день: 607\n",
    "\n",
    "Количество посещений за все время: 37 652"
   ]
  },
  {
   "cell_type": "code",
   "execution_count": 24,
   "id": "531e34e0",
   "metadata": {},
   "outputs": [
    {
     "name": "stdout",
     "output_type": "stream",
     "text": [
      "Количество уникальных покупателей: 1031\n",
      "Количество уникальных покупателей в группе А: 503\n",
      "Количество уникальных покупателей в группе B: 586\n"
     ]
    }
   ],
   "source": [
    "# посчитаем количество уникальных пользователей\n",
    "print('Количество уникальных покупателей:', orders['visitorId'].nunique())\n",
    "print('Количество уникальных покупателей в группе А:', orders[orders['group']=='A']['visitorId'].nunique())\n",
    "print('Количество уникальных покупателей в группе B:', orders[orders['group']=='B']['visitorId'].nunique())"
   ]
  },
  {
   "cell_type": "markdown",
   "id": "c45fc392",
   "metadata": {},
   "source": [
    "Проведем еще одну проверку, какие пользователи попадают в обе группы — по таблице с заказами."
   ]
  },
  {
   "cell_type": "code",
   "execution_count": 25,
   "id": "a5e548f3",
   "metadata": {},
   "outputs": [
    {
     "data": {
      "text/html": [
       "<div>\n",
       "<style scoped>\n",
       "    .dataframe tbody tr th:only-of-type {\n",
       "        vertical-align: middle;\n",
       "    }\n",
       "\n",
       "    .dataframe tbody tr th {\n",
       "        vertical-align: top;\n",
       "    }\n",
       "\n",
       "    .dataframe thead th {\n",
       "        text-align: right;\n",
       "    }\n",
       "</style>\n",
       "<table border=\"1\" class=\"dataframe\">\n",
       "  <thead>\n",
       "    <tr style=\"text-align: right;\">\n",
       "      <th>group</th>\n",
       "      <th>A</th>\n",
       "      <th>B</th>\n",
       "    </tr>\n",
       "    <tr>\n",
       "      <th>visitorId</th>\n",
       "      <th></th>\n",
       "      <th></th>\n",
       "    </tr>\n",
       "  </thead>\n",
       "  <tbody>\n",
       "    <tr>\n",
       "      <th>8300375</th>\n",
       "      <td>1.0</td>\n",
       "      <td>1.0</td>\n",
       "    </tr>\n",
       "    <tr>\n",
       "      <th>199603092</th>\n",
       "      <td>4.0</td>\n",
       "      <td>1.0</td>\n",
       "    </tr>\n",
       "    <tr>\n",
       "      <th>232979603</th>\n",
       "      <td>1.0</td>\n",
       "      <td>1.0</td>\n",
       "    </tr>\n",
       "    <tr>\n",
       "      <th>237748145</th>\n",
       "      <td>4.0</td>\n",
       "      <td>1.0</td>\n",
       "    </tr>\n",
       "    <tr>\n",
       "      <th>276558944</th>\n",
       "      <td>1.0</td>\n",
       "      <td>1.0</td>\n",
       "    </tr>\n",
       "  </tbody>\n",
       "</table>\n",
       "</div>"
      ],
      "text/plain": [
       "group        A    B\n",
       "visitorId          \n",
       "8300375    1.0  1.0\n",
       "199603092  4.0  1.0\n",
       "232979603  1.0  1.0\n",
       "237748145  4.0  1.0\n",
       "276558944  1.0  1.0"
      ]
     },
     "metadata": {},
     "output_type": "display_data"
    },
    {
     "name": "stdout",
     "output_type": "stream",
     "text": [
      "Количество покупателей: 58\n",
      "Количество заказов: 181.0\n"
     ]
    }
   ],
   "source": [
    "users = orders.pivot_table(index='visitorId', columns='group', values ='transactionId', aggfunc='nunique').dropna()\n",
    "display(users.head())\n",
    "print('Количество покупателей:', users.shape[0])\n",
    "print('Количество заказов:', users['A'].sum()+users['B'].sum())"
   ]
  },
  {
   "cell_type": "code",
   "execution_count": 26,
   "id": "1b045224",
   "metadata": {},
   "outputs": [
    {
     "name": "stdout",
     "output_type": "stream",
     "text": [
      "Количество покупателей сделавших более одного заказа в группе: 23\n",
      "Количество заказов, сделанных этими пользователями: 111.0\n"
     ]
    }
   ],
   "source": [
    "print('Количество покупателей сделавших более одного заказа в группе:', users[(users['A']>1) | (users['B']>1)].shape[0])\n",
    "print('Количество заказов, сделанных этими пользователями:', \n",
    "      users[(users['A']>1) | (users['B']>1)]['A'].sum() + users[(users['A']>1) | (users['B']>1)]['B'].sum())"
   ]
  },
  {
   "cell_type": "markdown",
   "id": "66c747dd",
   "metadata": {},
   "source": [
    "58 пользователя, которые попали в две группы теста и сделали в сумме 181 заказ, что составляет около 15% всех данных. Такое удаление может уменьшить выборку и повлиять на дальнейший анализ. \n",
    "Запишим новый датафрейм без пересекающихся пользователей в orders_new.\n",
    "Средний чек и кумулятивную выручку будем считать по удаленным пользователям, а конверсию с неудаленными, так как в visits у нас кумулятивные данные, мы их не сможем убрать"
   ]
  },
  {
   "cell_type": "code",
   "execution_count": 27,
   "id": "1187c708",
   "metadata": {},
   "outputs": [
    {
     "data": {
      "text/plain": [
       "(1016, 5)"
      ]
     },
     "execution_count": 27,
     "metadata": {},
     "output_type": "execute_result"
    }
   ],
   "source": [
    "orders_new = orders.query('not visitorId in @users.index')\n",
    "orders_new.shape"
   ]
  },
  {
   "cell_type": "markdown",
   "id": "4b7afc25",
   "metadata": {},
   "source": [
    "**Вывод:**\n",
    "- Период проведения A/B теста: август 2019 года.\n",
    "- В таблице orders 1197 строк, в visits 62 строки.\n",
    "- Минимальное количество посещений за период проведения теста 361, максимальное 770 в день.\n",
    "- Среднее количество посещей в день 607.\n",
    "- Количество посещений за все время: 37 652.\n",
    "- Цены заказов находятся в диапазоне от 50 до 1 294 500 руб.\n",
    "- В данных явно есть заказы дороже 20 000, однако большинство всё-таки имеет меньшую выручку, учтем это при анализе A/B теста.\n",
    "- Медианное значение стоимости заказа равно 2 978 руб., средняя стоимость заказа 8 348 руб.\n",
    "- Количество уникальных покупателей: 1031.\n",
    "- Количество уникальных покупателей в группе А: 503.\n",
    "- Количество уникальных покупателей в группе B: 586.\n",
    "- Выявили 58 пользователя, которые попали в две группы теста данных. \n",
    "- Создали новый датафрейм orders_new без пересекающихся пользователей, в котором осталось 1016 строк.\n",
    "- Также при предобработке данных, привели столбцы с датой к типу datetime.\n"
   ]
  },
  {
   "cell_type": "markdown",
   "id": "feb69b6b",
   "metadata": {},
   "source": [
    "### График кумулятивной выручки по группам"
   ]
  },
  {
   "cell_type": "markdown",
   "id": "62b23636",
   "metadata": {},
   "source": [
    "Чтобы построить графики, нужно собрать кумулятивные данные. Объявим датафрейм `cumulativeData` со столбцами:\n",
    "- `date` — дата;\n",
    "- `group` — группа A/B-теста (A или B);\n",
    "- `orders` — кумулятивное количество заказов на указанную дату в указанной группе;\n",
    "- `buyers` — кумулятивное количество пользователей, совершивших хотя бы один заказ, на указанную дату в указанной группе;\n",
    "- `revenue` — кумулятивная выручка на указанную дату в указанной группе (средний чек);\n",
    "- `visitors` — кумулятивное количество посетителей интернет-магазина на указанную дату в определённой группе."
   ]
  },
  {
   "cell_type": "markdown",
   "id": "5f7d1bb2",
   "metadata": {},
   "source": [
    "Создадим массив уникальных пар значений дат и групп теста методом drop_duplicates():"
   ]
  },
  {
   "cell_type": "code",
   "execution_count": 28,
   "id": "c4f91eb9",
   "metadata": {},
   "outputs": [
    {
     "data": {
      "text/html": [
       "<div>\n",
       "<style scoped>\n",
       "    .dataframe tbody tr th:only-of-type {\n",
       "        vertical-align: middle;\n",
       "    }\n",
       "\n",
       "    .dataframe tbody tr th {\n",
       "        vertical-align: top;\n",
       "    }\n",
       "\n",
       "    .dataframe thead th {\n",
       "        text-align: right;\n",
       "    }\n",
       "</style>\n",
       "<table border=\"1\" class=\"dataframe\">\n",
       "  <thead>\n",
       "    <tr style=\"text-align: right;\">\n",
       "      <th></th>\n",
       "      <th>date</th>\n",
       "      <th>group</th>\n",
       "      <th>orders</th>\n",
       "      <th>buyers</th>\n",
       "      <th>revenue</th>\n",
       "      <th>visitors</th>\n",
       "      <th>orders_new</th>\n",
       "      <th>buyers_new</th>\n",
       "      <th>revenue_new</th>\n",
       "    </tr>\n",
       "  </thead>\n",
       "  <tbody>\n",
       "    <tr>\n",
       "      <th>0</th>\n",
       "      <td>2019-08-01</td>\n",
       "      <td>A</td>\n",
       "      <td>24</td>\n",
       "      <td>20</td>\n",
       "      <td>148579</td>\n",
       "      <td>719</td>\n",
       "      <td>23</td>\n",
       "      <td>19</td>\n",
       "      <td>142779</td>\n",
       "    </tr>\n",
       "    <tr>\n",
       "      <th>1</th>\n",
       "      <td>2019-08-01</td>\n",
       "      <td>B</td>\n",
       "      <td>21</td>\n",
       "      <td>20</td>\n",
       "      <td>101217</td>\n",
       "      <td>713</td>\n",
       "      <td>17</td>\n",
       "      <td>17</td>\n",
       "      <td>59758</td>\n",
       "    </tr>\n",
       "    <tr>\n",
       "      <th>2</th>\n",
       "      <td>2019-08-02</td>\n",
       "      <td>A</td>\n",
       "      <td>44</td>\n",
       "      <td>38</td>\n",
       "      <td>242401</td>\n",
       "      <td>1338</td>\n",
       "      <td>42</td>\n",
       "      <td>36</td>\n",
       "      <td>234381</td>\n",
       "    </tr>\n",
       "    <tr>\n",
       "      <th>3</th>\n",
       "      <td>2019-08-02</td>\n",
       "      <td>B</td>\n",
       "      <td>45</td>\n",
       "      <td>43</td>\n",
       "      <td>266748</td>\n",
       "      <td>1294</td>\n",
       "      <td>40</td>\n",
       "      <td>39</td>\n",
       "      <td>221801</td>\n",
       "    </tr>\n",
       "    <tr>\n",
       "      <th>4</th>\n",
       "      <td>2019-08-03</td>\n",
       "      <td>A</td>\n",
       "      <td>68</td>\n",
       "      <td>62</td>\n",
       "      <td>354874</td>\n",
       "      <td>1845</td>\n",
       "      <td>66</td>\n",
       "      <td>60</td>\n",
       "      <td>346854</td>\n",
       "    </tr>\n",
       "  </tbody>\n",
       "</table>\n",
       "</div>"
      ],
      "text/plain": [
       "        date group  orders  buyers  revenue  visitors  orders_new  buyers_new  \\\n",
       "0 2019-08-01     A      24      20   148579       719          23          19   \n",
       "1 2019-08-01     B      21      20   101217       713          17          17   \n",
       "2 2019-08-02     A      44      38   242401      1338          42          36   \n",
       "3 2019-08-02     B      45      43   266748      1294          40          39   \n",
       "4 2019-08-03     A      68      62   354874      1845          66          60   \n",
       "\n",
       "   revenue_new  \n",
       "0       142779  \n",
       "1        59758  \n",
       "2       234381  \n",
       "3       221801  \n",
       "4       346854  "
      ]
     },
     "execution_count": 28,
     "metadata": {},
     "output_type": "execute_result"
    }
   ],
   "source": [
    "# создаем массив уникальных пар значений дат и групп теста\n",
    "datesGroups = orders[['date','group']].drop_duplicates()\n",
    "\n",
    "# соберём агрегированные кумулятивные по дням данные о заказах с неудалеными пользователями\n",
    "ordersAggregated = datesGroups.apply(\n",
    "    lambda x: orders[\n",
    "        np.logical_and(\n",
    "            orders['date'] <= x['date'], orders['group'] == x['group']\n",
    "        )\n",
    "    ].agg(\n",
    "        {\n",
    "            'date': 'max',\n",
    "            'group': 'max',\n",
    "            'transactionId': 'nunique',\n",
    "            'visitorId': 'nunique',\n",
    "            'revenue': 'sum',\n",
    "        }\n",
    "    ),\n",
    "    axis=1,\n",
    ").sort_values(by=['date', 'group'])\n",
    "\n",
    "# соберём агрегированные кумулятивные по дням данные о заказах с УДАЛЕННЫМИ пользователями\n",
    "ordersAggregated_new = datesGroups.apply(\n",
    "    lambda x: orders_new[\n",
    "        np.logical_and(\n",
    "            orders_new['date'] <= x['date'], orders_new['group'] == x['group']\n",
    "        )\n",
    "    ].agg(\n",
    "        {\n",
    "            'date': 'max',\n",
    "            'group': 'max',\n",
    "            'transactionId': 'nunique',\n",
    "            'visitorId': 'nunique',\n",
    "            'revenue': 'sum',\n",
    "        }\n",
    "    ),\n",
    "    axis=1,\n",
    ").sort_values(by=['date', 'group'])\n",
    "\n",
    "# аналогично получим агрегированные кумулятивные по дням данные о посетителях интернет-магазина\n",
    "visitorsAggregated = datesGroups.apply(\n",
    "    lambda x: visits[\n",
    "        np.logical_and(\n",
    "            visits['date'] <= x['date'], visits['group'] == x['group']\n",
    "        )\n",
    "    ].agg({'date': 'max', 'group': 'max', 'visitors': 'sum'}),\n",
    "    axis=1,\n",
    ").sort_values(by=['date', 'group'])\n",
    "\n",
    "# объединяем кумулятивные данные в одной таблице и присваиваем ее столбцам понятные названия\n",
    "cumulativeData = (\n",
    "    ordersAggregated.merge(visitorsAggregated, left_on=['date', 'group'], right_on=['date', 'group'])\n",
    "    .merge(ordersAggregated_new, left_on=['date', 'group'], right_on=['date', 'group'])\n",
    ")\n",
    "\n",
    "cumulativeData.columns = ['date', 'group', 'orders', 'buyers', 'revenue', 'visitors', 'orders_new', 'buyers_new', 'revenue_new']\n",
    "\n",
    "cumulativeData.head(5)"
   ]
  },
  {
   "cell_type": "markdown",
   "id": "2cbbe74b",
   "metadata": {},
   "source": [
    "Собрали все кумулятивные данные. Теперь можно построить графики.\n",
    "\n",
    "Построим график кумулятивной выручки по дням и группам A/B-тестирования:"
   ]
  },
  {
   "cell_type": "code",
   "execution_count": 29,
   "id": "04e9425f",
   "metadata": {},
   "outputs": [
    {
     "data": {
      "image/png": "[encoded data removed]",
      "text/plain": [
       "<Figure size 720x504 with 1 Axes>"
      ]
     },
     "metadata": {
      "needs_background": "light"
     },
     "output_type": "display_data"
    }
   ],
   "source": [
    "# построим графики кумулятивной выручки по дням и группам A/B-тестирования:\n",
    "cumulativeRevenueA = cumulativeData[cumulativeData['group']=='A'][['date','revenue_new', 'orders_new']]\n",
    "cumulativeRevenueB = cumulativeData[cumulativeData['group']=='B'][['date','revenue_new', 'orders_new']]\n",
    "\n",
    "plt.figure(figsize=(10, 7))\n",
    "plt.plot(cumulativeRevenueA['date'], cumulativeRevenueA['revenue_new'], label='A')\n",
    "plt.plot(cumulativeRevenueB['date'], cumulativeRevenueB['revenue_new'], label='B')\n",
    "plt.legend() \n",
    "plt.grid()\n",
    "plt.xticks(rotation = 45)\n",
    "plt.ylabel('Выручка')\n",
    "plt.title('Графики кумулятивной выручки');"
   ]
  },
  {
   "cell_type": "markdown",
   "id": "99cea64f",
   "metadata": {},
   "source": [
    "**Вывод:**\n",
    "- Выручка почти равномерно увеличивается в течение всего теста. Хороший знак.\n",
    "- В середине теста сегмент B вырвался вперёд и продолжал лидировать весь остаток теста. Это может сигнализировать о всплесках числа заказов, либо о появлении очень дорогих заказов в выборке. Похоже, что аномально большие заказы всё-таки влияют на результаты. "
   ]
  },
  {
   "cell_type": "markdown",
   "id": "a7dc221b",
   "metadata": {},
   "source": [
    "### График кумулятивного среднего чека по группам"
   ]
  },
  {
   "cell_type": "markdown",
   "id": "c7c6511d",
   "metadata": {},
   "source": [
    "Построим графики среднего чека по группам — разделим кумулятивную выручку на кумулятивное число заказов:"
   ]
  },
  {
   "cell_type": "code",
   "execution_count": 30,
   "id": "ab551964",
   "metadata": {},
   "outputs": [
    {
     "data": {
      "image/png": "[encoded data removed]",
      "text/plain": [
       "<Figure size 720x504 with 1 Axes>"
      ]
     },
     "metadata": {
      "needs_background": "light"
     },
     "output_type": "display_data"
    }
   ],
   "source": [
    "plt.figure(figsize=(10, 7))\n",
    "plt.plot(cumulativeRevenueA['date'], cumulativeRevenueA['revenue_new']/cumulativeRevenueA['orders_new'], label='A')\n",
    "plt.plot(cumulativeRevenueB['date'], cumulativeRevenueB['revenue_new']/cumulativeRevenueB['orders_new'], label='B')\n",
    "plt.legend() \n",
    "plt.grid()\n",
    "plt.xticks(rotation = 45)\n",
    "plt.ylabel('Средний чек')\n",
    "plt.title('График кумулятивного среднего чека');"
   ]
  },
  {
   "cell_type": "markdown",
   "id": "a4171c4d",
   "metadata": {},
   "source": [
    "**Вывод:**\n",
    "- Средний чек тоже становится равномерным ближе к концу теста: установился для группы A на уровне 7 000 руб. и продолжает падать для группы B. Возможно, в группу B в середине теста попали крупные заказы (резкий всплеск на графике). Тогда ей нужно больше данных, чтобы прийти к реальному среднему чеку и установиться на его уровне.\n",
    "- Принимать решение по этой метрике рано. Требуется дополнительный анализ выбросов, которые так сильно искажают результаты."
   ]
  },
  {
   "cell_type": "markdown",
   "id": "7a0f8655",
   "metadata": {},
   "source": [
    "### График относительного изменения кумулятивного среднего чека группы B к группе A"
   ]
  },
  {
   "cell_type": "markdown",
   "id": "22adfd12",
   "metadata": {},
   "source": [
    "Построим график относительного различия для среднего чека. Добавим горизонтальную ось методом axhline():"
   ]
  },
  {
   "cell_type": "code",
   "execution_count": 31,
   "id": "5f90cf5d",
   "metadata": {},
   "outputs": [
    {
     "data": {
      "image/png": "[encoded data removed]",
      "text/plain": [
       "<Figure size 720x504 with 1 Axes>"
      ]
     },
     "metadata": {
      "needs_background": "light"
     },
     "output_type": "display_data"
    }
   ],
   "source": [
    "# собираем данные в одном датафрейме\n",
    "mergedCumulativeRevenue = cumulativeRevenueA.merge(\n",
    "    cumulativeRevenueB, \n",
    "    left_on='date', \n",
    "    right_on='date', \n",
    "    how='left', \n",
    "    suffixes=['A', 'B']\n",
    ")\n",
    "\n",
    "# cтроим отношение средних чеков\n",
    "plt.figure(figsize=(10, 7))\n",
    "plt.plot(\n",
    "    mergedCumulativeRevenue['date'], \n",
    "    (mergedCumulativeRevenue['revenue_newB']/mergedCumulativeRevenue['orders_newB'])/(mergedCumulativeRevenue['revenue_newA']/mergedCumulativeRevenue['orders_newA'])-1\n",
    ")\n",
    "\n",
    "# добавляем ось X\n",
    "plt.axhline(y=0, color='black', linestyle='--') \n",
    "plt.grid()\n",
    "plt.xticks(rotation = 45)\n",
    "plt.ylabel('Отношение средних чеков')\n",
    "plt.title('График относительного изменения кумулятивного среднего чека группы B к группе A');\n",
    "\n"
   ]
  },
  {
   "cell_type": "markdown",
   "id": "4cdf0771",
   "metadata": {},
   "source": [
    "**Вывод:**\n",
    "- Результаты теста значительно и резко менялись в несколько дат. Видимо, именно тогда были совершены аномальные заказы."
   ]
  },
  {
   "cell_type": "markdown",
   "id": "74ec65f4",
   "metadata": {},
   "source": [
    "### График кумулятивного среднего количества заказов на посетителя по группам"
   ]
  },
  {
   "cell_type": "markdown",
   "id": "4d3652e2",
   "metadata": {},
   "source": [
    "Аналогично проанализируем график кумулятивной конверсии. \n",
    "\n",
    "- Добавим в `cumulativeData` столбец `conversion` c отношением числа заказов к количеству пользователей в указанной группе в указанный день.\n",
    "- Объявим переменные `cumulativeDataA` и `cumulativeDataB`, в которых сохраните данные о заказах в сегментах A и B соответственно.\n",
    "- Построим графики кумулятивной конверсии по дням по группам.\n",
    "- Зададим масштаб осей методом plt.axis(). Передадим ему минимальное и максимальное значения оси x; минимальное и максимальное значения оси y:"
   ]
  },
  {
   "cell_type": "code",
   "execution_count": 32,
   "id": "70dbe76e",
   "metadata": {},
   "outputs": [
    {
     "data": {
      "image/png": "[encoded data removed]",
      "text/plain": [
       "<Figure size 720x360 with 1 Axes>"
      ]
     },
     "metadata": {
      "needs_background": "light"
     },
     "output_type": "display_data"
    }
   ],
   "source": [
    "# считаем кумулятивную конверсию\n",
    "cumulativeData['conversion'] = cumulativeData['orders']/cumulativeData['visitors']\n",
    "\n",
    "# отделяем данные по группе A\n",
    "cumulativeDataA = cumulativeData[cumulativeData['group']=='A']\n",
    "\n",
    "# отделяем данные по группе B\n",
    "cumulativeDataB = cumulativeData[cumulativeData['group']=='B']\n",
    "\n",
    "# строим графики\n",
    "plt.figure(figsize=(10, 5))\n",
    "plt.plot(cumulativeDataA['date'], cumulativeDataA['conversion'], label='A')\n",
    "plt.plot(cumulativeDataB['date'], cumulativeDataB['conversion'], label='B')\n",
    "plt.legend()\n",
    "plt.grid()\n",
    "plt.xticks(rotation = 45)\n",
    "plt.ylabel('Конверсия')\n",
    "plt.title('График кумулятивной конверсии по дням по группам')\n",
    "\n",
    "# задаем масштаб осей\n",
    "plt.axis([cumulativeData['date'].min(), cumulativeData['date'].max(), 0, 0.04]);"
   ]
  },
  {
   "cell_type": "markdown",
   "id": "753157d9",
   "metadata": {},
   "source": [
    "**Вывод:**\n",
    "- В начале теста сегмент A имел большую конверсию, но постепенно сегмент B выровнялся и зафиксировался примерно около 0,034, \n",
    "- Конверсия сегмента A зафиксировалась около 0,03"
   ]
  },
  {
   "cell_type": "markdown",
   "id": "38dec3a5",
   "metadata": {},
   "source": [
    "### График относительного изменения кумулятивного среднего количества заказов на посетителя группы B к группе A"
   ]
  },
  {
   "cell_type": "markdown",
   "id": "31494daa",
   "metadata": {},
   "source": [
    "Построим график относительного различия кумулятивных конверсий:"
   ]
  },
  {
   "cell_type": "code",
   "execution_count": 33,
   "id": "400668b7",
   "metadata": {},
   "outputs": [
    {
     "data": {
      "image/png": "[encoded data removed]",
      "text/plain": [
       "<Figure size 720x504 with 1 Axes>"
      ]
     },
     "metadata": {
      "needs_background": "light"
     },
     "output_type": "display_data"
    }
   ],
   "source": [
    "mergedCumulativeConversions = cumulativeDataA[['date','conversion']].merge(\n",
    "    cumulativeDataB[['date','conversion']], \n",
    "    left_on='date', \n",
    "    right_on='date', \n",
    "    how='left', \n",
    "    suffixes=['A', 'B']\n",
    ")\n",
    "plt.figure(figsize=(10, 7))\n",
    "plt.plot(mergedCumulativeConversions['date'], \n",
    "         mergedCumulativeConversions['conversionB']/mergedCumulativeConversions['conversionA']-1)\n",
    "plt.grid()\n",
    "plt.xticks(rotation = 45)\n",
    "plt.ylabel('Отношение конверсий')\n",
    "plt.title('График относительного изменения кумулятивной конверсии группы B к группе A')\n",
    "\n",
    "plt.axhline(y=0, color='black', linestyle='--')\n",
    "plt.axhline(y=0.14, color='grey', linestyle='--')\n",
    "plt.axis([mergedCumulativeConversions['date'].min(), mergedCumulativeConversions['date'].max(), -0.3, 0.3]);"
   ]
  },
  {
   "cell_type": "markdown",
   "id": "661eb1f6",
   "metadata": {},
   "source": [
    "**Вывод:**\n",
    "- В начале теста группа B проигрывала группе A, затем вырвалась вперёд. Потом её конверсия снова падала, но  в последней трети эксперимента наблюдается стабилизация результатов около прироста в 14% относительно группы A.\n",
    "- В целом отношение конверсии установилось. Сейчас делать какие-либо выводы по тесту нельзя, сперва стоит проанализировать аномалии, возможно, они изменят картину."
   ]
  },
  {
   "cell_type": "markdown",
   "id": "dfd4ec0f",
   "metadata": {},
   "source": [
    "### Точечный график количества заказов по пользователям"
   ]
  },
  {
   "cell_type": "markdown",
   "id": "ee91c158",
   "metadata": {},
   "source": [
    "Пользователи, совершившие много заказов, влияют на числитель формулы конверсии. Скорее всего, их поведение отличается от нормального. Если речь не идёт об интернет-магазине с регулярным спросом, «обычный» пользователь совершает не больше двух заказов за короткий срок.\n",
    "Подсчитаем количество заказов по пользователям и посмотрим на результат.\n",
    "\n",
    "Найдем число заказов по пользователям — создайте датафрейм c двумя столбцами: 'userId' и 'orders'. Назовем его ordersByUsers. Отсортируем по убыванию количества заказов пользователей и выведем на экран первые 10 строк."
   ]
  },
  {
   "cell_type": "code",
   "execution_count": 34,
   "id": "7bb9b641",
   "metadata": {},
   "outputs": [
    {
     "name": "stdout",
     "output_type": "stream",
     "text": [
      "          userId  orders\n",
      "1023  4256040402      11\n",
      "591   2458001652      11\n",
      "569   2378935119       9\n",
      "487   2038680547       8\n",
      "44     199603092       5\n",
      "744   3062433592       5\n",
      "55     237748145       5\n",
      "917   3803269165       5\n",
      "299   1230306981       5\n",
      "897   3717692402       5\n"
     ]
    }
   ],
   "source": [
    "ordersByUsers = (\n",
    "    orders.groupby('visitorId', as_index=False) #сгруппирует заказы по пользователям\n",
    "        .agg({'transactionId' : 'nunique',}) #подсчитает число уникальных заказов по сгруппированным данным     \n",
    ")\n",
    "\n",
    "ordersByUsers.columns = ['userId', 'orders']\n",
    "\n",
    "print(ordersByUsers.sort_values(by='orders', ascending=False).head(10))"
   ]
  },
  {
   "cell_type": "markdown",
   "id": "ee34c3e1",
   "metadata": {},
   "source": [
    "Есть пользователи, которые совершали 5, 8, 9 и 11 заказов. Значительно больше, чем обычный пользователь за неделю."
   ]
  },
  {
   "cell_type": "markdown",
   "id": "9389a7bf",
   "metadata": {},
   "source": [
    "Построим точечную диаграмму числа заказов на одного пользователя методом scatter():"
   ]
  },
  {
   "cell_type": "code",
   "execution_count": 35,
   "id": "dd0f9fe4",
   "metadata": {},
   "outputs": [
    {
     "data": {
      "image/png": "[encoded data removed]",
      "text/plain": [
       "<Figure size 720x360 with 1 Axes>"
      ]
     },
     "metadata": {
      "needs_background": "light"
     },
     "output_type": "display_data"
    }
   ],
   "source": [
    "# серия из чисел от 0 до количества наблюдений в ordersByUsers\n",
    "x_values = pd.Series(range(0, len(ordersByUsers)))\n",
    "\n",
    "plt.figure(figsize=(10, 5))\n",
    "plt.scatter(x_values, ordersByUsers['orders'])\n",
    "plt.ylabel('Количество заказов')\n",
    "plt.xlabel('Пользователи')\n",
    "plt.title('Точечный график количества заказов по пользователям');"
   ]
  },
  {
   "cell_type": "markdown",
   "id": "200f8cc2",
   "metadata": {},
   "source": [
    "**Вывод:**\n",
    "- Много пользователей с 1 заказам.\n",
    "- Пользователей, заказавших более двух раз мало. Они вполне могут быть аномальными. 2 заказа — нормально или много? Ответим на этот вопрос, посчитав выборочные перцентили."
   ]
  },
  {
   "cell_type": "markdown",
   "id": "76faaf5f",
   "metadata": {},
   "source": [
    "### Границы для определения аномальных пользователей"
   ]
  },
  {
   "cell_type": "markdown",
   "id": "f9420401",
   "metadata": {},
   "source": [
    "Посчитаем выборочные перцентили количества заказов на одного пользователя:"
   ]
  },
  {
   "cell_type": "code",
   "execution_count": 36,
   "id": "ac292c77",
   "metadata": {},
   "outputs": [
    {
     "name": "stdout",
     "output_type": "stream",
     "text": [
      "[1. 2. 4.]\n"
     ]
    }
   ],
   "source": [
    "print(np.percentile(ordersByUsers['orders'], [90, 95, 99])) "
   ]
  },
  {
   "cell_type": "code",
   "execution_count": 37,
   "id": "6acbcc22",
   "metadata": {},
   "outputs": [
    {
     "name": "stdout",
     "output_type": "stream",
     "text": [
      "[1. 1. 2.]\n"
     ]
    }
   ],
   "source": [
    "# граница для удаленных пересекающихся пользователей\n",
    "ordersByUsers_new = (\n",
    "    orders_new.groupby('visitorId', as_index=False) #сгруппирует заказы по пользователям\n",
    "        .agg({'transactionId' : 'nunique',}) #подсчитает число уникальных заказов по сгруппированным данным     \n",
    ")\n",
    "ordersByUsers_new.columns = ['userId', 'orders']\n",
    "\n",
    "print(np.percentile(ordersByUsers_new['orders'], [90, 95, 99])) "
   ]
  },
  {
   "cell_type": "markdown",
   "id": "63177848",
   "metadata": {},
   "source": [
    "**Вывод:**\n",
    "- Не более 5% пользователей совершали больше двух заказов. И не более 1% пользователей — больше 4 заказов\n",
    "- Разумно выбрать больше двух заказов на одного пользователя за верхнюю границу числа заказов, и отсеять аномальных пользователей по ней."
   ]
  },
  {
   "cell_type": "markdown",
   "id": "51dc9e5f",
   "metadata": {},
   "source": [
    "### Точечный график стоимостей заказов"
   ]
  },
  {
   "cell_type": "markdown",
   "id": "3d9bddbc",
   "metadata": {},
   "source": [
    "Постройте диаграмму распределения выручек (`revenue`) методом scatter()"
   ]
  },
  {
   "cell_type": "code",
   "execution_count": 38,
   "id": "595bc823",
   "metadata": {},
   "outputs": [
    {
     "data": {
      "image/png": "[encoded data removed]",
      "text/plain": [
       "<Figure size 720x360 with 1 Axes>"
      ]
     },
     "metadata": {
      "needs_background": "light"
     },
     "output_type": "display_data"
    }
   ],
   "source": [
    "x_values = pd.Series(range(0, len(orders['revenue'])))\n",
    "plt.figure(figsize=(10, 5))\n",
    "plt.scatter(x_values, orders['revenue'])\n",
    "plt.ylabel('Стоимость заказов, руб.')\n",
    "plt.title('Точечный график стоимостей заказов');"
   ]
  },
  {
   "cell_type": "code",
   "execution_count": 39,
   "id": "602f4a6c",
   "metadata": {},
   "outputs": [
    {
     "data": {
      "text/html": [
       "<div>\n",
       "<style scoped>\n",
       "    .dataframe tbody tr th:only-of-type {\n",
       "        vertical-align: middle;\n",
       "    }\n",
       "\n",
       "    .dataframe tbody tr th {\n",
       "        vertical-align: top;\n",
       "    }\n",
       "\n",
       "    .dataframe thead th {\n",
       "        text-align: right;\n",
       "    }\n",
       "</style>\n",
       "<table border=\"1\" class=\"dataframe\">\n",
       "  <thead>\n",
       "    <tr style=\"text-align: right;\">\n",
       "      <th></th>\n",
       "      <th>transactionId</th>\n",
       "      <th>visitorId</th>\n",
       "      <th>date</th>\n",
       "      <th>revenue</th>\n",
       "      <th>group</th>\n",
       "    </tr>\n",
       "  </thead>\n",
       "  <tbody>\n",
       "    <tr>\n",
       "      <th>425</th>\n",
       "      <td>590470918</td>\n",
       "      <td>1920142716</td>\n",
       "      <td>2019-08-19</td>\n",
       "      <td>1294500</td>\n",
       "      <td>B</td>\n",
       "    </tr>\n",
       "  </tbody>\n",
       "</table>\n",
       "</div>"
      ],
      "text/plain": [
       "     transactionId   visitorId       date  revenue group\n",
       "425      590470918  1920142716 2019-08-19  1294500     B"
      ]
     },
     "execution_count": 39,
     "metadata": {},
     "output_type": "execute_result"
    }
   ],
   "source": [
    "orders[orders['revenue']>1200000]"
   ]
  },
  {
   "cell_type": "markdown",
   "id": "14b586f5",
   "metadata": {},
   "source": [
    "**Вывод:**\n",
    "- Заказов стоимостью 50 000 — 100 000 рублей не очень много. Есть выбросы в районе 200 000 и 1 300 000 рублей. Найдем выборочные перцентили.\n",
    "- Заказ на 1,3 миллиона, сделанный 19 августа в сегменте B, как раз соответсвует скачку на графиках выше"
   ]
  },
  {
   "cell_type": "markdown",
   "id": "373e8051",
   "metadata": {},
   "source": [
    "### Границы для определения аномальных заказов"
   ]
  },
  {
   "cell_type": "markdown",
   "id": "62f379ec",
   "metadata": {},
   "source": [
    "Посчитаем 90-й, 95-й и 99-й выборочные перцентили выручки с заказов по пользователям методом np.percentile()."
   ]
  },
  {
   "cell_type": "code",
   "execution_count": 40,
   "id": "68ce18fc",
   "metadata": {},
   "outputs": [
    {
     "name": "stdout",
     "output_type": "stream",
     "text": [
      "[18168.  28000.  58233.2]\n"
     ]
    }
   ],
   "source": [
    "print(np.percentile(orders['revenue'], [90, 95, 99])) "
   ]
  },
  {
   "cell_type": "code",
   "execution_count": 41,
   "id": "d463c9b2",
   "metadata": {},
   "outputs": [
    {
     "name": "stdout",
     "output_type": "stream",
     "text": [
      "[470. 300. 100.]\n"
     ]
    }
   ],
   "source": [
    "print(np.percentile(orders['revenue'], [10, 5, 1])) "
   ]
  },
  {
   "cell_type": "markdown",
   "id": "588025e9",
   "metadata": {},
   "source": [
    "**Вывод:**\n",
    "- Не более, чем у 5% заказов чек дороже 28 000 руб. И не больше, чем у 1% заказов — дороже 58 233 руб.\n",
    "- Выберем 28 000 руб. за верхнюю границу стоимости заказа, и отсеим аномальных пользователей по ней.\n",
    "- Нижнюю границу не будем определать, она не сильно повлияет на результат"
   ]
  },
  {
   "cell_type": "markdown",
   "id": "f467d7a9",
   "metadata": {},
   "source": [
    "### Статистическая значимость различий в среднем количестве заказов на посетителя между группами по «сырым» данным"
   ]
  },
  {
   "cell_type": "markdown",
   "id": "0cd43015",
   "metadata": {},
   "source": [
    "Начнём с подготовки данных.\n",
    "\n",
    "Создадим таблицу `data`, где названия столбцов данных:\n",
    "- `date` — дата;\n",
    "- `ordersPerDateA` — количество заказов в выбранную дату в группе A;\n",
    "- `revenuePerDateA` — суммарная выручка в выбранную дату в группе A;\n",
    "- `ordersPerDateB` — количество заказов в выбранную дату в группе B;\n",
    "- `revenuePerDateB` — суммарная выручка в выбранную дату в группе B;\n",
    "- `ordersCummulativeA` — суммарное число заказов до выбранной даты включительно в группе A;\n",
    "- `revenueCummulativeA` — суммарная выручка до выбранной даты включительно в группе A;\n",
    "- `ordersCummulativeB` — суммарное количество заказов до выбранной даты включительно в группе B;\n",
    "- `revenueCummulativeB` — суммарная выручка до выбранной даты включительно в группе B;\n",
    "- `visitorsPerDateA` — количество пользователей в выбранную дату в группе A;\n",
    "- `visitorsPerDateB` — количество пользователей в выбранную дату в группе B;\n",
    "- `visitorsCummulativeA` — количество пользователей до выбранной даты включительно в группе A;\n",
    "- `visitorsCummulativeB` — количество пользователей до выбранной даты включительно в группе B.\n",
    "\n",
    "\n"
   ]
  },
  {
   "cell_type": "code",
   "execution_count": 42,
   "id": "7819c36b",
   "metadata": {},
   "outputs": [
    {
     "data": {
      "text/html": [
       "<div>\n",
       "<style scoped>\n",
       "    .dataframe tbody tr th:only-of-type {\n",
       "        vertical-align: middle;\n",
       "    }\n",
       "\n",
       "    .dataframe tbody tr th {\n",
       "        vertical-align: top;\n",
       "    }\n",
       "\n",
       "    .dataframe thead th {\n",
       "        text-align: right;\n",
       "    }\n",
       "</style>\n",
       "<table border=\"1\" class=\"dataframe\">\n",
       "  <thead>\n",
       "    <tr style=\"text-align: right;\">\n",
       "      <th></th>\n",
       "      <th>date</th>\n",
       "      <th>ordersPerDateA</th>\n",
       "      <th>revenuePerDateA</th>\n",
       "      <th>ordersPerDateB</th>\n",
       "      <th>revenuePerDateB</th>\n",
       "      <th>ordersCummulativeA</th>\n",
       "      <th>revenueCummulativeA</th>\n",
       "      <th>ordersCummulativeB</th>\n",
       "      <th>revenueCummulativeB</th>\n",
       "      <th>visitorsPerDateA</th>\n",
       "      <th>visitorsPerDateB</th>\n",
       "      <th>visitorsCummulativeA</th>\n",
       "      <th>visitorsCummulativeB</th>\n",
       "    </tr>\n",
       "  </thead>\n",
       "  <tbody>\n",
       "    <tr>\n",
       "      <th>0</th>\n",
       "      <td>2019-08-01</td>\n",
       "      <td>24</td>\n",
       "      <td>148579</td>\n",
       "      <td>21</td>\n",
       "      <td>101217</td>\n",
       "      <td>24</td>\n",
       "      <td>148579</td>\n",
       "      <td>21</td>\n",
       "      <td>101217</td>\n",
       "      <td>719</td>\n",
       "      <td>713</td>\n",
       "      <td>719</td>\n",
       "      <td>713</td>\n",
       "    </tr>\n",
       "    <tr>\n",
       "      <th>1</th>\n",
       "      <td>2019-08-02</td>\n",
       "      <td>20</td>\n",
       "      <td>93822</td>\n",
       "      <td>24</td>\n",
       "      <td>165531</td>\n",
       "      <td>44</td>\n",
       "      <td>242401</td>\n",
       "      <td>45</td>\n",
       "      <td>266748</td>\n",
       "      <td>619</td>\n",
       "      <td>581</td>\n",
       "      <td>1338</td>\n",
       "      <td>1294</td>\n",
       "    </tr>\n",
       "    <tr>\n",
       "      <th>2</th>\n",
       "      <td>2019-08-03</td>\n",
       "      <td>24</td>\n",
       "      <td>112473</td>\n",
       "      <td>16</td>\n",
       "      <td>114248</td>\n",
       "      <td>68</td>\n",
       "      <td>354874</td>\n",
       "      <td>61</td>\n",
       "      <td>380996</td>\n",
       "      <td>507</td>\n",
       "      <td>509</td>\n",
       "      <td>1845</td>\n",
       "      <td>1803</td>\n",
       "    </tr>\n",
       "    <tr>\n",
       "      <th>3</th>\n",
       "      <td>2019-08-04</td>\n",
       "      <td>16</td>\n",
       "      <td>70825</td>\n",
       "      <td>17</td>\n",
       "      <td>108571</td>\n",
       "      <td>84</td>\n",
       "      <td>425699</td>\n",
       "      <td>78</td>\n",
       "      <td>489567</td>\n",
       "      <td>717</td>\n",
       "      <td>770</td>\n",
       "      <td>2562</td>\n",
       "      <td>2573</td>\n",
       "    </tr>\n",
       "    <tr>\n",
       "      <th>4</th>\n",
       "      <td>2019-08-05</td>\n",
       "      <td>25</td>\n",
       "      <td>124218</td>\n",
       "      <td>23</td>\n",
       "      <td>92428</td>\n",
       "      <td>109</td>\n",
       "      <td>549917</td>\n",
       "      <td>101</td>\n",
       "      <td>581995</td>\n",
       "      <td>756</td>\n",
       "      <td>707</td>\n",
       "      <td>3318</td>\n",
       "      <td>3280</td>\n",
       "    </tr>\n",
       "  </tbody>\n",
       "</table>\n",
       "</div>"
      ],
      "text/plain": [
       "        date  ordersPerDateA  revenuePerDateA  ordersPerDateB  \\\n",
       "0 2019-08-01              24           148579              21   \n",
       "1 2019-08-02              20            93822              24   \n",
       "2 2019-08-03              24           112473              16   \n",
       "3 2019-08-04              16            70825              17   \n",
       "4 2019-08-05              25           124218              23   \n",
       "\n",
       "   revenuePerDateB  ordersCummulativeA  revenueCummulativeA  \\\n",
       "0           101217                  24               148579   \n",
       "1           165531                  44               242401   \n",
       "2           114248                  68               354874   \n",
       "3           108571                  84               425699   \n",
       "4            92428                 109               549917   \n",
       "\n",
       "   ordersCummulativeB  revenueCummulativeB  visitorsPerDateA  \\\n",
       "0                  21               101217               719   \n",
       "1                  45               266748               619   \n",
       "2                  61               380996               507   \n",
       "3                  78               489567               717   \n",
       "4                 101               581995               756   \n",
       "\n",
       "   visitorsPerDateB  visitorsCummulativeA  visitorsCummulativeB  \n",
       "0               713                   719                   713  \n",
       "1               581                  1338                  1294  \n",
       "2               509                  1845                  1803  \n",
       "3               770                  2562                  2573  \n",
       "4               707                  3318                  3280  "
      ]
     },
     "execution_count": 42,
     "metadata": {},
     "output_type": "execute_result"
    }
   ],
   "source": [
    "# количество заказов в выбранную дату в группе A\n",
    "visitorsADaily = visits[visits['group'] == 'A'][['date', 'visitors']]\n",
    "visitorsADaily.columns = ['date', 'visitorsPerDateA']\n",
    "\n",
    "# количество пользователей до выбранной даты включительно в группе A\n",
    "visitorsACummulative = visitorsADaily.apply(\n",
    "    lambda x: visitorsADaily[visitorsADaily['date'] <= x['date']].agg(\n",
    "        {'date': 'max', 'visitorsPerDateA': 'sum'}\n",
    "    ),\n",
    "    axis=1,\n",
    ")\n",
    "visitorsACummulative.columns = ['date', 'visitorsCummulativeA']\n",
    "\n",
    "# количество пользователей в выбранную дату в группе B\n",
    "visitorsBDaily = visits[visits['group'] == 'B'][['date', 'visitors']]\n",
    "visitorsBDaily.columns = ['date', 'visitorsPerDateB']\n",
    "\n",
    "# количество пользователей до выбранной даты включительно в группе B\n",
    "visitorsBCummulative = visitorsBDaily.apply(\n",
    "    lambda x: visitorsBDaily[visitorsBDaily['date'] <= x['date']].agg(\n",
    "        {'date': 'max', 'visitorsPerDateB': 'sum'}\n",
    "    ),\n",
    "    axis=1,\n",
    ")\n",
    "visitorsBCummulative.columns = ['date', 'visitorsCummulativeB']\n",
    "\n",
    "# количество заказов и суммарная выручка в выбранную дату в группе A\n",
    "ordersADaily = (\n",
    "    orders[orders['group'] == 'A'][['date', 'transactionId', 'visitorId', 'revenue']]\n",
    "    .groupby('date', as_index=False)\n",
    "    .agg({'transactionId': pd.Series.nunique, 'revenue': 'sum'})\n",
    ")\n",
    "ordersADaily.columns = ['date', 'ordersPerDateA', 'revenuePerDateA']\n",
    "\n",
    "# суммарное число заказов и суммарная выручка до выбранной даты включительно в группе A\n",
    "ordersACummulative = ordersADaily.apply(\n",
    "    lambda x: ordersADaily[ordersADaily['date'] <= x['date']].agg(\n",
    "        {'date': 'max', 'ordersPerDateA': 'sum', 'revenuePerDateA': 'sum'}\n",
    "    ),\n",
    "    axis=1,\n",
    ").sort_values(by=['date'])\n",
    "ordersACummulative.columns = [\n",
    "    'date',\n",
    "    'ordersCummulativeA',\n",
    "    'revenueCummulativeA',\n",
    "]\n",
    "\n",
    "# количество заказов и суммарная выручка в выбранную дату в группе B\n",
    "ordersBDaily = (\n",
    "    orders[orders['group'] == 'B'][['date', 'transactionId', 'visitorId', 'revenue']]\n",
    "    .groupby('date', as_index=False)\n",
    "    .agg({'transactionId': pd.Series.nunique, 'revenue': 'sum'})\n",
    ")\n",
    "ordersBDaily.columns = ['date', 'ordersPerDateB', 'revenuePerDateB']\n",
    "\n",
    "# суммарное число заказов и суммарная выручка до выбранной даты включительно в группе B\n",
    "ordersBCummulative = ordersBDaily.apply(\n",
    "    lambda x: ordersBDaily[ordersBDaily['date'] <= x['date']].agg(\n",
    "        {'date': 'max', 'ordersPerDateB': 'sum', 'revenuePerDateB': 'sum'}\n",
    "    ),\n",
    "    axis=1,\n",
    ").sort_values(by=['date'])\n",
    "ordersBCummulative.columns = [\n",
    "    'date',\n",
    "    'ordersCummulativeB',\n",
    "    'revenueCummulativeB',\n",
    "]\n",
    "\n",
    "# создаем сводную таблицу\n",
    "data = (\n",
    "    ordersADaily.merge(\n",
    "        ordersBDaily, left_on='date', right_on='date', how='left'\n",
    "    )\n",
    "    .merge(ordersACummulative, left_on='date', right_on='date', how='left')\n",
    "    .merge(ordersBCummulative, left_on='date', right_on='date', how='left')\n",
    "    .merge(visitorsADaily, left_on='date', right_on='date', how='left')\n",
    "    .merge(visitorsBDaily, left_on='date', right_on='date', how='left')\n",
    "    .merge(visitorsACummulative, left_on='date', right_on='date', how='left')\n",
    "    .merge(visitorsBCummulative, left_on='date', right_on='date', how='left')\n",
    ")\n",
    "\n",
    "data.head()"
   ]
  },
  {
   "cell_type": "markdown",
   "id": "169b6374",
   "metadata": {},
   "source": [
    "Cоздадим переменные `ordersByUsersA` и `ordersByUsersB` со столбцами `userId`, `orders`, где для пользователей, совершивших хотя бы 1 заказ, будет указано число заказов.\n",
    "\n",
    "Объявим переменные `sampleA` и `sampleB`, в которых пользователям с заказами будет соответствовать число заказов пользователя. А пользователям без заказов — нули.\n"
   ]
  },
  {
   "cell_type": "code",
   "execution_count": 43,
   "id": "5b137436",
   "metadata": {},
   "outputs": [],
   "source": [
    "ordersByUsersA = (\n",
    "    orders[orders['group'] == 'A']\n",
    "    .groupby('visitorId', as_index=False)\n",
    "    .agg({'transactionId': pd.Series.nunique})\n",
    ")\n",
    "ordersByUsersA.columns = ['userId', 'orders']\n",
    "\n",
    "ordersByUsersB = (\n",
    "    orders[orders['group'] == 'B']\n",
    "    .groupby('visitorId', as_index=False)\n",
    "    .agg({'transactionId': pd.Series.nunique})\n",
    ")\n",
    "ordersByUsersB.columns = ['userId', 'orders']\n",
    "\n",
    "sampleA = pd.concat(\n",
    "    [\n",
    "        ordersByUsersA['orders'],\n",
    "        pd.Series(\n",
    "            0,\n",
    "            index=np.arange(\n",
    "                data['visitorsPerDateA'].sum() - len(ordersByUsersA['orders'])\n",
    "            ),\n",
    "            name='orders',\n",
    "        ),\n",
    "    ],\n",
    "    axis=0,\n",
    ")\n",
    "\n",
    "sampleB = pd.concat(\n",
    "    [\n",
    "        ordersByUsersB['orders'],\n",
    "        pd.Series(\n",
    "            0,\n",
    "            index=np.arange(\n",
    "                data['visitorsPerDateB'].sum() - len(ordersByUsersB['orders'])\n",
    "            ),\n",
    "            name='orders',\n",
    "        ),\n",
    "    ],\n",
    "    axis=0,\n",
    ")"
   ]
  },
  {
   "cell_type": "markdown",
   "id": "58b1a790",
   "metadata": {},
   "source": [
    "Посчитаем статистическую значимость различий в среднем количестве заказов на посетителя между группами по «сырым» данным — без удаления аномальных пользователей.\n",
    "\n",
    "Сформулируем гипотезы: \n",
    "- H0: различий в среднем количестве заказов на посетителя между группами A и B по «сырым» данным нет. \n",
    "- H1: различия в среднем между группами A и B по «сырым» данным есть.\n",
    "- Критический уровень значимости — 0,05\n"
   ]
  },
  {
   "cell_type": "markdown",
   "id": "2b74fa6a",
   "metadata": {},
   "source": [
    "Посчитайте статистическую значимость различия среднего количества заказов. Применим тест Манна-Уитни.\n",
    "\n",
    "Выведим p-value для сравнения среднего между группами."
   ]
  },
  {
   "cell_type": "code",
   "execution_count": 44,
   "id": "b757f7c4",
   "metadata": {},
   "outputs": [
    {
     "name": "stdout",
     "output_type": "stream",
     "text": [
      "p-значение: 0.017\n",
      "Отвергаем нулевую гипотезу\n"
     ]
    }
   ],
   "source": [
    "results = stats.mannwhitneyu(sampleA, sampleB)\n",
    "alpha = 0.05\n",
    "\n",
    "print('p-значение:', round(results.pvalue, 3))\n",
    "\n",
    "if results.pvalue < alpha:\n",
    "    print(\"Отвергаем нулевую гипотезу\")\n",
    "else:\n",
    "    print(\"Не получилось отвергнуть нулевую гипотезу\")"
   ]
  },
  {
   "cell_type": "markdown",
   "id": "79a4f633",
   "metadata": {},
   "source": [
    "Вычислим и выведем относительное различие в среднем между группами."
   ]
  },
  {
   "cell_type": "code",
   "execution_count": 45,
   "id": "6c99db25",
   "metadata": {},
   "outputs": [
    {
     "name": "stdout",
     "output_type": "stream",
     "text": [
      "Относительное различие в среднем между группами: 0.138\n"
     ]
    }
   ],
   "source": [
    "print('Относительное различие в среднем между группами:',\"{0:.3f}\".format(sampleB.mean() / sampleA.mean() - 1))"
   ]
  },
  {
   "cell_type": "code",
   "execution_count": 46,
   "id": "87db497c",
   "metadata": {},
   "outputs": [
    {
     "name": "stdout",
     "output_type": "stream",
     "text": [
      "Конверсия A: 3.0\n",
      "Конверсия B: 3.4\n"
     ]
    }
   ],
   "source": [
    "print('Конверсия A:', round(sampleA.mean()*100, 1))\n",
    "print('Конверсия B:', round(sampleB.mean()*100, 1))"
   ]
  },
  {
   "cell_type": "markdown",
   "id": "46781e75",
   "metadata": {},
   "source": [
    "**Вывод:**\n",
    "- P-value равно 1,7%, что меньше критического уровеня значимости — 5%, поэтому нулевую гипотезу отвергаем. Анализ «сырых данных» сообщает, что в среднем количестве заказов между группами есть статистически значимые различия.\n",
    "- Конверсия группы B: 3.4\n",
    "- Конверсия группы A: 3.0\n",
    "- Относительный прирост среднего группы B к конверсии группы A равен 13.8%\n",
    "- Осталось сравнить средние чеки по «сырым данным», а затем обе метрики ещё раз после удаления выбросов."
   ]
  },
  {
   "cell_type": "markdown",
   "id": "71c0d7a4",
   "metadata": {},
   "source": [
    "### Статистическая значимость различий в среднем чеке заказа между группами по «сырым» данным"
   ]
  },
  {
   "cell_type": "markdown",
   "id": "09562f09",
   "metadata": {},
   "source": [
    "Сформируем гипотизы:\n",
    "- H0: различий в среднем чеке заказа между группами  A и B по «сырым» данным нет.\n",
    "- H1: различия в среднем между группами  A и B по «сырым» данным есть.\n",
    "- Критический уровень значимости — 0,05\n",
    "\n",
    "Посчитаем статистическую значимость различия средних чеков между группами.\n",
    "\n",
    "Выведем p-value для сравнения средних чеков между группами. \n",
    "\n",
    "Выведем относительный прирост среднего чека группы B."
   ]
  },
  {
   "cell_type": "code",
   "execution_count": 47,
   "id": "6c08f249",
   "metadata": {},
   "outputs": [
    {
     "name": "stdout",
     "output_type": "stream",
     "text": [
      "p-значение: 0.829\n",
      "Не получилось отвергнуть нулевую гипотезу\n",
      "Относительное различие в среднем между группами: 0.287\n"
     ]
    }
   ],
   "source": [
    "results = stats.mannwhitneyu(orders_new[orders_new['group']=='A']['revenue'], orders_new[orders_new['group']=='B']['revenue'])\n",
    "\n",
    "print('p-значение:', round(results.pvalue, 3))\n",
    "\n",
    "if results.pvalue < alpha:\n",
    "    print(\"Отвергаем нулевую гипотезу\")\n",
    "else:\n",
    "    print(\"Не получилось отвергнуть нулевую гипотезу\")\n",
    "\n",
    "print('Относительное различие в среднем между группами:', '{0:.3f}'.format(\n",
    "    orders_new[orders_new['group']=='B']['revenue'].mean()/orders_new[orders_new['group']=='A']['revenue'].mean()-1)\n",
    "     ) "
   ]
  },
  {
   "cell_type": "code",
   "execution_count": 48,
   "id": "b6e8af64",
   "metadata": {},
   "outputs": [
    {
     "name": "stdout",
     "output_type": "stream",
     "text": [
      "Средний чек A: 7189.44\n",
      "Средний чек B: 9249.95\n"
     ]
    }
   ],
   "source": [
    "print('Средний чек A:', round(orders_new[orders_new['group']=='A']['revenue'].mean(), 2))\n",
    "print('Средний чек B:', round(orders_new[orders_new['group']=='B']['revenue'].mean(), 2))"
   ]
  },
  {
   "cell_type": "markdown",
   "id": "c4015bbd",
   "metadata": {},
   "source": [
    "**Вывод:**\n",
    "- Наблюдаемое различие в 28,7% среднего чека между сегментами не является стат. значимым. Вывод о различии сделать нельзя\n",
    "\n",
    "Приступим к анализу по «очищенным» данным\n"
   ]
  },
  {
   "cell_type": "markdown",
   "id": "1a49f7c3",
   "metadata": {},
   "source": [
    "### Статистическая значимость различий в среднем количестве заказов на посетителя между группами по «очищенным» данным"
   ]
  },
  {
   "cell_type": "markdown",
   "id": "2e568260",
   "metadata": {},
   "source": [
    "Приступаем к подготовке очищенных от аномалий данных.\n",
    "\n",
    "- Примим за аномальных пользователей тех, кто совершил 3 заказа и более, или совершил заказ на сумму свыше 28 000 рублей. Так мы уберём 5% пользователей с наибольшим числом заказов и до 5% заказов с наибольшей стоимостью.\n",
    "- Сначала определим аномальные заказы. Затем пользователей, совершивших их, и добавить их в список аномальных.\n",
    "- Сделаем срезы пользователей с числом заказов больше 2 — `usersWithManyOrders` и пользователей, совершивших заказы дороже 28 000 — `usersWithExpensiveOrders`. \n",
    "- Объединим их в таблице `abnormalUsers`, удалим дубликаты, отсортируем по возрастанию.\n"
   ]
  },
  {
   "cell_type": "code",
   "execution_count": 49,
   "id": "60f49933",
   "metadata": {},
   "outputs": [
    {
     "data": {
      "text/plain": [
       "1099    148427295\n",
       "18      199603092\n",
       "928     204675465\n",
       "23      237748145\n",
       "37      249864742\n",
       "dtype: int64"
      ]
     },
     "execution_count": 49,
     "metadata": {},
     "output_type": "execute_result"
    }
   ],
   "source": [
    "orders_lim = np.percentile(ordersByUsers['orders'], 95) \n",
    "usersWithManyOrders = pd.concat(\n",
    "    [\n",
    "        ordersByUsersA[ordersByUsersA['orders'] > orders_lim]['userId'],\n",
    "        ordersByUsersB[ordersByUsersB['orders'] > orders_lim]['userId'],\n",
    "    ],\n",
    "    axis=0,\n",
    ")\n",
    "revenue_lim = np.percentile(orders['revenue'], 95)\n",
    "usersWithExpensiveOrders = orders[orders['revenue'] > revenue_lim]['visitorId']\n",
    "\n",
    "abnormalUsers = (\n",
    "    pd.concat([usersWithManyOrders, usersWithExpensiveOrders], axis=0)\n",
    "    .drop_duplicates()\n",
    "    .sort_values()\n",
    ")\n",
    "abnormalUsers.head()"
   ]
  },
  {
   "cell_type": "markdown",
   "id": "0075aca4",
   "metadata": {},
   "source": [
    "Теперь у нас есть множество аномальных пользователей.\n",
    "\n",
    "Посчитайте статистическую значимость различия среднего количества заказов после удаления аномальных пользователей. Надо выяснить, есть ли существенные различия между группами с очищенными данными.\n",
    "\n",
    "Сформулируем гипотезы:\n",
    "\n",
    "- H0: различий в среднем количестве заказов между группами  A и B  по «очищенным» данным нет.\n",
    "- H1: различия в среднем между группами  A и B по «очищенным» данным есть.\n",
    "- Критический уровень значимости — 0,05\n",
    "\n",
    "Создадим переменные `sampleAFiltered` и `sampleBFiltered`, в которых сохраним очищенные данные о заказах — не включая аномальных пользователей.\n",
    "\n",
    "Выведем p-value для сравнения среднего между очищенными группами. \n",
    "\n",
    "Выведем относительный прирост среднего очищенной группы B."
   ]
  },
  {
   "cell_type": "code",
   "execution_count": 50,
   "id": "430d6d17",
   "metadata": {},
   "outputs": [
    {
     "name": "stdout",
     "output_type": "stream",
     "text": [
      "p-значение: 0.013\n",
      "Отвергаем нулевую гипотезу\n",
      "Относительный прирост среднего очищенной группы B: 0.173\n"
     ]
    }
   ],
   "source": [
    "sampleAFiltered = pd.concat(\n",
    "    [\n",
    "        ordersByUsersA[\n",
    "            np.logical_not(ordersByUsersA['userId'].isin(abnormalUsers))\n",
    "        ]['orders'],\n",
    "        pd.Series(\n",
    "            0,\n",
    "            index=np.arange(\n",
    "                data['visitorsPerDateA'].sum() - len(ordersByUsersA['orders'])\n",
    "            ),\n",
    "            name='orders',\n",
    "        ),\n",
    "    ],\n",
    "    axis=0,\n",
    ")\n",
    "\n",
    "sampleBFiltered = pd.concat(\n",
    "    [\n",
    "        ordersByUsersB[\n",
    "            np.logical_not(ordersByUsersB['userId'].isin(abnormalUsers))\n",
    "        ]['orders'],\n",
    "        pd.Series(\n",
    "            0,\n",
    "            index=np.arange(\n",
    "                data['visitorsPerDateB'].sum() - len(ordersByUsersB['orders'])\n",
    "            ),\n",
    "            name='orders',\n",
    "        ),\n",
    "    ],\n",
    "    axis=0,\n",
    ") \n",
    "results = stats.mannwhitneyu(sampleAFiltered, sampleBFiltered)\n",
    "\n",
    "print('p-значение:', round(results.pvalue, 3))\n",
    "\n",
    "if results.pvalue < alpha:\n",
    "    print(\"Отвергаем нулевую гипотезу\")\n",
    "else:\n",
    "    print(\"Не получилось отвергнуть нулевую гипотезу\")\n",
    "\n",
    "print('Относительный прирост среднего очищенной группы B:', '{0:.3f}'.format(sampleBFiltered.mean()/sampleAFiltered.mean()-1)) "
   ]
  },
  {
   "cell_type": "code",
   "execution_count": 51,
   "id": "92e24e6b",
   "metadata": {},
   "outputs": [
    {
     "data": {
      "image/png": "[encoded data removed]",
      "text/plain": [
       "<Figure size 720x360 with 1 Axes>"
      ]
     },
     "metadata": {
      "needs_background": "light"
     },
     "output_type": "display_data"
    }
   ],
   "source": [
    "# Построим графики повторно без учета аномальных пользователей\n",
    "orders_good = orders.query('not visitorId in @abnormalUsers')\n",
    "\n",
    "datesGroups = orders_good[['date','group']].drop_duplicates()\n",
    "\n",
    "ordersAggregated = datesGroups.apply(\n",
    "    lambda x: orders_good[\n",
    "        np.logical_and(\n",
    "            orders_good['date'] <= x['date'], orders_good['group'] == x['group']\n",
    "        )\n",
    "    ].agg(\n",
    "        {\n",
    "            'date': 'max',\n",
    "            'group': 'max',\n",
    "            'transactionId': 'nunique'\n",
    "        }\n",
    "    ),\n",
    "    axis=1,\n",
    ").sort_values(by=['date', 'group'])\n",
    "\n",
    "cumulativeData = (ordersAggregated.merge(visitorsAggregated, left_on=['date', 'group'], right_on=['date', 'group']))\n",
    "\n",
    "cumulativeData.columns = ['date', 'group', 'orders', 'visitors']\n",
    "cumulativeRevenueA = cumulativeData[cumulativeData['group']=='A'][['date', 'orders']]\n",
    "cumulativeRevenueB = cumulativeData[cumulativeData['group']=='B'][['date', 'orders']]\n",
    "cumulativeData['conversion'] = cumulativeData['orders']/cumulativeData['visitors']\n",
    "\n",
    "cumulativeDataA = cumulativeData[cumulativeData['group']=='A']\n",
    "cumulativeDataB = cumulativeData[cumulativeData['group']=='B']\n",
    "\n",
    "# строим графики\n",
    "plt.figure(figsize=(10, 5))\n",
    "plt.plot(cumulativeDataA['date'], cumulativeDataA['conversion'], label='A')\n",
    "plt.plot(cumulativeDataB['date'], cumulativeDataB['conversion'], label='B')\n",
    "plt.legend()\n",
    "plt.grid()\n",
    "plt.xticks(rotation = 45)\n",
    "plt.ylabel('Конверсия')\n",
    "plt.title('График кумулятивной конверсии по дням по группам без аномальных пользователей')\n",
    "\n",
    "# задаем масштаб осей\n",
    "plt.axis([cumulativeData['date'].min(), cumulativeData['date'].max(), 0, 0.04]);"
   ]
  },
  {
   "cell_type": "code",
   "execution_count": 52,
   "id": "6c6fbe3a",
   "metadata": {},
   "outputs": [
    {
     "name": "stdout",
     "output_type": "stream",
     "text": [
      "Конверсия A: 2.5\n",
      "Конверсия B: 3.0\n"
     ]
    }
   ],
   "source": [
    "print('Конверсия A:', round(sampleAFiltered.mean()*100, 1))\n",
    "print('Конверсия B:', round(sampleBFiltered.mean()*100, 1))"
   ]
  },
  {
   "cell_type": "code",
   "execution_count": 53,
   "id": "e4e4d0d9",
   "metadata": {},
   "outputs": [
    {
     "data": {
      "image/png": "[encoded data removed]",
      "text/plain": [
       "<Figure size 720x504 with 1 Axes>"
      ]
     },
     "metadata": {
      "needs_background": "light"
     },
     "output_type": "display_data"
    }
   ],
   "source": [
    "# Построим график относительного изменения кумулятивной конверсии без учета аномальных пользователей\n",
    "mergedCumulativeConversions = cumulativeDataA[['date','conversion']].merge(\n",
    "    cumulativeDataB[['date','conversion']], \n",
    "    left_on='date', \n",
    "    right_on='date', \n",
    "    how='left', \n",
    "    suffixes=['A', 'B']\n",
    ")\n",
    "\n",
    "plt.figure(figsize=(10, 7))\n",
    "plt.plot(mergedCumulativeConversions['date'], \n",
    "         mergedCumulativeConversions['conversionB']/mergedCumulativeConversions['conversionA']-1)\n",
    "plt.grid()\n",
    "plt.xticks(rotation = 45)\n",
    "plt.ylabel('Отношение конверсий')\n",
    "plt.title('График относительного изменения кумулятивной конверсии группы B к группе A без аномальных пользователей')\n",
    "\n",
    "plt.axhline(y=0, color='black', linestyle='--')\n",
    "plt.axhline(y=0.17, color='grey', linestyle='--')\n",
    "plt.axis([mergedCumulativeConversions['date'].min(), mergedCumulativeConversions['date'].max(), -0.3, 0.3]);"
   ]
  },
  {
   "cell_type": "markdown",
   "id": "7d59c0d7",
   "metadata": {},
   "source": [
    "**Вывод:**\n",
    "- Как и в случае с сырыми данными, статистическая значимость достигнута. Сегмент B значительно лучше сегмента A на 17%.\n"
   ]
  },
  {
   "cell_type": "markdown",
   "id": "df171985",
   "metadata": {},
   "source": [
    "### Статистическая значимость различий в среднем чеке заказа между группами по «очищенным» данным"
   ]
  },
  {
   "cell_type": "markdown",
   "id": "bbb03bae",
   "metadata": {},
   "source": [
    "Посчитаем статистическую значимость различия средних чеков после удаления аномальных пользователей.\n",
    "\n",
    "Сформулируем гипотезы:\n",
    "\n",
    "- H0: различий в среднем чеке заказа между группами A и B  по «очищенным» данным нет.\n",
    "- H1: различия в среднем между группами  A и B по «очищенным» данным есть.\n",
    "- Критический уровень значимости — 0,05\n",
    "\n",
    "Выведем p-value для сравнения средних чеков между очищенными группами. \n",
    "\n",
    "Выведите относительный прирост среднего чека очищенной группы B."
   ]
  },
  {
   "cell_type": "code",
   "execution_count": 54,
   "id": "652b81bd",
   "metadata": {},
   "outputs": [
    {
     "name": "stdout",
     "output_type": "stream",
     "text": [
      "p-значение: 0.762\n",
      "Не получилось отвергнуть нулевую гипотезу\n",
      "Относительный прирост среднего очищенной группы B: -0.022\n"
     ]
    }
   ],
   "source": [
    "results = stats.mannwhitneyu(\n",
    "            orders_new[\n",
    "                np.logical_and(\n",
    "                    orders_new['group'] == 'A',\n",
    "                    np.logical_not(orders_new['visitorId'].isin(abnormalUsers)),\n",
    "                )\n",
    "            ]['revenue'],\n",
    "            orders_new[\n",
    "                np.logical_and(\n",
    "                    orders_new['group'] == 'B',\n",
    "                    np.logical_not(orders_new['visitorId'].isin(abnormalUsers)),\n",
    "                )\n",
    "            ]['revenue'],\n",
    "        )\n",
    "\n",
    "print('p-значение:', round(results.pvalue, 3))\n",
    "\n",
    "if results.pvalue < alpha:\n",
    "    print(\"Отвергаем нулевую гипотезу\")\n",
    "else:\n",
    "    print(\"Не получилось отвергнуть нулевую гипотезу\")\n",
    "    \n",
    "print('Относительный прирост среднего очищенной группы B:', \n",
    "    \"{0:.3f}\".format(\n",
    "        orders_new[\n",
    "            np.logical_and(\n",
    "                orders_new['group'] == 'B',\n",
    "                np.logical_not(orders_new['visitorId'].isin(abnormalUsers)),\n",
    "            )\n",
    "        ]['revenue'].mean()\n",
    "        / orders_new[\n",
    "            np.logical_and(\n",
    "                orders_new['group'] == 'A',\n",
    "                np.logical_not(orders_new['visitorId'].isin(abnormalUsers)),\n",
    "            )\n",
    "        ]['revenue'].mean()\n",
    "        - 1\n",
    "    )\n",
    ") "
   ]
  },
  {
   "cell_type": "code",
   "execution_count": 55,
   "id": "8f5c3a74",
   "metadata": {},
   "outputs": [
    {
     "name": "stdout",
     "output_type": "stream",
     "text": [
      "Средний чек A: 5103.0\n",
      "Средний чек B: 4988.0\n"
     ]
    }
   ],
   "source": [
    "print('Средний чек A:', round(orders_new[np.logical_and(orders_new['group'] == 'A', np.logical_not(orders_new['visitorId']\n",
    "                                                                   .isin(abnormalUsers)))]['revenue'].mean(), 0))\n",
    "print('Средний чек B:', round(orders_new[np.logical_and(orders_new['group'] == 'B', np.logical_not(orders_new['visitorId']\n",
    "                                                                   .isin(abnormalUsers)))]['revenue'].mean(), 0))"
   ]
  },
  {
   "cell_type": "code",
   "execution_count": 56,
   "id": "d432e0f2",
   "metadata": {},
   "outputs": [
    {
     "data": {
      "image/png": "[encoded data removed]",
      "text/plain": [
       "<Figure size 720x504 with 1 Axes>"
      ]
     },
     "metadata": {
      "needs_background": "light"
     },
     "output_type": "display_data"
    }
   ],
   "source": [
    "# отфильтруем из списка заказов заказы \"аномальных\" пользователей\n",
    "orders_good = orders_new.query('not visitorId in @abnormalUsers')\n",
    "# составим сводную кумулятивную таблицу\n",
    "pivot = orders_good.pivot_table(index='date', \n",
    "                                columns='group', \n",
    "                                aggfunc={'transactionId': 'nunique','revenue': 'sum'}).sort_index()\n",
    "pivot = pivot.cumsum().reset_index()\n",
    "\n",
    "pivot['rel_rev'] = (\n",
    "    (pivot[('revenue', 'B')]  / pivot[('transactionId', 'B')] ) \n",
    "    / (pivot[('revenue', 'A')]  / pivot[('transactionId', 'A')] ) - 1\n",
    ")\n",
    "\n",
    "# построим график\n",
    "plt.figure(figsize=(10, 7))\n",
    "plt.plot(pivot['date'], pivot['rel_rev'])\n",
    "plt.axhline(y=0, color='black', linestyle='--') \n",
    "plt.grid()\n",
    "plt.xticks(rotation = 45)\n",
    "plt.ylabel('Отношение средних чеков')\n",
    "plt.title('График относительного изменения кумулятивного среднего чека группы B к группе A без аномальных пользователей')\n",
    "plt.show()"
   ]
  },
  {
   "cell_type": "markdown",
   "id": "c5270cdb",
   "metadata": {},
   "source": [
    "**Вывод:**\n",
    "- После удаления анамально больших заказов, наблюдаемое различие в 28,7% по \"сырым\" данным уменьшилось до -2,2% по \"очищенным данным\". Наблюдаемое различие не является стат. значимым.\n",
    "- Это значит, что тест можно остановить. По среднему чеку отличий нет."
   ]
  },
  {
   "cell_type": "markdown",
   "id": "5bf6c8e9",
   "metadata": {},
   "source": [
    "### Решения по результатам теста"
   ]
  },
  {
   "cell_type": "markdown",
   "id": "8946fe2a",
   "metadata": {},
   "source": [
    "- Есть статистически значимое различие по конверсии между группами как по сырым данным, так и после фильтрации аномалий.\n",
    "- График различия конверсии между группами показывает, что результаты группы B лучше группы A: конверсия отличается на 13-17%.\n",
    "- Как по сырым, так и по данным без аномалий нет статистически значимого различия по среднему чеку между группами. \n",
    "- График различия среднего чека до фильтрации аномалий колеблется: именно благодаря ему мы нашли аномальный заказ на 1,3 млн. руб.\n",
    "- График различия среднего чека после фильтрации постепенно стабилизировался около 0 — значимых различий между средними чеками в разных группах нет. \n",
    "\n",
    "- **В целом тест можно остановить. Мы увидели прирост конверсии в группе B, но на среднем чеке проверяемая гипотеза не сказалась.**"
   ]
  },
  {
   "cell_type": "markdown",
   "id": "0eecc0b2",
   "metadata": {},
   "source": [
    "## Общий вывод"
   ]
  },
  {
   "cell_type": "markdown",
   "id": "67d0d167",
   "metadata": {},
   "source": [
    "**Часть 1. Приоритизация гипотез**\n",
    "\n",
    "Наиболее перспективные гипотизы по RICE:\n",
    "- 7: Добавить форму подписки на все основные страницы, чтобы собрать базу клиентов для email-рассылок\n",
    "- 2: Добавить блоки рекомендаций товаров на сайт интернет магазина, чтобы повысить конверсию и средний чек заказа\n",
    "- 0: Добавить два новых канала привлечения трафика, что позволит привлекать на 30% больше пользователей    \n",
    "- 6: Показать на главной странице баннеры с актуальными акциями и распродажами, чтобы увеличить конверсию\n",
    "- 8: Запустить акцию, дающую скидку на товар в день рождения\n",
    "\n",
    "**Часть 2. Анализ A/B-теста**\n",
    "\n",
    "Обзор и предобработка данных:\n",
    "\n",
    "- Период проведения A/B теста: август 2019 года.\n",
    "- В таблице orders 1197 строк, в visits 62 строки.\n",
    "- Минимальное количество посещений за период проведения теста 361, максимальное 770 в день.\n",
    "- Среднее количество посещей в день 607.\n",
    "- Количество посещений за все время: 37 652.\n",
    "- Цены заказов находятся в диапазоне от 50 до 1 294 500 руб.\n",
    "- Медианное значение стоимости заказа равно 2 978 руб., средняя стоимость заказа 8 348 руб.\n",
    "- Количество уникальных покупателей: 1031.\n",
    "- Количество уникальных покупателей в группе А: 503.\n",
    "- Количество уникальных покупателей в группе B: 586.\n",
    "- Выявили 58 пользователя, которые попали в две группы теста данных. \n",
    "- Создали новый датафрейм orders_new без пересекающихся пользователей, в котором осталось 1016 строк.\n",
    "- Средний чек и кумулятивную выручку считали по orders_new.\n",
    "- Также при предобработке данных, привели столбцы с датой к типу datetime.\n",
    "\n",
    "Иследовательский анализ:\n",
    "- Выручка почти равномерно увеличивается в течение всего теста.\n",
    "- Зафиксировали аномалию в группе В по кумулятимной выручке и среднему чеку.\n",
    "- По \"сырым\" данным конверсия группы A: 3.0%\n",
    "- По \"сырым\" данным конверсия группы В: 3.4%\n",
    "- Нашли заказ на 1,3 миллиона, сделанный 19 августа в сегменте B.\n",
    "- На основе 95 перцентали отсеяли аномальных пользователей, которые сделали более 2-х заказов и анамальные заказы на сумму более 28 000 руб.\n",
    "- По \"очищенным\" данным конверсия группы A: 2.5%\n",
    "- По \"очищенным\" данным конверсия группы В: 3.0%\n",
    "- Есть статистически значимое различие по конверсии между группами как по сырым данным, так и после фильтрации аномалий.\n",
    "- График различия конверсии между группами показывает, что результаты группы B лучше группы A: конверсия отличается на 13-17%.\n",
    "\n",
    "- По \"сырым\" данным средний чек группы A: 7 190 руб.\n",
    "- По \"сырым\" данным средний чек  группы В: 9 250 руб. \n",
    "- По \"очищенным\" данным средний чек группы A: 5 103 руб.\n",
    "- По \"очищенным\" данным средний чек  группы В: 4 988 руб. \n",
    "- Как по сырым, так и по данным без аномалий нет статистически значимого различия по среднему чеку между группами. \n",
    "- График различия среднего чека до фильтрации аномалий колеблется: именно благодаря ему мы нашли аномальный заказ на 1,3 млн. руб.\n",
    "- График различия среднего чека после фильтрации постепенно стабилизировался около 0 — значимых различий между средними чеками в разных группах нет. \n",
    "\n",
    "Рекомендация по А/В-тесту:\n",
    "- Остановить тест, зафиксировать отсутствие различий между группами по сумме среднего чека и победу группы В в части повышенной конверсии.\n",
    "- Cтат.значимой разницы по среднему чеку нет (чек не увеличился, но и не уменьшился) то при выросшей конверсии с сохранившимся средним чеком выручка будет так-же расти! И значит A/B-теста оказался успешным! "
   ]
  }
 ],
 "metadata": {
  "ExecuteTimeLog": [
   {
    "duration": 1049,
    "start_time": "2022-12-21T14:02:59.749Z"
   },
   {
    "duration": 267,
    "start_time": "2022-12-21T14:03:00.800Z"
   },
   {
    "duration": 11,
    "start_time": "2022-12-21T14:03:01.069Z"
   },
   {
    "duration": 39,
    "start_time": "2022-12-21T14:03:01.082Z"
   },
   {
    "duration": 40,
    "start_time": "2022-12-21T14:03:01.123Z"
   },
   {
    "duration": 262,
    "start_time": "2022-12-21T14:03:01.165Z"
   },
   {
    "duration": 11,
    "start_time": "2022-12-21T14:03:01.429Z"
   },
   {
    "duration": 319,
    "start_time": "2022-12-21T14:03:01.441Z"
   },
   {
    "duration": 154,
    "start_time": "2022-12-21T14:03:01.762Z"
   },
   {
    "duration": 12,
    "start_time": "2022-12-21T14:03:01.919Z"
   },
   {
    "duration": 33,
    "start_time": "2022-12-21T14:03:01.932Z"
   },
   {
    "duration": 18,
    "start_time": "2022-12-21T14:03:01.966Z"
   },
   {
    "duration": 20,
    "start_time": "2022-12-21T14:03:01.986Z"
   },
   {
    "duration": 30,
    "start_time": "2022-12-21T14:03:02.007Z"
   },
   {
    "duration": 14,
    "start_time": "2022-12-21T14:03:02.038Z"
   },
   {
    "duration": 19,
    "start_time": "2022-12-21T14:03:02.054Z"
   },
   {
    "duration": 39,
    "start_time": "2022-12-21T14:03:02.075Z"
   },
   {
    "duration": 227,
    "start_time": "2022-12-21T14:03:02.115Z"
   },
   {
    "duration": 171,
    "start_time": "2022-12-21T14:03:02.343Z"
   },
   {
    "duration": 45,
    "start_time": "2022-12-21T14:03:02.516Z"
   },
   {
    "duration": 139,
    "start_time": "2022-12-21T14:03:02.562Z"
   },
   {
    "duration": 8,
    "start_time": "2022-12-21T14:03:02.703Z"
   },
   {
    "duration": 23,
    "start_time": "2022-12-21T14:03:02.712Z"
   },
   {
    "duration": 37,
    "start_time": "2022-12-21T14:03:02.737Z"
   },
   {
    "duration": 10,
    "start_time": "2022-12-21T14:03:02.776Z"
   },
   {
    "duration": 273,
    "start_time": "2022-12-21T14:03:02.787Z"
   },
   {
    "duration": 260,
    "start_time": "2022-12-21T14:03:03.062Z"
   },
   {
    "duration": 261,
    "start_time": "2022-12-21T14:03:03.325Z"
   },
   {
    "duration": 305,
    "start_time": "2022-12-21T14:03:03.587Z"
   },
   {
    "duration": 206,
    "start_time": "2022-12-21T14:03:03.893Z"
   },
   {
    "duration": 331,
    "start_time": "2022-12-21T14:03:04.101Z"
   },
   {
    "duration": 10,
    "start_time": "2022-12-21T14:03:04.433Z"
   },
   {
    "duration": 168,
    "start_time": "2022-12-21T14:03:04.445Z"
   },
   {
    "duration": 4,
    "start_time": "2022-12-21T14:03:04.615Z"
   },
   {
    "duration": 205,
    "start_time": "2022-12-21T14:03:04.625Z"
   },
   {
    "duration": 10,
    "start_time": "2022-12-21T14:03:04.832Z"
   },
   {
    "duration": 58,
    "start_time": "2022-12-21T14:03:04.844Z"
   },
   {
    "duration": 44,
    "start_time": "2022-12-21T14:03:04.904Z"
   },
   {
    "duration": 245,
    "start_time": "2022-12-21T14:03:04.950Z"
   },
   {
    "duration": 137,
    "start_time": "2022-12-21T14:03:05.197Z"
   },
   {
    "duration": 19,
    "start_time": "2022-12-21T14:03:05.336Z"
   },
   {
    "duration": 10,
    "start_time": "2022-12-21T14:03:05.357Z"
   },
   {
    "duration": 41,
    "start_time": "2022-12-21T14:03:05.371Z"
   },
   {
    "duration": 45,
    "start_time": "2022-12-21T14:03:05.413Z"
   },
   {
    "duration": 51,
    "start_time": "2022-12-21T14:03:05.460Z"
   },
   {
    "duration": 63,
    "start_time": "2022-12-21T14:03:05.512Z"
   },
   {
    "duration": 52,
    "start_time": "2022-12-21T14:03:05.577Z"
   },
   {
    "duration": 30,
    "start_time": "2022-12-21T14:03:05.631Z"
   },
   {
    "duration": 59,
    "start_time": "2022-12-21T14:03:05.663Z"
   },
   {
    "duration": 54,
    "start_time": "2022-12-21T14:03:05.724Z"
   },
   {
    "duration": 355,
    "start_time": "2022-12-21T14:03:05.780Z"
   },
   {
    "duration": 81,
    "start_time": "2022-12-21T14:35:51.083Z"
   },
   {
    "duration": 1556,
    "start_time": "2022-12-21T14:36:01.139Z"
   },
   {
    "duration": 208,
    "start_time": "2022-12-21T14:36:02.698Z"
   },
   {
    "duration": 22,
    "start_time": "2022-12-21T14:36:02.909Z"
   },
   {
    "duration": 19,
    "start_time": "2022-12-21T14:36:02.935Z"
   },
   {
    "duration": 19,
    "start_time": "2022-12-21T14:36:02.956Z"
   },
   {
    "duration": 346,
    "start_time": "2022-12-21T14:36:02.977Z"
   },
   {
    "duration": 19,
    "start_time": "2022-12-21T14:36:03.327Z"
   },
   {
    "duration": 319,
    "start_time": "2022-12-21T14:36:03.348Z"
   },
   {
    "duration": 256,
    "start_time": "2022-12-21T14:36:04.363Z"
   },
   {
    "duration": 26,
    "start_time": "2022-12-21T14:36:04.623Z"
   },
   {
    "duration": 63,
    "start_time": "2022-12-21T14:36:04.651Z"
   },
   {
    "duration": 53,
    "start_time": "2022-12-21T14:36:04.716Z"
   },
   {
    "duration": 15,
    "start_time": "2022-12-21T14:36:04.771Z"
   },
   {
    "duration": 83,
    "start_time": "2022-12-21T14:36:04.789Z"
   },
   {
    "duration": 22,
    "start_time": "2022-12-21T14:36:04.874Z"
   },
   {
    "duration": 84,
    "start_time": "2022-12-21T14:36:04.905Z"
   },
   {
    "duration": 59,
    "start_time": "2022-12-21T14:36:04.991Z"
   },
   {
    "duration": 355,
    "start_time": "2022-12-21T14:36:05.054Z"
   },
   {
    "duration": 254,
    "start_time": "2022-12-21T14:36:05.425Z"
   },
   {
    "duration": 100,
    "start_time": "2022-12-21T14:36:05.681Z"
   },
   {
    "duration": 202,
    "start_time": "2022-12-21T14:36:05.783Z"
   },
   {
    "duration": 45,
    "start_time": "2022-12-21T14:36:05.987Z"
   },
   {
    "duration": 11,
    "start_time": "2022-12-21T14:36:06.045Z"
   },
   {
    "duration": 29,
    "start_time": "2022-12-21T14:36:06.059Z"
   },
   {
    "duration": 7,
    "start_time": "2022-12-21T14:36:06.089Z"
   },
   {
    "duration": 407,
    "start_time": "2022-12-21T14:36:06.099Z"
   },
   {
    "duration": 384,
    "start_time": "2022-12-21T14:36:06.508Z"
   },
   {
    "duration": 373,
    "start_time": "2022-12-21T14:36:06.894Z"
   },
   {
    "duration": 414,
    "start_time": "2022-12-21T14:36:07.269Z"
   },
   {
    "duration": 254,
    "start_time": "2022-12-21T14:36:07.685Z"
   },
   {
    "duration": 332,
    "start_time": "2022-12-21T14:36:07.941Z"
   },
   {
    "duration": 10,
    "start_time": "2022-12-21T14:36:08.276Z"
   },
   {
    "duration": 182,
    "start_time": "2022-12-21T14:36:08.287Z"
   },
   {
    "duration": 4,
    "start_time": "2022-12-21T14:36:08.471Z"
   },
   {
    "duration": 203,
    "start_time": "2022-12-21T14:36:08.477Z"
   },
   {
    "duration": 9,
    "start_time": "2022-12-21T14:36:08.682Z"
   },
   {
    "duration": 5,
    "start_time": "2022-12-21T14:36:10.550Z"
   },
   {
    "duration": 5,
    "start_time": "2022-12-21T14:36:10.580Z"
   },
   {
    "duration": 310,
    "start_time": "2022-12-21T14:36:10.762Z"
   },
   {
    "duration": 166,
    "start_time": "2022-12-21T14:36:11.491Z"
   },
   {
    "duration": 40,
    "start_time": "2022-12-21T14:36:12.883Z"
   },
   {
    "duration": 10,
    "start_time": "2022-12-21T14:36:13.334Z"
   },
   {
    "duration": 4,
    "start_time": "2022-12-21T14:36:13.683Z"
   },
   {
    "duration": 16,
    "start_time": "2022-12-21T14:36:14.326Z"
   },
   {
    "duration": 7,
    "start_time": "2022-12-21T14:36:14.351Z"
   },
   {
    "duration": 23,
    "start_time": "2022-12-21T14:36:17.717Z"
   },
   {
    "duration": 42,
    "start_time": "2022-12-21T14:36:18.619Z"
   },
   {
    "duration": 10,
    "start_time": "2022-12-21T14:36:18.910Z"
   },
   {
    "duration": 13,
    "start_time": "2022-12-21T14:36:20.676Z"
   },
   {
    "duration": 13,
    "start_time": "2022-12-21T14:36:20.934Z"
   },
   {
    "duration": 336,
    "start_time": "2022-12-21T14:36:21.216Z"
   },
   {
    "duration": 332,
    "start_time": "2022-12-21T14:37:04.323Z"
   },
   {
    "duration": 73,
    "start_time": "2022-12-21T14:39:47.410Z"
   },
   {
    "duration": 47,
    "start_time": "2022-12-21T14:39:49.651Z"
   },
   {
    "duration": 1401,
    "start_time": "2022-12-22T06:38:44.152Z"
   },
   {
    "duration": 103,
    "start_time": "2022-12-22T06:38:45.555Z"
   },
   {
    "duration": 14,
    "start_time": "2022-12-22T06:38:45.660Z"
   },
   {
    "duration": 16,
    "start_time": "2022-12-22T06:38:45.677Z"
   },
   {
    "duration": 28,
    "start_time": "2022-12-22T06:38:45.695Z"
   },
   {
    "duration": 324,
    "start_time": "2022-12-22T06:38:45.725Z"
   },
   {
    "duration": 13,
    "start_time": "2022-12-22T06:38:46.051Z"
   },
   {
    "duration": 299,
    "start_time": "2022-12-22T06:38:46.066Z"
   },
   {
    "duration": 10,
    "start_time": "2022-12-22T06:38:46.367Z"
   },
   {
    "duration": 445,
    "start_time": "2022-12-22T06:38:46.380Z"
   },
   {
    "duration": 26,
    "start_time": "2022-12-22T06:38:46.828Z"
   },
   {
    "duration": 45,
    "start_time": "2022-12-22T06:38:46.855Z"
   },
   {
    "duration": 20,
    "start_time": "2022-12-22T06:38:46.903Z"
   },
   {
    "duration": 23,
    "start_time": "2022-12-22T06:38:46.925Z"
   },
   {
    "duration": 20,
    "start_time": "2022-12-22T06:38:46.951Z"
   },
   {
    "duration": 16,
    "start_time": "2022-12-22T06:38:46.972Z"
   },
   {
    "duration": 24,
    "start_time": "2022-12-22T06:38:46.989Z"
   },
   {
    "duration": 28,
    "start_time": "2022-12-22T06:38:47.015Z"
   },
   {
    "duration": 336,
    "start_time": "2022-12-22T06:38:47.045Z"
   },
   {
    "duration": 201,
    "start_time": "2022-12-22T06:38:47.382Z"
   },
   {
    "duration": 66,
    "start_time": "2022-12-22T06:38:47.585Z"
   },
   {
    "duration": 145,
    "start_time": "2022-12-22T06:38:47.653Z"
   },
   {
    "duration": 10,
    "start_time": "2022-12-22T06:38:47.799Z"
   },
   {
    "duration": 42,
    "start_time": "2022-12-22T06:38:47.811Z"
   },
   {
    "duration": 32,
    "start_time": "2022-12-22T06:38:47.855Z"
   },
   {
    "duration": 8,
    "start_time": "2022-12-22T06:38:47.888Z"
   },
   {
    "duration": 306,
    "start_time": "2022-12-22T06:38:47.898Z"
   },
   {
    "duration": 315,
    "start_time": "2022-12-22T06:38:48.207Z"
   },
   {
    "duration": 323,
    "start_time": "2022-12-22T06:38:48.524Z"
   },
   {
    "duration": 395,
    "start_time": "2022-12-22T06:38:48.853Z"
   },
   {
    "duration": 245,
    "start_time": "2022-12-22T06:38:49.252Z"
   },
   {
    "duration": 361,
    "start_time": "2022-12-22T06:38:49.499Z"
   },
   {
    "duration": 10,
    "start_time": "2022-12-22T06:38:49.862Z"
   },
   {
    "duration": 178,
    "start_time": "2022-12-22T06:38:49.874Z"
   },
   {
    "duration": 6,
    "start_time": "2022-12-22T06:38:50.055Z"
   },
   {
    "duration": 191,
    "start_time": "2022-12-22T06:38:50.063Z"
   },
   {
    "duration": 10,
    "start_time": "2022-12-22T06:38:50.256Z"
   },
   {
    "duration": 31,
    "start_time": "2022-12-22T06:38:50.268Z"
   },
   {
    "duration": 33,
    "start_time": "2022-12-22T06:38:50.301Z"
   },
   {
    "duration": 267,
    "start_time": "2022-12-22T06:38:50.336Z"
   },
   {
    "duration": 148,
    "start_time": "2022-12-22T06:38:50.605Z"
   },
   {
    "duration": 25,
    "start_time": "2022-12-22T06:38:50.755Z"
   },
   {
    "duration": 4,
    "start_time": "2022-12-22T06:38:50.782Z"
   },
   {
    "duration": 15,
    "start_time": "2022-12-22T06:38:50.788Z"
   },
   {
    "duration": 38,
    "start_time": "2022-12-22T06:38:50.805Z"
   },
   {
    "duration": 34,
    "start_time": "2022-12-22T06:38:50.845Z"
   },
   {
    "duration": 11,
    "start_time": "2022-12-22T06:38:50.882Z"
   },
   {
    "duration": 53,
    "start_time": "2022-12-22T06:38:50.895Z"
   },
   {
    "duration": 6,
    "start_time": "2022-12-22T06:38:50.950Z"
   },
   {
    "duration": 27,
    "start_time": "2022-12-22T06:38:50.957Z"
   },
   {
    "duration": 17,
    "start_time": "2022-12-22T06:38:50.986Z"
   },
   {
    "duration": 360,
    "start_time": "2022-12-22T06:38:51.005Z"
   },
   {
    "duration": 10,
    "start_time": "2022-12-22T06:40:25.655Z"
   },
   {
    "duration": 13,
    "start_time": "2022-12-22T06:40:58.031Z"
   },
   {
    "duration": 12,
    "start_time": "2022-12-22T06:41:24.951Z"
   },
   {
    "duration": 284,
    "start_time": "2022-12-22T06:41:30.593Z"
   },
   {
    "duration": 12,
    "start_time": "2022-12-22T06:41:32.759Z"
   },
   {
    "duration": 265,
    "start_time": "2022-12-22T06:41:33.175Z"
   },
   {
    "duration": 12,
    "start_time": "2022-12-22T06:41:35.592Z"
   },
   {
    "duration": 11,
    "start_time": "2022-12-22T06:41:59.552Z"
   },
   {
    "duration": 258,
    "start_time": "2022-12-22T06:42:07.232Z"
   },
   {
    "duration": 12,
    "start_time": "2022-12-22T06:42:17.712Z"
   },
   {
    "duration": 262,
    "start_time": "2022-12-22T06:42:17.992Z"
   },
   {
    "duration": 12,
    "start_time": "2022-12-22T06:42:23.887Z"
   },
   {
    "duration": 9,
    "start_time": "2022-12-22T06:42:41.376Z"
   },
   {
    "duration": 9,
    "start_time": "2022-12-22T06:44:38.654Z"
   },
   {
    "duration": 13,
    "start_time": "2022-12-22T06:55:04.473Z"
   },
   {
    "duration": 12,
    "start_time": "2022-12-22T06:55:16.609Z"
   },
   {
    "duration": 411,
    "start_time": "2022-12-22T06:55:16.736Z"
   },
   {
    "duration": 18,
    "start_time": "2022-12-22T06:55:19.032Z"
   },
   {
    "duration": 278,
    "start_time": "2022-12-22T06:55:19.633Z"
   },
   {
    "duration": 9,
    "start_time": "2022-12-22T06:55:25.712Z"
   },
   {
    "duration": 21,
    "start_time": "2022-12-22T06:56:24.048Z"
   },
   {
    "duration": 26,
    "start_time": "2022-12-22T06:57:21.433Z"
   },
   {
    "duration": 10,
    "start_time": "2022-12-22T06:57:28.505Z"
   },
   {
    "duration": 144,
    "start_time": "2022-12-22T06:57:46.914Z"
   },
   {
    "duration": 10,
    "start_time": "2022-12-22T06:58:21.810Z"
   },
   {
    "duration": 19,
    "start_time": "2022-12-22T07:01:38.083Z"
   },
   {
    "duration": 60,
    "start_time": "2022-12-22T07:06:09.630Z"
   },
   {
    "duration": 70,
    "start_time": "2022-12-22T07:06:17.078Z"
   },
   {
    "duration": 68,
    "start_time": "2022-12-22T07:06:22.806Z"
   },
   {
    "duration": 12,
    "start_time": "2022-12-22T07:06:40.063Z"
   },
   {
    "duration": 22,
    "start_time": "2022-12-22T07:08:12.071Z"
   },
   {
    "duration": 21,
    "start_time": "2022-12-22T07:09:24.496Z"
   },
   {
    "duration": 13,
    "start_time": "2022-12-22T07:11:01.049Z"
   },
   {
    "duration": 17,
    "start_time": "2022-12-22T07:11:13.540Z"
   },
   {
    "duration": 6,
    "start_time": "2022-12-22T07:17:30.971Z"
   },
   {
    "duration": 17,
    "start_time": "2022-12-22T07:18:07.733Z"
   },
   {
    "duration": 7,
    "start_time": "2022-12-22T07:18:39.883Z"
   },
   {
    "duration": 8,
    "start_time": "2022-12-22T07:19:09.612Z"
   },
   {
    "duration": 12,
    "start_time": "2022-12-22T07:19:25.172Z"
   },
   {
    "duration": 16,
    "start_time": "2022-12-22T07:19:25.396Z"
   },
   {
    "duration": 13,
    "start_time": "2022-12-22T07:20:53.269Z"
   },
   {
    "duration": 16,
    "start_time": "2022-12-22T07:21:00.889Z"
   },
   {
    "duration": 18,
    "start_time": "2022-12-22T07:21:55.741Z"
   },
   {
    "duration": 14,
    "start_time": "2022-12-22T07:22:00.389Z"
   },
   {
    "duration": 16,
    "start_time": "2022-12-22T07:25:41.614Z"
   },
   {
    "duration": 15,
    "start_time": "2022-12-22T07:28:30.512Z"
   },
   {
    "duration": 21,
    "start_time": "2022-12-22T07:28:37.161Z"
   },
   {
    "duration": 16,
    "start_time": "2022-12-22T07:28:57.656Z"
   },
   {
    "duration": 14,
    "start_time": "2022-12-22T07:37:31.766Z"
   },
   {
    "duration": 45,
    "start_time": "2022-12-22T07:37:58.559Z"
   },
   {
    "duration": 23,
    "start_time": "2022-12-22T07:38:02.932Z"
   },
   {
    "duration": 40,
    "start_time": "2022-12-22T07:38:12.420Z"
   },
   {
    "duration": 14,
    "start_time": "2022-12-22T07:38:44.398Z"
   },
   {
    "duration": 14,
    "start_time": "2022-12-22T07:39:39.773Z"
   },
   {
    "duration": 18,
    "start_time": "2022-12-22T07:41:56.770Z"
   },
   {
    "duration": 17,
    "start_time": "2022-12-22T07:44:02.375Z"
   },
   {
    "duration": 16,
    "start_time": "2022-12-22T07:44:15.271Z"
   },
   {
    "duration": 16,
    "start_time": "2022-12-22T07:44:54.358Z"
   },
   {
    "duration": 32,
    "start_time": "2022-12-22T07:45:01.927Z"
   },
   {
    "duration": 15,
    "start_time": "2022-12-22T07:45:43.008Z"
   },
   {
    "duration": 15,
    "start_time": "2022-12-22T07:46:14.168Z"
   },
   {
    "duration": 24,
    "start_time": "2022-12-22T07:48:07.433Z"
   },
   {
    "duration": 16,
    "start_time": "2022-12-22T07:48:12.305Z"
   },
   {
    "duration": 10,
    "start_time": "2022-12-22T07:49:11.494Z"
   },
   {
    "duration": 14,
    "start_time": "2022-12-22T07:49:26.554Z"
   },
   {
    "duration": 14,
    "start_time": "2022-12-22T07:49:34.529Z"
   },
   {
    "duration": 11,
    "start_time": "2022-12-22T07:49:41.882Z"
   },
   {
    "duration": 9,
    "start_time": "2022-12-22T07:49:56.202Z"
   },
   {
    "duration": 13,
    "start_time": "2022-12-22T07:50:00.461Z"
   },
   {
    "duration": 11,
    "start_time": "2022-12-22T07:50:17.202Z"
   },
   {
    "duration": 35,
    "start_time": "2022-12-22T08:01:10.851Z"
   },
   {
    "duration": 15,
    "start_time": "2022-12-22T08:14:39.397Z"
   },
   {
    "duration": 16,
    "start_time": "2022-12-22T08:16:33.285Z"
   },
   {
    "duration": 25,
    "start_time": "2022-12-22T08:17:03.838Z"
   },
   {
    "duration": 15,
    "start_time": "2022-12-22T08:17:18.726Z"
   },
   {
    "duration": 15,
    "start_time": "2022-12-22T08:17:42.814Z"
   },
   {
    "duration": 16,
    "start_time": "2022-12-22T08:18:02.199Z"
   },
   {
    "duration": 16,
    "start_time": "2022-12-22T08:18:30.743Z"
   },
   {
    "duration": 16,
    "start_time": "2022-12-22T08:18:36.983Z"
   },
   {
    "duration": 15,
    "start_time": "2022-12-22T08:18:41.303Z"
   },
   {
    "duration": 14,
    "start_time": "2022-12-22T08:18:47.511Z"
   },
   {
    "duration": 14,
    "start_time": "2022-12-22T08:18:51.071Z"
   },
   {
    "duration": 15,
    "start_time": "2022-12-22T08:19:04.663Z"
   },
   {
    "duration": 15,
    "start_time": "2022-12-22T08:19:15.296Z"
   },
   {
    "duration": 15,
    "start_time": "2022-12-22T08:19:45.712Z"
   },
   {
    "duration": 15,
    "start_time": "2022-12-22T08:19:54.175Z"
   },
   {
    "duration": 14,
    "start_time": "2022-12-22T08:20:07.448Z"
   },
   {
    "duration": 15,
    "start_time": "2022-12-22T08:26:33.207Z"
   },
   {
    "duration": 16,
    "start_time": "2022-12-22T08:26:40.009Z"
   },
   {
    "duration": 15,
    "start_time": "2022-12-22T08:26:46.902Z"
   },
   {
    "duration": 16,
    "start_time": "2022-12-22T08:27:25.097Z"
   },
   {
    "duration": 29,
    "start_time": "2022-12-22T08:28:07.634Z"
   },
   {
    "duration": 37,
    "start_time": "2022-12-22T08:28:25.826Z"
   },
   {
    "duration": 17,
    "start_time": "2022-12-22T08:28:30.957Z"
   },
   {
    "duration": 17,
    "start_time": "2022-12-22T08:29:21.474Z"
   },
   {
    "duration": 15,
    "start_time": "2022-12-22T08:29:29.972Z"
   },
   {
    "duration": 18,
    "start_time": "2022-12-22T08:29:37.269Z"
   },
   {
    "duration": 17,
    "start_time": "2022-12-22T08:29:46.898Z"
   },
   {
    "duration": 20,
    "start_time": "2022-12-22T08:54:10.908Z"
   },
   {
    "duration": 18,
    "start_time": "2022-12-22T08:54:24.212Z"
   },
   {
    "duration": 20,
    "start_time": "2022-12-22T08:55:18.748Z"
   },
   {
    "duration": 21,
    "start_time": "2022-12-22T08:55:45.925Z"
   },
   {
    "duration": 35,
    "start_time": "2022-12-22T08:56:02.667Z"
   },
   {
    "duration": 19,
    "start_time": "2022-12-22T08:56:11.953Z"
   },
   {
    "duration": 28,
    "start_time": "2022-12-22T08:56:51.437Z"
   },
   {
    "duration": 24,
    "start_time": "2022-12-22T08:56:55.220Z"
   },
   {
    "duration": 22,
    "start_time": "2022-12-22T09:02:20.517Z"
   },
   {
    "duration": 21,
    "start_time": "2022-12-22T09:03:26.070Z"
   },
   {
    "duration": 450,
    "start_time": "2022-12-22T09:04:47.434Z"
   },
   {
    "duration": 27,
    "start_time": "2022-12-22T09:04:53.233Z"
   },
   {
    "duration": 21,
    "start_time": "2022-12-22T09:05:11.650Z"
   },
   {
    "duration": 23,
    "start_time": "2022-12-22T09:05:34.851Z"
   },
   {
    "duration": 397,
    "start_time": "2022-12-22T09:06:15.136Z"
   },
   {
    "duration": 28,
    "start_time": "2022-12-22T09:06:19.751Z"
   },
   {
    "duration": 32,
    "start_time": "2022-12-22T09:07:04.424Z"
   },
   {
    "duration": 17,
    "start_time": "2022-12-22T09:08:19.402Z"
   },
   {
    "duration": 19,
    "start_time": "2022-12-22T09:08:48.222Z"
   },
   {
    "duration": 26,
    "start_time": "2022-12-22T09:08:55.440Z"
   },
   {
    "duration": 20,
    "start_time": "2022-12-22T09:09:00.911Z"
   },
   {
    "duration": 24,
    "start_time": "2022-12-22T09:09:12.047Z"
   },
   {
    "duration": 19,
    "start_time": "2022-12-22T09:09:17.721Z"
   },
   {
    "duration": 25,
    "start_time": "2022-12-22T09:09:30.769Z"
   },
   {
    "duration": 18,
    "start_time": "2022-12-22T09:09:34.701Z"
   },
   {
    "duration": 20,
    "start_time": "2022-12-22T09:11:17.601Z"
   },
   {
    "duration": 26,
    "start_time": "2022-12-22T09:11:26.608Z"
   },
   {
    "duration": 57,
    "start_time": "2022-12-22T09:12:30.928Z"
   },
   {
    "duration": 26,
    "start_time": "2022-12-22T09:14:42.118Z"
   },
   {
    "duration": 20,
    "start_time": "2022-12-22T09:16:09.445Z"
   },
   {
    "duration": 22,
    "start_time": "2022-12-22T09:16:56.317Z"
   },
   {
    "duration": 24,
    "start_time": "2022-12-22T09:17:26.709Z"
   },
   {
    "duration": 31,
    "start_time": "2022-12-22T09:17:36.573Z"
   },
   {
    "duration": 21,
    "start_time": "2022-12-22T09:17:41.628Z"
   },
   {
    "duration": 22,
    "start_time": "2022-12-22T09:18:13.295Z"
   },
   {
    "duration": 29,
    "start_time": "2022-12-22T09:21:17.926Z"
   },
   {
    "duration": 64,
    "start_time": "2022-12-22T09:23:33.103Z"
   },
   {
    "duration": 24,
    "start_time": "2022-12-22T09:23:49.396Z"
   },
   {
    "duration": 33,
    "start_time": "2022-12-22T09:24:36.712Z"
   },
   {
    "duration": 29,
    "start_time": "2022-12-22T09:25:36.928Z"
   },
   {
    "duration": 22,
    "start_time": "2022-12-22T09:25:53.056Z"
   },
   {
    "duration": 23,
    "start_time": "2022-12-22T09:27:12.001Z"
   },
   {
    "duration": 21,
    "start_time": "2022-12-22T09:27:31.512Z"
   },
   {
    "duration": 21,
    "start_time": "2022-12-22T09:28:14.401Z"
   },
   {
    "duration": 25,
    "start_time": "2022-12-22T09:28:30.197Z"
   },
   {
    "duration": 30,
    "start_time": "2022-12-22T09:28:48.009Z"
   },
   {
    "duration": 24,
    "start_time": "2022-12-22T09:33:26.693Z"
   },
   {
    "duration": 22,
    "start_time": "2022-12-22T09:36:56.393Z"
   },
   {
    "duration": 23,
    "start_time": "2022-12-22T09:37:07.900Z"
   },
   {
    "duration": 22,
    "start_time": "2022-12-22T09:38:12.765Z"
   },
   {
    "duration": 24,
    "start_time": "2022-12-22T09:38:25.813Z"
   },
   {
    "duration": 31,
    "start_time": "2022-12-22T09:38:30.773Z"
   },
   {
    "duration": 33,
    "start_time": "2022-12-22T09:39:00.758Z"
   },
   {
    "duration": 27,
    "start_time": "2022-12-22T09:39:28.990Z"
   },
   {
    "duration": 25,
    "start_time": "2022-12-22T09:40:14.774Z"
   },
   {
    "duration": 22,
    "start_time": "2022-12-22T09:41:03.046Z"
   },
   {
    "duration": 21,
    "start_time": "2022-12-22T09:41:40.798Z"
   },
   {
    "duration": 57,
    "start_time": "2022-12-22T09:44:32.472Z"
   },
   {
    "duration": 21,
    "start_time": "2022-12-22T09:44:40.616Z"
   },
   {
    "duration": 22,
    "start_time": "2022-12-22T09:46:02.305Z"
   },
   {
    "duration": 20,
    "start_time": "2022-12-22T09:46:28.083Z"
   },
   {
    "duration": 24,
    "start_time": "2022-12-22T09:47:01.401Z"
   },
   {
    "duration": 15,
    "start_time": "2022-12-22T09:47:09.483Z"
   },
   {
    "duration": 16,
    "start_time": "2022-12-22T09:47:57.753Z"
   },
   {
    "duration": 19,
    "start_time": "2022-12-22T09:48:06.121Z"
   },
   {
    "duration": 17,
    "start_time": "2022-12-22T09:49:54.034Z"
   },
   {
    "duration": 17,
    "start_time": "2022-12-22T09:53:13.939Z"
   },
   {
    "duration": 20,
    "start_time": "2022-12-22T09:53:35.810Z"
   },
   {
    "duration": 30,
    "start_time": "2022-12-22T09:53:51.837Z"
   },
   {
    "duration": 17,
    "start_time": "2022-12-22T09:56:04.220Z"
   },
   {
    "duration": 19,
    "start_time": "2022-12-22T09:56:10.717Z"
   },
   {
    "duration": 18,
    "start_time": "2022-12-22T09:56:28.628Z"
   },
   {
    "duration": 16,
    "start_time": "2022-12-22T09:56:40.436Z"
   },
   {
    "duration": 17,
    "start_time": "2022-12-22T09:57:27.525Z"
   },
   {
    "duration": 4,
    "start_time": "2022-12-22T09:57:59.558Z"
   },
   {
    "duration": 14,
    "start_time": "2022-12-22T09:58:07.453Z"
   },
   {
    "duration": 30,
    "start_time": "2022-12-22T10:00:09.974Z"
   },
   {
    "duration": 29,
    "start_time": "2022-12-22T10:00:31.303Z"
   },
   {
    "duration": 20,
    "start_time": "2022-12-22T10:01:14.117Z"
   },
   {
    "duration": 20,
    "start_time": "2022-12-22T10:01:59.079Z"
   },
   {
    "duration": 8,
    "start_time": "2022-12-22T10:10:35.625Z"
   },
   {
    "duration": 10,
    "start_time": "2022-12-22T10:11:00.792Z"
   },
   {
    "duration": 10,
    "start_time": "2022-12-22T10:11:05.666Z"
   },
   {
    "duration": 11,
    "start_time": "2022-12-22T10:17:31.020Z"
   },
   {
    "duration": 15,
    "start_time": "2022-12-22T10:18:06.332Z"
   },
   {
    "duration": 34,
    "start_time": "2022-12-22T10:18:51.902Z"
   },
   {
    "duration": 6,
    "start_time": "2022-12-22T10:18:56.666Z"
   },
   {
    "duration": 20,
    "start_time": "2022-12-22T10:19:02.206Z"
   },
   {
    "duration": 10,
    "start_time": "2022-12-22T10:19:10.905Z"
   },
   {
    "duration": 442,
    "start_time": "2022-12-22T10:19:14.676Z"
   },
   {
    "duration": 1368,
    "start_time": "2022-12-23T08:14:32.711Z"
   },
   {
    "duration": 91,
    "start_time": "2022-12-23T08:14:34.081Z"
   },
   {
    "duration": 18,
    "start_time": "2022-12-23T08:14:34.173Z"
   },
   {
    "duration": 4,
    "start_time": "2022-12-23T08:14:34.193Z"
   },
   {
    "duration": 25,
    "start_time": "2022-12-23T08:14:34.199Z"
   },
   {
    "duration": 317,
    "start_time": "2022-12-23T08:14:34.226Z"
   },
   {
    "duration": 16,
    "start_time": "2022-12-23T08:14:34.545Z"
   },
   {
    "duration": 316,
    "start_time": "2022-12-23T08:14:34.563Z"
   },
   {
    "duration": 83,
    "start_time": "2022-12-23T08:14:34.881Z"
   },
   {
    "duration": 171,
    "start_time": "2022-12-23T08:14:34.967Z"
   },
   {
    "duration": 14,
    "start_time": "2022-12-23T08:14:35.140Z"
   },
   {
    "duration": 35,
    "start_time": "2022-12-23T08:14:35.157Z"
   },
   {
    "duration": 22,
    "start_time": "2022-12-23T08:14:35.194Z"
   },
   {
    "duration": 13,
    "start_time": "2022-12-23T08:14:35.218Z"
   },
   {
    "duration": 45,
    "start_time": "2022-12-23T08:14:35.233Z"
   },
   {
    "duration": 4,
    "start_time": "2022-12-23T08:14:35.281Z"
   },
   {
    "duration": 24,
    "start_time": "2022-12-23T08:14:35.287Z"
   },
   {
    "duration": 20,
    "start_time": "2022-12-23T08:14:35.313Z"
   },
   {
    "duration": 328,
    "start_time": "2022-12-23T08:14:35.335Z"
   },
   {
    "duration": 219,
    "start_time": "2022-12-23T08:14:35.665Z"
   },
   {
    "duration": 26,
    "start_time": "2022-12-23T08:14:35.886Z"
   },
   {
    "duration": 238,
    "start_time": "2022-12-23T08:14:35.914Z"
   },
   {
    "duration": 14,
    "start_time": "2022-12-23T08:14:36.155Z"
   },
   {
    "duration": 28,
    "start_time": "2022-12-23T08:14:36.171Z"
   },
   {
    "duration": 42,
    "start_time": "2022-12-23T08:14:36.202Z"
   },
   {
    "duration": 9,
    "start_time": "2022-12-23T08:14:36.246Z"
   },
   {
    "duration": 439,
    "start_time": "2022-12-23T08:14:36.257Z"
   },
   {
    "duration": 338,
    "start_time": "2022-12-23T08:14:36.700Z"
   },
   {
    "duration": 350,
    "start_time": "2022-12-23T08:14:37.040Z"
   },
   {
    "duration": 406,
    "start_time": "2022-12-23T08:14:37.392Z"
   },
   {
    "duration": 261,
    "start_time": "2022-12-23T08:14:37.800Z"
   },
   {
    "duration": 365,
    "start_time": "2022-12-23T08:14:38.064Z"
   },
   {
    "duration": 12,
    "start_time": "2022-12-23T08:14:38.431Z"
   },
   {
    "duration": 237,
    "start_time": "2022-12-23T08:14:38.445Z"
   },
   {
    "duration": 6,
    "start_time": "2022-12-23T08:14:38.685Z"
   },
   {
    "duration": 202,
    "start_time": "2022-12-23T08:14:38.693Z"
   },
   {
    "duration": 16,
    "start_time": "2022-12-23T08:14:38.898Z"
   },
   {
    "duration": 8,
    "start_time": "2022-12-23T08:14:38.917Z"
   },
   {
    "duration": 12,
    "start_time": "2022-12-23T08:14:38.927Z"
   },
   {
    "duration": 314,
    "start_time": "2022-12-23T08:14:38.941Z"
   },
   {
    "duration": 221,
    "start_time": "2022-12-23T08:14:39.257Z"
   },
   {
    "duration": 32,
    "start_time": "2022-12-23T08:14:39.480Z"
   },
   {
    "duration": 5,
    "start_time": "2022-12-23T08:14:39.513Z"
   },
   {
    "duration": 12,
    "start_time": "2022-12-23T08:14:39.520Z"
   },
   {
    "duration": 16,
    "start_time": "2022-12-23T08:14:39.534Z"
   },
   {
    "duration": 8,
    "start_time": "2022-12-23T08:14:39.553Z"
   },
   {
    "duration": 14,
    "start_time": "2022-12-23T08:14:39.564Z"
   },
   {
    "duration": 56,
    "start_time": "2022-12-23T08:14:39.580Z"
   },
   {
    "duration": 5,
    "start_time": "2022-12-23T08:14:39.638Z"
   },
   {
    "duration": 17,
    "start_time": "2022-12-23T08:14:39.645Z"
   },
   {
    "duration": 48,
    "start_time": "2022-12-23T08:14:39.664Z"
   },
   {
    "duration": 354,
    "start_time": "2022-12-23T08:14:39.714Z"
   },
   {
    "duration": 77,
    "start_time": "2022-12-23T08:17:39.272Z"
   },
   {
    "duration": 4,
    "start_time": "2022-12-23T08:24:57.020Z"
   },
   {
    "duration": 13,
    "start_time": "2022-12-23T08:25:23.141Z"
   },
   {
    "duration": 7,
    "start_time": "2022-12-23T08:25:39.667Z"
   },
   {
    "duration": 293,
    "start_time": "2022-12-23T08:38:00.321Z"
   },
   {
    "duration": 13,
    "start_time": "2022-12-23T08:45:38.965Z"
   },
   {
    "duration": 499,
    "start_time": "2022-12-23T09:07:14.726Z"
   },
   {
    "duration": 451,
    "start_time": "2022-12-23T09:08:46.801Z"
   },
   {
    "duration": 443,
    "start_time": "2022-12-23T09:09:35.496Z"
   },
   {
    "duration": 900,
    "start_time": "2022-12-23T09:10:33.225Z"
   },
   {
    "duration": 224,
    "start_time": "2022-12-23T09:11:27.073Z"
   },
   {
    "duration": 221,
    "start_time": "2022-12-23T09:12:26.865Z"
   },
   {
    "duration": 916,
    "start_time": "2022-12-23T09:15:44.765Z"
   },
   {
    "duration": 11,
    "start_time": "2022-12-23T09:17:39.155Z"
   },
   {
    "duration": 346,
    "start_time": "2022-12-23T09:19:34.682Z"
   },
   {
    "duration": 215,
    "start_time": "2022-12-23T09:21:25.437Z"
   },
   {
    "duration": 12,
    "start_time": "2022-12-23T09:26:43.029Z"
   },
   {
    "duration": 230,
    "start_time": "2022-12-23T09:27:01.128Z"
   },
   {
    "duration": 9,
    "start_time": "2022-12-23T09:27:39.997Z"
   },
   {
    "duration": 17,
    "start_time": "2022-12-23T09:27:49.464Z"
   },
   {
    "duration": 10,
    "start_time": "2022-12-23T09:28:02.401Z"
   },
   {
    "duration": 133,
    "start_time": "2022-12-23T09:28:11.264Z"
   },
   {
    "duration": 153,
    "start_time": "2022-12-23T09:28:57.313Z"
   },
   {
    "duration": 6,
    "start_time": "2022-12-23T09:29:31.545Z"
   },
   {
    "duration": 16,
    "start_time": "2022-12-23T09:31:46.616Z"
   },
   {
    "duration": 13,
    "start_time": "2022-12-23T09:36:54.394Z"
   },
   {
    "duration": 8,
    "start_time": "2022-12-23T09:37:04.699Z"
   },
   {
    "duration": 9,
    "start_time": "2022-12-23T09:37:57.201Z"
   },
   {
    "duration": 6,
    "start_time": "2022-12-23T09:40:01.502Z"
   },
   {
    "duration": 12,
    "start_time": "2022-12-23T09:52:34.608Z"
   },
   {
    "duration": 8,
    "start_time": "2022-12-23T09:52:45.601Z"
   },
   {
    "duration": 12,
    "start_time": "2022-12-23T10:01:40.141Z"
   },
   {
    "duration": 176,
    "start_time": "2022-12-23T10:08:53.311Z"
   },
   {
    "duration": 13,
    "start_time": "2022-12-23T10:11:26.819Z"
   },
   {
    "duration": 29,
    "start_time": "2022-12-23T10:12:51.948Z"
   },
   {
    "duration": 19,
    "start_time": "2022-12-23T10:14:39.818Z"
   },
   {
    "duration": 12,
    "start_time": "2022-12-23T10:14:46.428Z"
   },
   {
    "duration": 23,
    "start_time": "2022-12-23T10:15:05.965Z"
   },
   {
    "duration": 353,
    "start_time": "2022-12-23T10:15:57.597Z"
   },
   {
    "duration": 344,
    "start_time": "2022-12-23T10:36:23.033Z"
   },
   {
    "duration": 5,
    "start_time": "2022-12-23T10:51:21.890Z"
   },
   {
    "duration": 10,
    "start_time": "2022-12-23T10:51:40.411Z"
   },
   {
    "duration": 15,
    "start_time": "2022-12-23T11:02:36.092Z"
   },
   {
    "duration": 12,
    "start_time": "2022-12-23T11:02:46.872Z"
   },
   {
    "duration": 8,
    "start_time": "2022-12-23T11:17:12.501Z"
   },
   {
    "duration": 16,
    "start_time": "2022-12-23T11:21:21.463Z"
   },
   {
    "duration": 25,
    "start_time": "2022-12-23T11:21:52.740Z"
   },
   {
    "duration": 28,
    "start_time": "2022-12-23T11:22:32.696Z"
   },
   {
    "duration": 17,
    "start_time": "2022-12-23T11:33:07.150Z"
   },
   {
    "duration": 11,
    "start_time": "2022-12-23T11:36:14.065Z"
   },
   {
    "duration": 187,
    "start_time": "2022-12-23T11:41:44.337Z"
   },
   {
    "duration": 187,
    "start_time": "2022-12-23T11:42:04.065Z"
   },
   {
    "duration": 170,
    "start_time": "2022-12-23T11:44:27.657Z"
   },
   {
    "duration": 181,
    "start_time": "2022-12-23T11:46:41.363Z"
   },
   {
    "duration": 215,
    "start_time": "2022-12-23T11:50:30.172Z"
   },
   {
    "duration": 397,
    "start_time": "2022-12-23T11:53:07.727Z"
   },
   {
    "duration": 388,
    "start_time": "2022-12-23T11:54:10.802Z"
   },
   {
    "duration": 332,
    "start_time": "2022-12-23T11:58:50.170Z"
   },
   {
    "duration": 323,
    "start_time": "2022-12-23T12:00:09.626Z"
   },
   {
    "duration": 325,
    "start_time": "2022-12-23T12:00:28.511Z"
   },
   {
    "duration": 340,
    "start_time": "2022-12-23T12:00:40.119Z"
   },
   {
    "duration": 307,
    "start_time": "2022-12-23T12:00:47.953Z"
   },
   {
    "duration": 479,
    "start_time": "2022-12-23T12:01:00.258Z"
   },
   {
    "duration": 337,
    "start_time": "2022-12-23T12:01:36.915Z"
   },
   {
    "duration": 29,
    "start_time": "2022-12-23T12:04:58.473Z"
   },
   {
    "duration": 5,
    "start_time": "2022-12-23T12:04:59.912Z"
   },
   {
    "duration": 387,
    "start_time": "2022-12-23T12:05:33.955Z"
   },
   {
    "duration": 4,
    "start_time": "2022-12-23T12:07:36.534Z"
   },
   {
    "duration": 128,
    "start_time": "2022-12-23T12:07:36.574Z"
   },
   {
    "duration": 9,
    "start_time": "2022-12-23T12:07:36.704Z"
   },
   {
    "duration": 6,
    "start_time": "2022-12-23T12:07:36.715Z"
   },
   {
    "duration": 12,
    "start_time": "2022-12-23T12:07:36.781Z"
   },
   {
    "duration": 278,
    "start_time": "2022-12-23T12:07:36.828Z"
   },
   {
    "duration": 13,
    "start_time": "2022-12-23T12:07:37.112Z"
   },
   {
    "duration": 282,
    "start_time": "2022-12-23T12:07:37.126Z"
   },
   {
    "duration": 25,
    "start_time": "2022-12-23T12:07:37.412Z"
   },
   {
    "duration": 353,
    "start_time": "2022-12-23T12:07:37.438Z"
   },
   {
    "duration": 13,
    "start_time": "2022-12-23T12:07:37.793Z"
   },
   {
    "duration": 23,
    "start_time": "2022-12-23T12:07:37.807Z"
   },
   {
    "duration": 17,
    "start_time": "2022-12-23T12:07:37.832Z"
   },
   {
    "duration": 7,
    "start_time": "2022-12-23T12:07:37.852Z"
   },
   {
    "duration": 17,
    "start_time": "2022-12-23T12:07:37.861Z"
   },
   {
    "duration": 6,
    "start_time": "2022-12-23T12:07:37.911Z"
   },
   {
    "duration": 8,
    "start_time": "2022-12-23T12:07:37.919Z"
   },
   {
    "duration": 11,
    "start_time": "2022-12-23T12:07:37.928Z"
   },
   {
    "duration": 287,
    "start_time": "2022-12-23T12:07:37.940Z"
   },
   {
    "duration": 205,
    "start_time": "2022-12-23T12:07:38.229Z"
   },
   {
    "duration": 11,
    "start_time": "2022-12-23T12:07:38.436Z"
   },
   {
    "duration": 161,
    "start_time": "2022-12-23T12:07:38.451Z"
   },
   {
    "duration": 11,
    "start_time": "2022-12-23T12:07:38.614Z"
   },
   {
    "duration": 11,
    "start_time": "2022-12-23T12:07:38.627Z"
   },
   {
    "duration": 22,
    "start_time": "2022-12-23T12:07:38.640Z"
   },
   {
    "duration": 49,
    "start_time": "2022-12-23T12:07:38.664Z"
   },
   {
    "duration": 13,
    "start_time": "2022-12-23T12:07:38.715Z"
   },
   {
    "duration": 465,
    "start_time": "2022-12-23T12:07:39.773Z"
   },
   {
    "duration": 224,
    "start_time": "2022-12-23T12:07:40.333Z"
   },
   {
    "duration": 344,
    "start_time": "2022-12-23T12:07:40.559Z"
   },
   {
    "duration": 331,
    "start_time": "2022-12-23T12:07:40.905Z"
   },
   {
    "duration": 233,
    "start_time": "2022-12-23T12:07:41.996Z"
   },
   {
    "duration": 316,
    "start_time": "2022-12-23T12:07:43.024Z"
   },
   {
    "duration": 9,
    "start_time": "2022-12-23T12:07:43.653Z"
   },
   {
    "duration": 141,
    "start_time": "2022-12-23T12:07:43.773Z"
   },
   {
    "duration": 4,
    "start_time": "2022-12-23T12:07:43.927Z"
   },
   {
    "duration": 27,
    "start_time": "2022-12-23T12:07:43.935Z"
   },
   {
    "duration": 151,
    "start_time": "2022-12-23T12:07:44.667Z"
   },
   {
    "duration": 9,
    "start_time": "2022-12-23T12:07:44.915Z"
   },
   {
    "duration": 5,
    "start_time": "2022-12-23T12:07:45.659Z"
   },
   {
    "duration": 5,
    "start_time": "2022-12-23T12:07:45.875Z"
   },
   {
    "duration": 278,
    "start_time": "2022-12-23T12:07:47.008Z"
   },
   {
    "duration": 163,
    "start_time": "2022-12-23T12:07:49.672Z"
   },
   {
    "duration": 22,
    "start_time": "2022-12-23T12:07:50.963Z"
   },
   {
    "duration": 4,
    "start_time": "2022-12-23T12:07:51.429Z"
   },
   {
    "duration": 5,
    "start_time": "2022-12-23T12:07:51.763Z"
   },
   {
    "duration": 12,
    "start_time": "2022-12-23T12:07:53.572Z"
   },
   {
    "duration": 7,
    "start_time": "2022-12-23T12:07:53.990Z"
   },
   {
    "duration": 12,
    "start_time": "2022-12-23T12:08:00.215Z"
   },
   {
    "duration": 29,
    "start_time": "2022-12-23T12:08:01.623Z"
   },
   {
    "duration": 398,
    "start_time": "2022-12-23T12:08:01.823Z"
   },
   {
    "duration": 6,
    "start_time": "2022-12-23T12:08:02.223Z"
   },
   {
    "duration": 302,
    "start_time": "2022-12-23T12:08:02.443Z"
   },
   {
    "duration": 16,
    "start_time": "2022-12-23T12:08:05.025Z"
   },
   {
    "duration": 9,
    "start_time": "2022-12-23T12:08:05.661Z"
   },
   {
    "duration": 383,
    "start_time": "2022-12-23T12:08:06.311Z"
   },
   {
    "duration": 10,
    "start_time": "2022-12-23T13:10:34.246Z"
   },
   {
    "duration": 320,
    "start_time": "2022-12-23T13:17:37.019Z"
   },
   {
    "duration": 1120,
    "start_time": "2022-12-23T14:09:04.352Z"
   },
   {
    "duration": 112,
    "start_time": "2022-12-23T14:09:05.474Z"
   },
   {
    "duration": 11,
    "start_time": "2022-12-23T14:09:05.589Z"
   },
   {
    "duration": 19,
    "start_time": "2022-12-23T14:09:05.602Z"
   },
   {
    "duration": 44,
    "start_time": "2022-12-23T14:09:05.623Z"
   },
   {
    "duration": 272,
    "start_time": "2022-12-23T14:09:05.668Z"
   },
   {
    "duration": 15,
    "start_time": "2022-12-23T14:09:05.942Z"
   },
   {
    "duration": 265,
    "start_time": "2022-12-23T14:09:05.958Z"
   },
   {
    "duration": 60,
    "start_time": "2022-12-23T14:09:06.225Z"
   },
   {
    "duration": 223,
    "start_time": "2022-12-23T14:09:06.287Z"
   },
   {
    "duration": 11,
    "start_time": "2022-12-23T14:09:06.512Z"
   },
   {
    "duration": 27,
    "start_time": "2022-12-23T14:09:06.525Z"
   },
   {
    "duration": 18,
    "start_time": "2022-12-23T14:09:06.554Z"
   },
   {
    "duration": 23,
    "start_time": "2022-12-23T14:09:06.573Z"
   },
   {
    "duration": 22,
    "start_time": "2022-12-23T14:09:06.597Z"
   },
   {
    "duration": 26,
    "start_time": "2022-12-23T14:09:06.621Z"
   },
   {
    "duration": 19,
    "start_time": "2022-12-23T14:09:06.649Z"
   },
   {
    "duration": 34,
    "start_time": "2022-12-23T14:09:06.669Z"
   },
   {
    "duration": 232,
    "start_time": "2022-12-23T14:09:06.704Z"
   },
   {
    "duration": 176,
    "start_time": "2022-12-23T14:09:06.938Z"
   },
   {
    "duration": 9,
    "start_time": "2022-12-23T14:09:07.116Z"
   },
   {
    "duration": 144,
    "start_time": "2022-12-23T14:09:07.126Z"
   },
   {
    "duration": 10,
    "start_time": "2022-12-23T14:09:07.271Z"
   },
   {
    "duration": 25,
    "start_time": "2022-12-23T14:09:07.282Z"
   },
   {
    "duration": 40,
    "start_time": "2022-12-23T14:09:07.309Z"
   },
   {
    "duration": 21,
    "start_time": "2022-12-23T14:09:07.351Z"
   },
   {
    "duration": 45,
    "start_time": "2022-12-23T14:09:07.373Z"
   },
   {
    "duration": 418,
    "start_time": "2022-12-23T14:09:07.419Z"
   },
   {
    "duration": 267,
    "start_time": "2022-12-23T14:09:07.839Z"
   },
   {
    "duration": 282,
    "start_time": "2022-12-23T14:09:08.107Z"
   },
   {
    "duration": 274,
    "start_time": "2022-12-23T14:09:08.391Z"
   },
   {
    "duration": 206,
    "start_time": "2022-12-23T14:09:08.667Z"
   },
   {
    "duration": 281,
    "start_time": "2022-12-23T14:09:08.874Z"
   },
   {
    "duration": 9,
    "start_time": "2022-12-23T14:09:09.157Z"
   },
   {
    "duration": 150,
    "start_time": "2022-12-23T14:09:09.168Z"
   },
   {
    "duration": 4,
    "start_time": "2022-12-23T14:09:09.319Z"
   },
   {
    "duration": 35,
    "start_time": "2022-12-23T14:09:09.325Z"
   },
   {
    "duration": 170,
    "start_time": "2022-12-23T14:09:09.362Z"
   },
   {
    "duration": 9,
    "start_time": "2022-12-23T14:09:09.534Z"
   },
   {
    "duration": 10,
    "start_time": "2022-12-23T14:09:09.551Z"
   },
   {
    "duration": 26,
    "start_time": "2022-12-23T14:09:09.562Z"
   },
   {
    "duration": 226,
    "start_time": "2022-12-23T14:09:09.589Z"
   },
   {
    "duration": 161,
    "start_time": "2022-12-23T14:09:09.817Z"
   },
   {
    "duration": 20,
    "start_time": "2022-12-23T14:09:09.980Z"
   },
   {
    "duration": 6,
    "start_time": "2022-12-23T14:09:10.002Z"
   },
   {
    "duration": 30,
    "start_time": "2022-12-23T14:09:10.009Z"
   },
   {
    "duration": 28,
    "start_time": "2022-12-23T14:09:10.040Z"
   },
   {
    "duration": 7,
    "start_time": "2022-12-23T14:09:10.069Z"
   },
   {
    "duration": 11,
    "start_time": "2022-12-23T14:09:10.077Z"
   },
   {
    "duration": 25,
    "start_time": "2022-12-23T14:09:10.090Z"
   },
   {
    "duration": 348,
    "start_time": "2022-12-23T14:09:10.117Z"
   },
   {
    "duration": 5,
    "start_time": "2022-12-23T14:09:10.466Z"
   },
   {
    "duration": 293,
    "start_time": "2022-12-23T14:09:10.472Z"
   },
   {
    "duration": 14,
    "start_time": "2022-12-23T14:09:10.766Z"
   },
   {
    "duration": 8,
    "start_time": "2022-12-23T14:09:10.781Z"
   },
   {
    "duration": 301,
    "start_time": "2022-12-23T14:09:10.790Z"
   }
  ],
  "kernelspec": {
   "display_name": "Python 3 (ipykernel)",
   "language": "python",
   "name": "python3"
  },
  "language_info": {
   "codemirror_mode": {
    "name": "ipython",
    "version": 3
   },
   "file_extension": ".py",
   "mimetype": "text/x-python",
   "name": "python",
   "nbconvert_exporter": "python",
   "pygments_lexer": "ipython3",
   "version": "3.9.12"
  },
  "toc": {
   "base_numbering": 1,
   "nav_menu": {},
   "number_sections": true,
   "sideBar": true,
   "skip_h1_title": true,
   "title_cell": "Table of Contents",
   "title_sidebar": "Contents",
   "toc_cell": true,
   "toc_position": {
    "height": "861.111px",
    "left": "34px",
    "top": "111.44px",
    "width": "473.188px"
   },
   "toc_section_display": true,
   "toc_window_display": true
  }
 },
 "nbformat": 4,
 "nbformat_minor": 5
}
